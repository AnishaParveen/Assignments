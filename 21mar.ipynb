{
 "cells": [
  {
   "cell_type": "markdown",
   "id": "afe7ab4a-8784-42fb-b511-e4f6abf3e321",
   "metadata": {},
   "source": [
    "Q1. What is the difference between Ordinal Encoding and Label Encoding? Provide an example of when you\n",
    "might choose one over the other.\n",
    "\n",
    "ans->Ordinal encoding is typically used when there is an inherent order or ranking among the categories in the categorical feature.Label encoding is used when there is no inherent order or ranking among the categories in the categorical feature, and you simply want to convert them to numerical labels.\n",
    "\n",
    "For example, in a real estate prediction model, you might use ordinal encoding for a feature like \"Condition,\" where the categories are \"Poor,\" \"Fair,\" \"Good,\" and \"Excellent,\" as there is a clear ranking. However, for a feature like \"Neighborhood,\" you would use label encoding, as there's no inherent order among different neighborhoods."
   ]
  },
  {
   "cell_type": "markdown",
   "id": "d69d4f2d-1541-41e4-a1f7-e6fb17951ce1",
   "metadata": {},
   "source": [
    "Q2. Explain how Target Guided Ordinal Encoding works and provide an example of when you might use it in\n",
    "a machine learning project.\n",
    "\n",
    "ans->Target Guided Ordinal Encoding is a method to convert categorical variables into ordinal labels based on their statistical relationship with the target variable in a supervised machine learning problem. It's useful when you want to capture the impact of categories on the target variable. For example, in customer churn prediction, you can use it to assign ordinal labels to contract types based on their association with churn rates, helping the model make better predictions."
   ]
  },
  {
   "cell_type": "markdown",
   "id": "ebcc4337-6f64-4524-a8fb-b1aae8fff599",
   "metadata": {},
   "source": [
    "Q3. Define covariance and explain why it is important in statistical analysis. How is covariance calculated?\n",
    "\n",
    "ans->covariance is a statistical measure that quantifies how two variables change together. It's important in statistical analysis because it helps us understand the relationship between variables, whether it's positive or negative. However, it can be sensitive to variable scales and only captures linear relationships, so correlation coefficients are often preferred for more standardized and interpretable measures of association.\n"
   ]
  },
  {
   "cell_type": "code",
   "execution_count": 1,
   "id": "b682c1e1-f00f-49c6-be20-48643edb3a9b",
   "metadata": {},
   "outputs": [
    {
     "name": "stdout",
     "output_type": "stream",
     "text": [
      "Covariance: -2.5\n"
     ]
    }
   ],
   "source": [
    "import numpy as np\n",
    "X = np.array([1, 2, 3, 4, 5])\n",
    "Y = np.array([5, 4, 3, 2, 1])\n",
    "covariance = np.cov(X, Y)[0, 1]\n",
    "print(\"Covariance:\", covariance)\n"
   ]
  },
  {
   "cell_type": "markdown",
   "id": "e67dfe1b-3be8-42e8-8674-652a969e7fbd",
   "metadata": {},
   "source": [
    "Q4. For a dataset with the following categorical variables: Color (red, green, blue), Size (small, medium,\n",
    "large), and Material (wood, metal, plastic), perform label encoding using Python's scikit-learn library.\n",
    "Show your code and explain the output."
   ]
  },
  {
   "cell_type": "code",
   "execution_count": 5,
   "id": "cd7f8bca-ef88-4e7c-b09b-504e521ab1e1",
   "metadata": {},
   "outputs": [
    {
     "data": {
      "text/html": [
       "<div>\n",
       "<style scoped>\n",
       "    .dataframe tbody tr th:only-of-type {\n",
       "        vertical-align: middle;\n",
       "    }\n",
       "\n",
       "    .dataframe tbody tr th {\n",
       "        vertical-align: top;\n",
       "    }\n",
       "\n",
       "    .dataframe thead th {\n",
       "        text-align: right;\n",
       "    }\n",
       "</style>\n",
       "<table border=\"1\" class=\"dataframe\">\n",
       "  <thead>\n",
       "    <tr style=\"text-align: right;\">\n",
       "      <th></th>\n",
       "      <th>color</th>\n",
       "      <th>Size</th>\n",
       "      <th>material</th>\n",
       "    </tr>\n",
       "  </thead>\n",
       "  <tbody>\n",
       "    <tr>\n",
       "      <th>0</th>\n",
       "      <td>red</td>\n",
       "      <td>small</td>\n",
       "      <td>wood</td>\n",
       "    </tr>\n",
       "    <tr>\n",
       "      <th>1</th>\n",
       "      <td>green</td>\n",
       "      <td>medium</td>\n",
       "      <td>metal</td>\n",
       "    </tr>\n",
       "    <tr>\n",
       "      <th>2</th>\n",
       "      <td>blue</td>\n",
       "      <td>large</td>\n",
       "      <td>plastic</td>\n",
       "    </tr>\n",
       "  </tbody>\n",
       "</table>\n",
       "</div>"
      ],
      "text/plain": [
       "   color    Size material\n",
       "0    red   small     wood\n",
       "1  green  medium    metal\n",
       "2   blue   large  plastic"
      ]
     },
     "execution_count": 5,
     "metadata": {},
     "output_type": "execute_result"
    }
   ],
   "source": [
    "import pandas as pd\n",
    "df=pd.DataFrame({\n",
    "    'color' :['red', 'green', 'blue'],\n",
    "    'Size' :['small', 'medium', 'large'],\n",
    "    'material':['wood', 'metal', 'plastic']\n",
    "})\n",
    "df"
   ]
  },
  {
   "cell_type": "code",
   "execution_count": 11,
   "id": "32b19e28-f571-41a8-aea0-9f4b4a419f67",
   "metadata": {},
   "outputs": [],
   "source": [
    "from sklearn.preprocessing import LabelEncoder\n",
    "encoder=LabelEncoder()"
   ]
  },
  {
   "cell_type": "code",
   "execution_count": 15,
   "id": "b9e567b2-1795-4c32-8808-10cd99c025f9",
   "metadata": {},
   "outputs": [
    {
     "name": "stderr",
     "output_type": "stream",
     "text": [
      "/opt/conda/lib/python3.10/site-packages/sklearn/preprocessing/_label.py:116: DataConversionWarning: A column-vector y was passed when a 1d array was expected. Please change the shape of y to (n_samples, ), for example using ravel().\n",
      "  y = column_or_1d(y, warn=True)\n"
     ]
    },
    {
     "data": {
      "text/plain": [
       "array([2, 1, 0])"
      ]
     },
     "execution_count": 15,
     "metadata": {},
     "output_type": "execute_result"
    }
   ],
   "source": [
    "encoder.fit_transform(df[['color']])"
   ]
  },
  {
   "cell_type": "code",
   "execution_count": 16,
   "id": "21130b1e-b213-44f9-9f9a-ea27b85aaffb",
   "metadata": {},
   "outputs": [
    {
     "name": "stderr",
     "output_type": "stream",
     "text": [
      "/opt/conda/lib/python3.10/site-packages/sklearn/preprocessing/_label.py:116: DataConversionWarning: A column-vector y was passed when a 1d array was expected. Please change the shape of y to (n_samples, ), for example using ravel().\n",
      "  y = column_or_1d(y, warn=True)\n"
     ]
    },
    {
     "data": {
      "text/plain": [
       "array([2, 1, 0])"
      ]
     },
     "execution_count": 16,
     "metadata": {},
     "output_type": "execute_result"
    }
   ],
   "source": [
    "encoder.fit_transform(df[['Size']])"
   ]
  },
  {
   "cell_type": "code",
   "execution_count": 17,
   "id": "71089250-6f76-481a-a5fa-aab1be229318",
   "metadata": {},
   "outputs": [
    {
     "name": "stderr",
     "output_type": "stream",
     "text": [
      "/opt/conda/lib/python3.10/site-packages/sklearn/preprocessing/_label.py:116: DataConversionWarning: A column-vector y was passed when a 1d array was expected. Please change the shape of y to (n_samples, ), for example using ravel().\n",
      "  y = column_or_1d(y, warn=True)\n"
     ]
    },
    {
     "data": {
      "text/plain": [
       "array([2, 0, 1])"
      ]
     },
     "execution_count": 17,
     "metadata": {},
     "output_type": "execute_result"
    }
   ],
   "source": [
    "encoder.fit_transform(df[['material']])"
   ]
  },
  {
   "cell_type": "markdown",
   "id": "e89cbc77-bc0c-4a6b-9157-015e4d7ea416",
   "metadata": {},
   "source": [
    "The 'Color' column has been encoded as [2, 1, 0], where 'red' is 2, 'green' is 1, and 'blue' is 0.\n",
    "\n",
    "The 'Size' column has been encoded as [2, 1, 0], where 'small' is 2, 'medium' is 1, and 'large' is 0.\n",
    "\n",
    "The 'Material' column has been encoded as [2, 1, 0], where 'wood' is 2, 'metal' is 1, and 'plastic' is 0."
   ]
  },
  {
   "cell_type": "markdown",
   "id": "696c4202-7307-4df2-b236-0db0918290e7",
   "metadata": {},
   "source": [
    "Q5. Calculate the covariance matrix for the following variables in a dataset: Age, Income, and Education\n",
    "level. Interpret the results."
   ]
  },
  {
   "cell_type": "code",
   "execution_count": 20,
   "id": "cb7b54ab-cca8-4c26-9135-fcc46a200e80",
   "metadata": {},
   "outputs": [
    {
     "name": "stdout",
     "output_type": "stream",
     "text": [
      "[[6.250e+01 9.375e+02 2.250e+01]\n",
      " [9.375e+02 1.450e+04 3.250e+02]\n",
      " [2.250e+01 3.250e+02 1.000e+01]]\n"
     ]
    }
   ],
   "source": [
    "age = [30, 35, 40, 45, 50]\n",
    "income = [500, 600, 700, 750, 800]\n",
    "education_level = [12, 16, 14, 18, 20]\n",
    "data_matrix = np.array([age, income, education_level])\n",
    "covariance_matrix = np.cov(data_matrix)\n",
    "print(covariance_matrix)"
   ]
  },
  {
   "cell_type": "markdown",
   "id": "6d03c2c4-60a8-4704-9b8b-d7b3937d85a2",
   "metadata": {},
   "source": [
    "Q6. You are working on a machine learning project with a dataset containing several categorical\n",
    "variables, including \"Gender\" (Male/Female), \"Education Level\" (High School/Bachelor's/Master's/PhD),\n",
    "and \"Employment Status\" (Unemployed/Part-Time/Full-Time). Which encoding method would you use for\n",
    "each variable, and why?\n",
    "\n",
    "ans-> binary encoding or label encoding for \"Gender\" because it has only two categories.\n",
    "\n",
    " ordinal encoding or target-guided ordinal encoding for \"Education Level\" because it has an ordered relationship\n",
    "\n",
    " one-hot encoding for \"Employment Status\" because it's a nominal categorical variable without an inherent order, and all categories are equally distant."
   ]
  },
  {
   "cell_type": "markdown",
   "id": "e53ec44a-3424-4ff5-b062-b34312a12d53",
   "metadata": {},
   "source": [
    "Q7. You are analyzing a dataset with two continuous variables, \"Temperature\" and \"Humidity\", and two\n",
    "categorical variables, \"Weather Condition\" (Sunny/Cloudy/Rainy) and \"Wind Direction\" (North/South/\n",
    "East/West). Calculate the covariance between each pair of variables and interpret the results."
   ]
  },
  {
   "cell_type": "code",
   "execution_count": 24,
   "id": "b862f40e-b9ef-4942-9651-4c59b919c30a",
   "metadata": {},
   "outputs": [
    {
     "name": "stdout",
     "output_type": "stream",
     "text": [
      "[[62.5 62.5]\n",
      " [62.5 62.5]]\n"
     ]
    }
   ],
   "source": [
    "temperature = [75, 80, 85, 90, 95]\n",
    "humidity = [40, 45, 50, 55, 60]\n",
    "data_matrix_continuous = np.array([temperature, humidity])\n",
    "covariance_continuous = np.cov(data_matrix_continuous)\n",
    "print(covariance_continuous)"
   ]
  },
  {
   "cell_type": "code",
   "execution_count": null,
   "id": "2a62595f-66b2-4c02-b9d4-6f596b101c00",
   "metadata": {},
   "outputs": [],
   "source": []
  }
 ],
 "metadata": {
  "kernelspec": {
   "display_name": "Python 3 (ipykernel)",
   "language": "python",
   "name": "python3"
  },
  "language_info": {
   "codemirror_mode": {
    "name": "ipython",
    "version": 3
   },
   "file_extension": ".py",
   "mimetype": "text/x-python",
   "name": "python",
   "nbconvert_exporter": "python",
   "pygments_lexer": "ipython3",
   "version": "3.10.8"
  }
 },
 "nbformat": 4,
 "nbformat_minor": 5
}
