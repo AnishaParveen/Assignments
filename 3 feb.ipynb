{
 "cells": [
  {
   "cell_type": "markdown",
   "id": "e018f2e6-2439-4834-835a-992f3fb5c89f",
   "metadata": {},
   "source": [
    "Q1. Which keyword is used to create a function? Create a function to return a list of odd numbers in the\n",
    "range of 1 to 25.\n",
    "\n",
    "ans-> \"def\" keyword is used to create a function."
   ]
  },
  {
   "cell_type": "code",
   "execution_count": null,
   "id": "c71409f4-837d-4add-8589-c423581c0273",
   "metadata": {},
   "outputs": [],
   "source": [
    "def odd(n):\n",
    "    l=[]\n",
    "    for i in range(1,n+1):\n",
    "        if i%2==1:\n",
    "            l.append(i)\n",
    "    return l   "
   ]
  },
  {
   "cell_type": "code",
   "execution_count": null,
   "id": "4ae3a8f5-d815-46b8-aed4-8b93d2b62446",
   "metadata": {},
   "outputs": [],
   "source": [
    "odd(25)"
   ]
  },
  {
   "cell_type": "markdown",
   "id": "75b2f2d5-8e24-4b5a-9e9c-58df2e899fa7",
   "metadata": {},
   "source": [
    "Q2. Why *args and **kwargs is used in some functions? Create a function each for *args and **kwargs to\n",
    "demonstrate their use.\n",
    "\n",
    "ans->We use *args  as an argument when we are unsure about the number of arguments to pass in the functions. We use **kwargs  as an argument when we want to pass the arguments as a key & value pair just like dictionary."
   ]
  },
  {
   "cell_type": "code",
   "execution_count": null,
   "id": "698c35b3-eefb-4300-aeaf-9a859adeb1fc",
   "metadata": {},
   "outputs": [],
   "source": [
    "def test1(*args):\n",
    "        return args"
   ]
  },
  {
   "cell_type": "code",
   "execution_count": 4,
   "id": "b488d672-e9bb-4fbb-a1a7-d9c11d3a9aee",
   "metadata": {},
   "outputs": [
    {
     "data": {
      "text/plain": [
       "(1, 2, 3, 4.4, 'hiii')"
      ]
     },
     "execution_count": 4,
     "metadata": {},
     "output_type": "execute_result"
    }
   ],
   "source": [
    "test1(1,2,3,4.4,\"hiii\")"
   ]
  },
  {
   "cell_type": "code",
   "execution_count": null,
   "id": "4f6e97ba-b157-495c-9e59-1435c8133a4c",
   "metadata": {},
   "outputs": [],
   "source": [
    "def test2(**kwargs):\n",
    "        return kwargs"
   ]
  },
  {
   "cell_type": "code",
   "execution_count": null,
   "id": "8b7614bd-0e52-4f14-9e04-eab11538c6db",
   "metadata": {},
   "outputs": [],
   "source": [
    "test2(a=2,b=4,c=6)"
   ]
  },
  {
   "cell_type": "markdown",
   "id": "5284d073-547a-46a8-aceb-35ce4dbd4eac",
   "metadata": {},
   "source": [
    "Q3. What is an iterator in python? Name the method used to initialise the iterator object and the method\n",
    "used for iteration. Use these methods to print the first five elements of the given list [2, 4, 6, 8, 10, 12, 14, 16,\n",
    "18, 20].\n",
    "\n",
    "ans->Iterator in Python is an object that is used to iterate over iterable objects like lists, tuples, dicts, and sets.\n",
    "\n",
    "the iter() the method used to initialise the iterator object and the next()method\n",
    "used for iteration."
   ]
  },
  {
   "cell_type": "code",
   "execution_count": 35,
   "id": "eeaad5a4-6e7d-4baf-9db2-a37e51705c43",
   "metadata": {},
   "outputs": [
    {
     "name": "stdout",
     "output_type": "stream",
     "text": [
      "2\n",
      "4\n",
      "6\n",
      "8\n",
      "10\n"
     ]
    }
   ],
   "source": [
    "l= [2, 4, 6, 8, 10, 12, 14, 16,18, 20]\n",
    "l1=iter(l)\n",
    "for i in range(1,6):\n",
    "    print(next(l1))\n"
   ]
  },
  {
   "cell_type": "markdown",
   "id": "f3137468-5419-40f7-b1a7-b3891776c2d8",
   "metadata": {},
   "source": [
    "Q4. What is a generator function in python? Why yield keyword is used? Give an example of a generator\n",
    "function.\n",
    "\n",
    "ans->a functions which  allows to declare a function that behaves likes an iterator, \n",
    "allowing programmers to make an iterator in a fast, easy, and clean way that is known as generator function. ex- range()\n",
    "\n",
    "We should use yield when we want to iterate over a sequence, but don't want to store the entire sequence in memory. "
   ]
  },
  {
   "cell_type": "code",
   "execution_count": 1,
   "id": "966610ee-8b6a-4250-9f61-4575199ebf1a",
   "metadata": {},
   "outputs": [],
   "source": [
    "def fibo(n):\n",
    "    a,b=0,1\n",
    "    for i in range(n):\n",
    "        yield a\n",
    "        a,b=b,a+b"
   ]
  },
  {
   "cell_type": "code",
   "execution_count": 3,
   "id": "481fd379-2c67-4639-99a5-5bead3b28a88",
   "metadata": {},
   "outputs": [
    {
     "name": "stdout",
     "output_type": "stream",
     "text": [
      "0,1,1,2,3,5,8,13,21,34,"
     ]
    }
   ],
   "source": [
    "for i in fibo(10) :\n",
    "    print(i,end=\",\")"
   ]
  },
  {
   "cell_type": "markdown",
   "id": "b2a7c1ca-db68-48a5-a8d4-d72cbd3d92fc",
   "metadata": {},
   "source": [
    "Q5. Create a generator function for prime numbers less than 1000. Use the next() method to print the\n",
    "first 20 prime numbers."
   ]
  },
  {
   "cell_type": "code",
   "execution_count": 42,
   "id": "9ae31c8c-4b66-4a7b-b1f3-8237b0f90688",
   "metadata": {},
   "outputs": [],
   "source": [
    "def prime():\n",
    "    l = []\n",
    "    for i in range(2, 1000):\n",
    "        is_prime = True\n",
    "        for p in l:\n",
    "            if i % p == 0:\n",
    "                is_prime = False\n",
    "                break\n",
    "        if is_prime:\n",
    "            l.append(i)\n",
    "            yield i\n",
    "             "
   ]
  },
  {
   "cell_type": "code",
   "execution_count": null,
   "id": "c226a06a-fdb0-4548-9087-c3ad33d1a937",
   "metadata": {},
   "outputs": [],
   "source": [
    "x = prime()\n",
    "for i in range(20):\n",
    "    print(next(x))"
   ]
  },
  {
   "cell_type": "code",
   "execution_count": null,
   "id": "662ddd83-b27f-494e-aedb-dc57e24cb1ba",
   "metadata": {},
   "outputs": [],
   "source": []
  },
  {
   "cell_type": "code",
   "execution_count": null,
   "id": "6dcdcddc-b36c-403b-a3e0-2739423c7248",
   "metadata": {},
   "outputs": [],
   "source": []
  },
  {
   "cell_type": "code",
   "execution_count": null,
   "id": "5d7c6f0c-4ffe-4f02-803e-b3545082666c",
   "metadata": {},
   "outputs": [],
   "source": []
  },
  {
   "cell_type": "code",
   "execution_count": null,
   "id": "8ccd3d92-21b6-4225-8389-beccbafc022d",
   "metadata": {},
   "outputs": [],
   "source": []
  }
 ],
 "metadata": {
  "kernelspec": {
   "display_name": "Python 3 (ipykernel)",
   "language": "python",
   "name": "python3"
  },
  "language_info": {
   "codemirror_mode": {
    "name": "ipython",
    "version": 3
   },
   "file_extension": ".py",
   "mimetype": "text/x-python",
   "name": "python",
   "nbconvert_exporter": "python",
   "pygments_lexer": "ipython3",
   "version": "3.10.8"
  }
 },
 "nbformat": 4,
 "nbformat_minor": 5
}
