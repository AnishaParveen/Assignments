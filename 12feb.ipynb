{
 "cells": [
  {
   "cell_type": "markdown",
   "id": "472303af-d04d-495e-ac0d-6e1912775cfc",
   "metadata": {},
   "source": [
    "Q1. what is an exception in python? write the differance between exception and syntax error?\n",
    "\n",
    "ans->An exception is an event, which occurs during the execution of a program that disrupts the normal flow of the program's instructions\n",
    "\n",
    "Errors are the problems in a program due to which the program will stop the execution. On the other hand, exceptions are raised when some internal events occur which changes the normal flow of the program. Errors cannot be handled, while Python exceptions can be handled at the run time. An error can be a syntax (parsing) error, while there can be many types of exceptions that could occur during the execution and are not unconditionally inoperable."
   ]
  },
  {
   "cell_type": "markdown",
   "id": "70b92f1f-91c1-4619-ac8d-941f9219883f",
   "metadata": {},
   "source": [
    "Q2. What happens when an exception is not handled?explain with example.\n",
    "\n",
    "ans->the runtime system will abort the program and an exception message will print to the console."
   ]
  },
  {
   "cell_type": "code",
   "execution_count": 1,
   "id": "3e797177-2039-4136-8620-a1fc07ecd510",
   "metadata": {},
   "outputs": [
    {
     "name": "stdout",
     "output_type": "stream",
     "text": [
      "error found!! [Errno 2] No such file or directory: 'test1.txt'\n"
     ]
    }
   ],
   "source": [
    "try:\n",
    "    f=open(\"test1.txt\",'r')\n",
    "    f.write(\"this is my msg\")\n",
    "except Exception as e:\n",
    "    print(\"error found!!\",e)\n",
    "else:\n",
    "         f.close()\n",
    "         print(\"this block will execute once try block will execute itself without an exception\")"
   ]
  },
  {
   "cell_type": "markdown",
   "id": "211dc0ed-4de9-4126-afe9-e4bf55f2c32a",
   "metadata": {},
   "source": [
    "Q3. Which python statements are used to catch and handle exception? explain with example\n",
    "\n",
    "ans->The try and except block in Python is used to catch and handle exceptions.The code that follows the except statement is the program’s response to any exceptions in the preceding try clause."
   ]
  },
  {
   "cell_type": "code",
   "execution_count": 2,
   "id": "57a30504-da97-4c23-ad08-d92c7717e56f",
   "metadata": {},
   "outputs": [
    {
     "name": "stdout",
     "output_type": "stream",
     "text": [
      "error found!! name 'a' is not defined\n"
     ]
    }
   ],
   "source": [
    "try:\n",
    "    a/0\n",
    "except Exception as e:\n",
    "    print(\"error found!!\",e)"
   ]
  },
  {
   "cell_type": "markdown",
   "id": "e54dc91a-f374-4ef8-83c2-0dd6864f7a23",
   "metadata": {},
   "source": [
    "Q4. Explain with an example:try and else,finally,raise\n",
    "\n",
    "ans->Try: This block will test the excepted error to occur\n",
    "Except:  Here you can handle the error\n",
    "Else: If there is no exception then this block will be executed\n",
    "Finally: Finally block always gets executed either exception is generated or not\n",
    "Raise:You can define what kind of error to raise, and the text to print to the user."
   ]
  },
  {
   "cell_type": "code",
   "execution_count": null,
   "id": "d3949c82-def7-4841-8a50-107f36092d38",
   "metadata": {},
   "outputs": [],
   "source": [
    "try:\n",
    "    f=open(\"test1.txt\",'r')\n",
    "    f.write(\"this is my msg\")\n",
    "except Exception as e:\n",
    "    print(\"error found!!\",e)\n",
    "else:\n",
    "         f.close()\n",
    "         print(\"this block will execute once try block will execute itself without an exception\")\n",
    "finally:\n",
    "    print(\"it will always execute\")"
   ]
  },
  {
   "cell_type": "code",
   "execution_count": 7,
   "id": "d11a83e8-c0f7-41b8-8128-aefb491a26d5",
   "metadata": {},
   "outputs": [
    {
     "name": "stdout",
     "output_type": "stream",
     "text": [
      "B\n",
      "C\n"
     ]
    }
   ],
   "source": [
    "class B(Exception):\n",
    "    pass\n",
    "class C(B):\n",
    "    pass\n",
    "for cls in [B,C]:\n",
    "    try:\n",
    "        raise cls()\n",
    "    except C:\n",
    "        print(\"C\")\n",
    "    except B:\n",
    "        print(\"B\")"
   ]
  },
  {
   "cell_type": "markdown",
   "id": "4b41b503-7f27-4ac4-9291-c38f2b9b07c2",
   "metadata": {},
   "source": [
    "Q5. What are Custom Exceptions in python? Why do we need Custom Exceptions? Explain with an example\n",
    "\n",
    "ans->In Python, we can define custom exceptions by creating a new class that is derived from the built-in Exception class.\n",
    "\n",
    "the reasons to use custom exceptions: To catch and provide specific treatment to existing  exceptions."
   ]
  },
  {
   "cell_type": "code",
   "execution_count": null,
   "id": "35e6a484-a9f7-4dc2-b7b6-41aacf95baeb",
   "metadata": {},
   "outputs": [],
   "source": [
    "class validateage(Exception):\n",
    "    def __init__(self,msg):\n",
    "        self.msg=msg\n",
    "def validate(age):\n",
    "    if age<0:\n",
    "        raise validateage(\"age can't be negative\")\n",
    "    elif age>200:\n",
    "        raise validateage(\"age is too high\")\n",
    "    else:\n",
    "        print(\"valid age\")"
   ]
  },
  {
   "cell_type": "code",
   "execution_count": 5,
   "id": "2eefdec7-0f68-4652-b015-37acda161a7c",
   "metadata": {},
   "outputs": [
    {
     "name": "stdin",
     "output_type": "stream",
     "text": [
      "enter your age -20\n"
     ]
    },
    {
     "name": "stdout",
     "output_type": "stream",
     "text": [
      "age can't be negative\n"
     ]
    }
   ],
   "source": [
    "try:\n",
    "    age=int(input(\"enter your age\"))\n",
    "    validate(age)\n",
    "except validateage as e:\n",
    "    print(e)"
   ]
  },
  {
   "cell_type": "markdown",
   "id": "69a67d24-5ff4-4cd5-887a-b162e42ffabd",
   "metadata": {},
   "source": [
    "Q6. Create custom exception class. Use this ,class to handlen exception."
   ]
  },
  {
   "cell_type": "code",
   "execution_count": 11,
   "id": "9dd805ce-46d1-4533-a57d-6d310c437b4d",
   "metadata": {},
   "outputs": [],
   "source": [
    "class SalaryNotInRangeError(Exception):\n",
    "\n",
    "    def __init__(self, salary, message=\"Salary is not in (5000, 15000) range\"):\n",
    "        self.salary = salary\n",
    "        self.message = message\n",
    "        super().__init__(self.message)\n",
    "\n",
    "def check(salary):\n",
    "\n",
    "    if not 5000 < salary < 15000:\n",
    "        raise SalaryNotInRangeError(salary)"
   ]
  },
  {
   "cell_type": "code",
   "execution_count": null,
   "id": "a996253c-0488-4d12-bd0d-eb51c87c7c30",
   "metadata": {},
   "outputs": [],
   "source": [
    "try:\n",
    "    salary = int(input(\"Enter salary amount: \"))\n",
    "    check(salary)\n",
    "except SalaryNotInRangeError as e:\n",
    "    print(e)"
   ]
  },
  {
   "cell_type": "code",
   "execution_count": null,
   "id": "fd5cbac5-614e-4f14-a6dd-631f2106a072",
   "metadata": {},
   "outputs": [],
   "source": []
  }
 ],
 "metadata": {
  "kernelspec": {
   "display_name": "Python 3 (ipykernel)",
   "language": "python",
   "name": "python3"
  },
  "language_info": {
   "codemirror_mode": {
    "name": "ipython",
    "version": 3
   },
   "file_extension": ".py",
   "mimetype": "text/x-python",
   "name": "python",
   "nbconvert_exporter": "python",
   "pygments_lexer": "ipython3",
   "version": "3.10.8"
  }
 },
 "nbformat": 4,
 "nbformat_minor": 5
}
