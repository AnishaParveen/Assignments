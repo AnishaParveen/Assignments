{
 "cells": [
  {
   "cell_type": "markdown",
   "id": "966ab89d-66c7-467c-b791-6ff9a19ddc58",
   "metadata": {},
   "source": [
    "Q1. What is Bayes' theorem?\n",
    "\n",
    "Q2. What is the formula for Bayes' theorem?\n",
    "\n",
    "ans->Bayes' theorem is a mathematical formula that describes how to update the probability of a hypothesis (or event) based on new evidence or information. It is named after Thomas Bayes, an 18th-century mathematician. The theorem is expressed as:\n",
    "\n",
    "P(A∣B)= (P(B∣A)×P(A))/P(B)\n",
    "\n",
    " \n",
    "\n",
    "Where:\n",
    "P(A∣B) is the probability of event A given event B (posterior probability).\n",
    "\n",
    "P(B∣A) is the probability of event B given event A (likelihood).\n",
    "\n",
    "P(A) and P(B) are the probabilities of events A and B independently (prior probabilities).\n",
    "In simpler terms, Bayes' theorem helps us update our beliefs about the probability of an event occurring (A) after considering new evidence (B).\n",
    "\n",
    "\n",
    "\n",
    "\n",
    "\n"
   ]
  },
  {
   "cell_type": "markdown",
   "id": "7310e3ec-2094-41e6-9c7c-f19d439a0cb7",
   "metadata": {},
   "source": [
    "Q3. How is Bayes' theorem used in practice?\n",
    "\n",
    "ans->Bayes' theorem is used in practice to:\n",
    "\n",
    "Predict outcomes in medical diagnoses,\n",
    "Filter spam emails,\n",
    "Power recommendation systems,\n",
    "Enhance machine learning algorithms,\n",
    "Analyze risk and make decisions in finance,\n",
    "Improve search algorithms."
   ]
  },
  {
   "cell_type": "markdown",
   "id": "456f4872-91a7-492e-9839-429033adb613",
   "metadata": {},
   "source": [
    "Q4. What is the relationship between Bayes' theorem and conditional probability?\n",
    "\n",
    "ans->Bayes' theorem is derived from conditional probability. It provides a way to calculate conditional probability in reverse. Specifically, Bayes' theorem relates the conditional probability of two events to their individual probabilities."
   ]
  },
  {
   "cell_type": "markdown",
   "id": "be780720-08f2-4ea1-8eb4-628d67b5179d",
   "metadata": {},
   "source": [
    "Q5. How do you choose which type of Naive Bayes classifier to use for any given problem?\n",
    "\n",
    "ans->Choosing between these depends on the specific characteristics of your data:\n",
    "\n",
    "1.For continuous features that are normally distributed, Gaussian Naive Bayes is appropriate.\n",
    "\n",
    "2.For text classification with counts or frequencies, Multinomial Naive Bayes is often used.\n",
    "\n",
    "3.For binary features, like presence or absence of a feature, Bernoulli Naive Bayes is suitable."
   ]
  },
  {
   "cell_type": "markdown",
   "id": "7359e85e-cf66-4128-81e7-92fcd944490f",
   "metadata": {},
   "source": [
    "Q6. Assignment:\n",
    "    \n",
    "    \n",
    "P(A)= 7/18,P(B)= 11/18\n",
    "\n",
    "P(X1=3∣A)=4/16,P(X2=4∣A)=3/16\n",
    "\n",
    "P(X1=3∣B)=1/11,P(X2=4∣B)=3/11\n",
    "\n",
    "after the calculation the normalized probability of class A=0.598 and class B=0.402\n",
    "\n",
    "the Naive Bayes classifier would predict that the new instance with X1=3 and X2=4 belongs to Class A."
   ]
  },
  {
   "cell_type": "markdown",
   "id": "3ebc3a7d-387e-43c5-a8aa-64ba1e38182b",
   "metadata": {},
   "source": []
  }
 ],
 "metadata": {
  "kernelspec": {
   "display_name": "Python 3 (ipykernel)",
   "language": "python",
   "name": "python3"
  },
  "language_info": {
   "codemirror_mode": {
    "name": "ipython",
    "version": 3
   },
   "file_extension": ".py",
   "mimetype": "text/x-python",
   "name": "python",
   "nbconvert_exporter": "python",
   "pygments_lexer": "ipython3",
   "version": "3.10.8"
  }
 },
 "nbformat": 4,
 "nbformat_minor": 5
}
