{
 "cells": [
  {
   "cell_type": "markdown",
   "id": "1a0e31b3-195b-4d89-83f7-0e9230d0107e",
   "metadata": {},
   "source": [
    "Q1. What are the three measures of central tendency?\n",
    "\n",
    "ans->Mean, Median, Mode."
   ]
  },
  {
   "cell_type": "markdown",
   "id": "295c5309-cc91-4dbb-ac67-f2f309efa23a",
   "metadata": {},
   "source": [
    "Q2. What is the difference between the mean, median, and mode? How are they used to measure the central tendency of a dataset?\n",
    "\n",
    "ans->Mean is the average of all values, median is the middle value, and mode is the most frequent value. They show different aspects of a dataset's central tendency. Mean is sensitive to outliers, median is robust to outliers, and mode shows the most common value.\n",
    "\n",
    "Each helps understand where data clusters and how it's distributed."
   ]
  },
  {
   "cell_type": "markdown",
   "id": "471a8f01-b766-4cf8-b005-7be29ea1bcc0",
   "metadata": {},
   "source": [
    "Q3. Measure the three measures of central tendency for the given height data  [178,177,176,177,178.2,178,175,179,180,175,178.9,176.2,177,172.5,178,176.5]"
   ]
  },
  {
   "cell_type": "code",
   "execution_count": 13,
   "id": "8481adda-0bf1-440f-87fd-033804f43de8",
   "metadata": {},
   "outputs": [
    {
     "data": {
      "text/plain": [
       "0    177.01875\n",
       "dtype: float64"
      ]
     },
     "execution_count": 13,
     "metadata": {},
     "output_type": "execute_result"
    }
   ],
   "source": [
    "import pandas as pd\n",
    "df1=pd.DataFrame([178,177,176,177,178.2,178,175,179,180,175,178.9,176.2,177,172.5,178,176.5])\n",
    "df1.mean()"
   ]
  },
  {
   "cell_type": "code",
   "execution_count": 14,
   "id": "998f73a2-701a-4cd2-b365-6c2107711093",
   "metadata": {},
   "outputs": [
    {
     "data": {
      "text/plain": [
       "0    177.0\n",
       "dtype: float64"
      ]
     },
     "execution_count": 14,
     "metadata": {},
     "output_type": "execute_result"
    }
   ],
   "source": [
    "df1.median()"
   ]
  },
  {
   "cell_type": "code",
   "execution_count": 16,
   "id": "5ff049a8-742e-4ea0-bc7c-0d32bafc037b",
   "metadata": {},
   "outputs": [
    {
     "data": {
      "text/html": [
       "<div>\n",
       "<style scoped>\n",
       "    .dataframe tbody tr th:only-of-type {\n",
       "        vertical-align: middle;\n",
       "    }\n",
       "\n",
       "    .dataframe tbody tr th {\n",
       "        vertical-align: top;\n",
       "    }\n",
       "\n",
       "    .dataframe thead th {\n",
       "        text-align: right;\n",
       "    }\n",
       "</style>\n",
       "<table border=\"1\" class=\"dataframe\">\n",
       "  <thead>\n",
       "    <tr style=\"text-align: right;\">\n",
       "      <th></th>\n",
       "      <th>0</th>\n",
       "    </tr>\n",
       "  </thead>\n",
       "  <tbody>\n",
       "    <tr>\n",
       "      <th>0</th>\n",
       "      <td>177.0</td>\n",
       "    </tr>\n",
       "    <tr>\n",
       "      <th>1</th>\n",
       "      <td>178.0</td>\n",
       "    </tr>\n",
       "  </tbody>\n",
       "</table>\n",
       "</div>"
      ],
      "text/plain": [
       "       0\n",
       "0  177.0\n",
       "1  178.0"
      ]
     },
     "execution_count": 16,
     "metadata": {},
     "output_type": "execute_result"
    }
   ],
   "source": [
    "df1.mode()\n"
   ]
  },
  {
   "cell_type": "markdown",
   "id": "b3b37a8f-bc32-4309-a16c-0516612badad",
   "metadata": {},
   "source": [
    "Q4. Find the standard deviation for the given data:\n",
    "[178,177,176,177,178.2,178,175,179,180,175,178.9,176.2,177,172.5,178,176.5]"
   ]
  },
  {
   "cell_type": "code",
   "execution_count": 20,
   "id": "111af47c-7b7f-4290-a106-a3190c3a60e0",
   "metadata": {},
   "outputs": [
    {
     "data": {
      "text/plain": [
       "0    1.847239\n",
       "dtype: float64"
      ]
     },
     "execution_count": 20,
     "metadata": {},
     "output_type": "execute_result"
    }
   ],
   "source": [
    "df2=pd.DataFrame([178,177,176,177,178.2,178,175,179,180,175,178.9,176.2,177,172.5,178,176.5])\n",
    "df2.std()"
   ]
  },
  {
   "cell_type": "markdown",
   "id": "be1af315-71c9-4fcb-ab6a-652a382ba54e",
   "metadata": {},
   "source": [
    "Q5. How are measures of dispersion such as range, variance, and standard deviation used to describe the spread of a dataset? Provide an example.\n",
    "\n",
    "ans-> Range: It's the difference between the maximum and minimum values. Provides a basic idea of spread but sensitive to outliers.\n",
    "\n",
    "Variance: It measures the average squared difference between each data point and the mean. A higher variance indicates greater spread.\n",
    "\n",
    "Standard Deviation: It's the square root of variance. Provides a measure in the original units and is commonly used due to its interpretability.\n",
    "\n",
    "Example:\n",
    "Consider two datasets:\n",
    "Dataset A: [5, 6, 7, 8, 9]\n",
    "Dataset B: [2, 5, 6, 10, 15]\n",
    "\n",
    "Range: Range(A) = 9 - 5 = 4; Range(B) = 15 - 2 = 13. B has a larger range, indicating more spread.\n",
    "Variance: Variance(A) ≈ 2; Variance(B) ≈ 22. B has higher variance, showing more dispersion.\n",
    "Standard Deviation: Std Deviation(A) ≈ 1.41; Std Deviation(B) ≈ 4.69. B has a larger standard deviation, indicating more spread."
   ]
  },
  {
   "cell_type": "markdown",
   "id": "ad5c8c01-1417-408c-92a9-6b27e23e2291",
   "metadata": {},
   "source": [
    "Q6. What is a Venn diagram?\n",
    "\n",
    "ans->A Venn diagram is a visual representation of the relationships between different sets of items. It consists of overlapping circles or other shapes, where each circle represents a set and the overlapping regions show the elements that belong to multiple sets. Venn diagrams are often used to illustrate concepts of set theory, logic, and the relationships between different groups or categories. They help to visualize commonalities and differences among sets."
   ]
  },
  {
   "cell_type": "markdown",
   "id": "49243853-a2d6-43c9-8091-7fea44dd6eef",
   "metadata": {},
   "source": [
    "Q7. For the two given sets A = (2,3,4,5,6,7) & B = (0,2,6,8,10). Find:\n",
    "\n",
    "(i) A ∩ B = {2, 6}\n",
    "\n",
    "(ii) A ⋃ B =  {0, 2, 3, 4, 5, 6, 7, 8, 10}"
   ]
  },
  {
   "cell_type": "markdown",
   "id": "2d4bb7ce-a7e5-439b-90bd-86207bc4f438",
   "metadata": {},
   "source": [
    "Q8. What do you understand about skewness in data?\n",
    "\n",
    "ans-> Skewness in data shows if it's tilted to one side. Positive skew means longer tail on the right, negative skew on the left. It affects data analysis choices.In a symmetric distribution, the data is evenly distributed on both sides of the center. Skewness can be positive, indicating a longer tail on the right side (right-skewed or positively skewed), or negative, indicating a longer tail on the left side (left-skewed or negatively skewed)."
   ]
  },
  {
   "cell_type": "markdown",
   "id": "fcb9bed3-cc0b-48c5-921b-fb23252589cd",
   "metadata": {},
   "source": [
    "Q9. If a data is right skewed then what will be the position of median with respect to mean?\n",
    "\n",
    "ans->In right-skewed data, the median is to the left of the mean.(mean>median)"
   ]
  },
  {
   "cell_type": "markdown",
   "id": "ac137e6f-c0e7-4932-8692-8383e3805513",
   "metadata": {},
   "source": [
    "Q10. Explain the difference between covariance and correlation. How are these measures used in statistical analysis?\n",
    "\n",
    "ans->Covariance: Covariance measures the extent to which two variables change together. A positive covariance indicates that as one variable increases, the other tends to increase as well, and vice versa. A negative covariance means that as one variable increases, the other tends to decrease. However, covariance doesn't provide a standardized measure and can be hard to interpret on its own.\n",
    "\n",
    "Correlation: Correlation is a standardized measure that quantifies the strength and direction of the linear relationship between two variables. It ranges from -1 to 1. A correlation of 1 indicates a perfect positive linear relationship, -1 indicates a perfect negative linear relationship, and 0 indicates no linear relationship.\n",
    "\n",
    "In statistical analysis:\n",
    "\n",
    "Covariance is used to understand how two variables vary together, but its magnitude can be affected by the scales of the variables.\n",
    "Correlation is used to assess the strength and direction of the linear relationship between variables. It's more interpretable and is not affected by scale differences."
   ]
  },
  {
   "cell_type": "markdown",
   "id": "4f062cdd-1c94-4a28-a01f-19eb47df30f7",
   "metadata": {},
   "source": [
    "Q11. What is the formula for calculating the sample mean? Provide an example calculation for a dataset.\n",
    "\n",
    "ans-> Sample Mean (x̄) = (Sum of all values) / (Number of values)\n",
    "\n",
    "Example calculation:\n",
    "Let's say we have the following dataset: [10, 15, 20, 25, 30]\n",
    "\n",
    "Sample Mean (x̄) = (10 + 15 + 20 + 25 + 30) / 5 = 20"
   ]
  },
  {
   "cell_type": "markdown",
   "id": "62064d65-fd24-405d-94e7-05df8cf30253",
   "metadata": {},
   "source": [
    "Q12. For a normal distribution data what is the relationship between its measure of central tendency?\n",
    "\n",
    "ans->for a symmetric normal distribution, the mean, median, and mode are all at the same central point.( mean=median=mode )"
   ]
  },
  {
   "cell_type": "markdown",
   "id": "3a8c0e6c-7ab4-4ce5-8e89-09e8b41c6d47",
   "metadata": {},
   "source": [
    "Q13. How is covariance different from correlation?\n",
    "\n",
    "ans-> Covariance measures the extent to which variables change together, while correlation quantifies the strength and direction of their linear relationship in a standardized manner, independent of units and scales."
   ]
  },
  {
   "cell_type": "markdown",
   "id": "f221b40e-3bfc-4baa-ba93-b70d8dc2cf6f",
   "metadata": {},
   "source": [
    "Q14. How do outliers affect measures of central tendency and dispersion? Provide an example.\n",
    "\n",
    "ans->Outliers can pull the mean towards their extreme values, making it unrepresentative of the majority of the data,Outliers can increase variance and standard deviation, as these measures consider the squared differences from the mean. Outliers' larger squared deviations contribute more.\n",
    "\n",
    "Dataset without Outlier: [10, 15, 20, 25, 30]\n",
    "\n",
    "Dataset with Outlier: [10, 15, 20, 25, 100]\n",
    "\n",
    "Without Outlier:\n",
    "\n",
    "Mean: (10 + 15 + 20 + 25 + 30) / 5 = 20\n",
    "\n",
    "Median: 20\n",
    "\n",
    "Standard Deviation: Approximately 7.07\n",
    "\n",
    "With Outlier:\n",
    "\n",
    "Mean: (10 + 15 + 20 + 25 + 100) / 5 = 34\n",
    "\n",
    "Median: 20\n",
    "\n",
    "Standard Deviation: Approximately 36.87"
   ]
  },
  {
   "cell_type": "code",
   "execution_count": null,
   "id": "36306b2c-0498-45d3-b371-07ba48af62be",
   "metadata": {},
   "outputs": [],
   "source": []
  }
 ],
 "metadata": {
  "kernelspec": {
   "display_name": "Python 3 (ipykernel)",
   "language": "python",
   "name": "python3"
  },
  "language_info": {
   "codemirror_mode": {
    "name": "ipython",
    "version": 3
   },
   "file_extension": ".py",
   "mimetype": "text/x-python",
   "name": "python",
   "nbconvert_exporter": "python",
   "pygments_lexer": "ipython3",
   "version": "3.10.8"
  }
 },
 "nbformat": 4,
 "nbformat_minor": 5
}
