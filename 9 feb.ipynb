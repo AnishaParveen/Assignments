{
 "cells": [
  {
   "cell_type": "markdown",
   "id": "7d0c1ba3-0637-4c61-955b-8539e2235e79",
   "metadata": {},
   "source": [
    "Q1, Create a vehicle class with an init method having instance variables as name_of_vehicle, max_speed\n",
    "and average_of_vehicle."
   ]
  },
  {
   "cell_type": "code",
   "execution_count": 2,
   "id": "e7eb95f7-6f7c-48c4-9908-eaeb1e7454dc",
   "metadata": {},
   "outputs": [],
   "source": [
    "class vehicle:\n",
    "    def __init__(self,name_of_vehicle, max_speed , average_of_vehicle):\n",
    "        self.name_of_vehicle = name_of_vehicle\n",
    "        self.max_speed = max_speed\n",
    "        self.average_of_vehicle = average_of_vehicle\n",
    "        \n",
    "v1=vehicle(\"bike\",100,50)"
   ]
  },
  {
   "cell_type": "code",
   "execution_count": 6,
   "id": "8065c6d2-a1ce-4d36-8e64-c0c9ee154504",
   "metadata": {},
   "outputs": [
    {
     "data": {
      "text/plain": [
       "'bike'"
      ]
     },
     "execution_count": 6,
     "metadata": {},
     "output_type": "execute_result"
    }
   ],
   "source": [
    "v1.name_of_vehicle\n"
   ]
  },
  {
   "cell_type": "code",
   "execution_count": 7,
   "id": "6d2123ae-045e-4b84-aad5-0557a58ab37a",
   "metadata": {},
   "outputs": [
    {
     "data": {
      "text/plain": [
       "100"
      ]
     },
     "execution_count": 7,
     "metadata": {},
     "output_type": "execute_result"
    }
   ],
   "source": [
    "v1.max_speed\n"
   ]
  },
  {
   "cell_type": "code",
   "execution_count": 8,
   "id": "aa12c1cf-155b-4c7f-bf9e-6590789df956",
   "metadata": {},
   "outputs": [
    {
     "data": {
      "text/plain": [
       "50"
      ]
     },
     "execution_count": 8,
     "metadata": {},
     "output_type": "execute_result"
    }
   ],
   "source": [
    "v1.average_of_vehicle"
   ]
  },
  {
   "cell_type": "markdown",
   "id": "b414e3c7-49ef-476f-b0d6-01ea7b28c31b",
   "metadata": {},
   "source": [
    "Q2. Create a child class car from the vehicle class created in Que 1, which will inherit the vehicle class.\n",
    "Create a method named seating_capacity which takes capacity as an argument and returns the name of\n",
    "the vehicle and its seating capacity."
   ]
  },
  {
   "cell_type": "code",
   "execution_count": 11,
   "id": "0b5ac019-fa77-47fa-a7bd-36befce0a903",
   "metadata": {},
   "outputs": [],
   "source": [
    "class car(vehicle):\n",
    "    def seating_capacity(self,capacity):\n",
    "        self.__capacity= capacity\n",
    "        return self.name_of_vehicle,self.__capacity\n",
    "        "
   ]
  },
  {
   "cell_type": "code",
   "execution_count": 14,
   "id": "a3ab564f-7a9a-4ff6-82c5-d873fb9fbb47",
   "metadata": {},
   "outputs": [
    {
     "data": {
      "text/plain": [
       "('BMW', 4)"
      ]
     },
     "execution_count": 14,
     "metadata": {},
     "output_type": "execute_result"
    }
   ],
   "source": [
    "c_obj=car(\"BMW\",150,70)\n",
    "c_obj.seating_capacity(4)\n"
   ]
  },
  {
   "cell_type": "markdown",
   "id": "54cfb02d-9d0a-4aa1-adb6-e45a0f5d0c0e",
   "metadata": {},
   "source": [
    "Q3. What is multiple inheritance? Write a python code to demonstrate multiple inheritance.\n",
    "\n",
    "ans->When a class is derived from more than one base class it is called multiple Inheritance. The derived class inherits all the features of the base case.\n",
    " "
   ]
  },
  {
   "cell_type": "code",
   "execution_count": 15,
   "id": "32cc67ff-cc83-4f47-82ab-69d0f0835f23",
   "metadata": {},
   "outputs": [],
   "source": [
    "class father:\n",
    "    def test_father(self):\n",
    "        print(\"father\")\n",
    "        \n",
    "class mother:\n",
    "    def test_mother(self):\n",
    "        print(\"mother\")\n",
    "        \n",
    "class child(father,mother):\n",
    "    def test_child(self):\n",
    "        print(\"child\")"
   ]
  },
  {
   "cell_type": "code",
   "execution_count": 16,
   "id": "a2c1c54f-e5f7-4a16-a2e7-e724326fd5c8",
   "metadata": {},
   "outputs": [
    {
     "name": "stdout",
     "output_type": "stream",
     "text": [
      "father\n",
      "mother\n",
      "child\n"
     ]
    }
   ],
   "source": [
    "c_obj2=child()\n",
    "c_obj2.test_father()\n",
    "c_obj2.test_mother()\n",
    "c_obj2.test_child()"
   ]
  },
  {
   "cell_type": "markdown",
   "id": "1e62235b-f0ae-4dea-b072-537ac265af2c",
   "metadata": {},
   "source": [
    "Q4. What are getter and setter in python? Create a class and create a getter and a setter method in this\n",
    "class.\n",
    "\n",
    "ans->getter: A method that allows you to access an attribute in a given class\n",
    "\n",
    "setter: A method that allows you to set or mutate the value of an attribute in a class\n",
    "\n",
    "We use getters & setters to add validation logic around getting and setting a value.\n",
    "To avoid direct access of a class field i.e. private variables cannot be accessed directly or modified by external user."
   ]
  },
  {
   "cell_type": "code",
   "execution_count": 18,
   "id": "810598b0-1d1d-4420-ae15-d7777dded1bf",
   "metadata": {},
   "outputs": [],
   "source": [
    "class car:\n",
    "    def __init__(self,year,make,model,speed):\n",
    "        self.__year=year\n",
    "        self.__make=make\n",
    "        self.__model=model\n",
    "        self.__speed=speed\n",
    "    def set_speed(self,speed):\n",
    "        self.__speed=0 if speed<0 else speed\n",
    "        \n",
    "    def get_speed(self):\n",
    "        return self.__speed\n",
    "        "
   ]
  },
  {
   "cell_type": "code",
   "execution_count": 19,
   "id": "612c91c9-7e64-452b-8cc1-b7fb7dfb77d5",
   "metadata": {},
   "outputs": [
    {
     "data": {
      "text/plain": [
       "50"
      ]
     },
     "execution_count": 19,
     "metadata": {},
     "output_type": "execute_result"
    }
   ],
   "source": [
    "car1= car(2022,\"toyota\",\"innova\",12)\n",
    "car1.set_speed(50)\n",
    "car1.get_speed()"
   ]
  },
  {
   "cell_type": "markdown",
   "id": "8a3d4655-b704-442f-bbcf-05b2aa3d6d98",
   "metadata": {},
   "source": [
    "Q5.What is method overriding in python? Write a python code to demonstrate method overriding.\n",
    "\n",
    "ans->Method overriding is an ability of any object-oriented programming language that allows a subclass or child class to provide a specific implementation of a method that is already provided by one of its super-classes or parent classes.When a method in a subclass has the same name, same parameters or signature and same return type(or sub-type) as a method in its super-class, then the method in the subclass is said to override the method in the super-class.\n",
    "\n"
   ]
  },
  {
   "cell_type": "code",
   "execution_count": 20,
   "id": "80febdf2-4963-4c8c-b000-1b9e410a008c",
   "metadata": {},
   "outputs": [
    {
     "name": "stdout",
     "output_type": "stream",
     "text": [
      "Inside Child\n",
      "Inside Parent2\n"
     ]
    }
   ],
   "source": [
    "class Parent1():\n",
    "    def show(self):\n",
    "        print(\"Inside Parent1\")\n",
    "          \n",
    "class Parent2():\n",
    "    def display(self):\n",
    "        print(\"Inside Parent2\")\n",
    "          \n",
    "class Child(Parent1, Parent2):\n",
    "    def show(self):\n",
    "        print(\"Inside Child\")\n",
    "     \n",
    "        \n",
    "\n",
    "obj = Child()\n",
    "  \n",
    "obj.show()\n",
    "obj.display()"
   ]
  },
  {
   "cell_type": "code",
   "execution_count": null,
   "id": "a3180c09-da5b-4451-a73b-7c78f3fef82b",
   "metadata": {},
   "outputs": [],
   "source": []
  },
  {
   "cell_type": "code",
   "execution_count": null,
   "id": "97ef1c6d-926e-419e-bc7c-65dabd8978b8",
   "metadata": {},
   "outputs": [],
   "source": []
  },
  {
   "cell_type": "code",
   "execution_count": null,
   "id": "f0f9bd86-1079-4889-9382-28899c95999c",
   "metadata": {},
   "outputs": [],
   "source": []
  }
 ],
 "metadata": {
  "kernelspec": {
   "display_name": "Python 3 (ipykernel)",
   "language": "python",
   "name": "python3"
  },
  "language_info": {
   "codemirror_mode": {
    "name": "ipython",
    "version": 3
   },
   "file_extension": ".py",
   "mimetype": "text/x-python",
   "name": "python",
   "nbconvert_exporter": "python",
   "pygments_lexer": "ipython3",
   "version": "3.10.8"
  }
 },
 "nbformat": 4,
 "nbformat_minor": 5
}
