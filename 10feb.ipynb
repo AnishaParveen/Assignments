{
 "cells": [
  {
   "cell_type": "markdown",
   "id": "9e121dc3-6c16-44a9-aa7a-64a97817faa7",
   "metadata": {},
   "source": [
    "Q1. Which function is used to open a file? What are the different modes of opening a file? Explain each mode\n",
    "of file opening.\n",
    "\n",
    "ans->In Python, we use the open() method to open files. there is so many modes to open a file those are-\n",
    "\n",
    "'r' for reading – The file pointer is placed at the beginning of the file. This is the default mode.\n",
    "\n",
    "'r+' Opens a file for both reading and writing. The file pointer will be at the beginning of the file.\n",
    "\n",
    "'w' Opens a file for writing only. Overwrites the file if the file exists. If the file does not exist, creates a new file for writing.\n",
    "\n",
    "'w+' Opens a file for both writing and reading. Overwrites the existing file if the file exists. If the file does not exist, it creates a new file for reading and writing.\n",
    "\n",
    "'rb' Opens a file for reading only in binary format. The file pointer is placed at the beginning of the file.\n",
    "\n",
    "'rb+' Opens a file for both reading and writing in binary format.\n",
    "\n",
    "'wb+' Opens a file for both writing and reading in binary format. Overwrites the existing file if the file exists. If the file does not exist, it creates a new file for reading and writing.\n",
    "\n",
    "'a' Opens a file for appending. The file pointer is at the end of the file if the file exists. That is, the file is in the append mode. If the file does not exist, it creates a new file for writing.\n",
    "\n",
    "'ab' Opens a file for appending in binary format. The file pointer is at the end of the file if the file exists. That is, the file is in the append mode. If the file does not exist, it creates a new file for writing.\n",
    "\n",
    "'a+' Opens a file for both appending and reading. The file pointer is at the end of the file if the file exists. The file opens in the append mode. If the file does not exist, it creates a new file for reading and writing.\n",
    "\n",
    "'ab+' Opens a file for both appending and reading in binary format. The file pointer is at the end of the file if the file exists. The file opens in the append mode. If the file does not exist, it creates a new file for reading and writing.\n",
    "\n",
    "'x' open for exclusive creation, failing if the file already exists.\n"
   ]
  },
  {
   "cell_type": "markdown",
   "id": "73772e3f-3bbe-41a8-8afb-6ece56f4bb13",
   "metadata": {},
   "source": [
    "Q2. Why close() function is used? Why is it important to close a file?\n",
    "\n",
    "ans->Python file method close() closes the opened file. A closed file cannot be read or written any more.\n",
    "\n",
    "it is important to close a file because files are limited resources managed by the operating system, making sure files are closed after use will protect against hard-to-debug issues like running out of file handles or experiencing corrupted data."
   ]
  },
  {
   "cell_type": "code",
   "execution_count": null,
   "id": "457f1e85-dfd1-40cc-9b8a-989dc3f2a055",
   "metadata": {},
   "outputs": [],
   "source": [
    "f = open(\"demofile.txt\", \"r\")\n",
    "print(f.read())\n",
    "f.close()"
   ]
  },
  {
   "cell_type": "markdown",
   "id": "5d0a8103-cf25-412d-94a8-a0d362287943",
   "metadata": {},
   "source": [
    "Q3. Write a python program to create a text file. Write ‘I want to become a Data Scientist’ in that file. Then\n",
    "close the file. Open this file and read the content of the file."
   ]
  },
  {
   "cell_type": "code",
   "execution_count": 2,
   "id": "b6a32c6e-2ea0-4905-a489-53e8b6754aaf",
   "metadata": {},
   "outputs": [
    {
     "data": {
      "text/plain": [
       "'I want to become a Data Scientist'"
      ]
     },
     "execution_count": 2,
     "metadata": {},
     "output_type": "execute_result"
    }
   ],
   "source": [
    "f= open(\"1.txt\",'w')\n",
    "f.write(\"I want to become a Data Scientist\")\n",
    "f.close()\n",
    "f= open(\"1.txt\",'r')\n",
    "f.read()"
   ]
  },
  {
   "cell_type": "markdown",
   "id": "b3c0c80d-8e3b-41c8-a5fd-89ac175997a7",
   "metadata": {},
   "source": [
    "Q4. Explain the following with python code: read(), readline() and readlines().\n",
    "\n",
    "ans->read() : Returns the read bytes in form of a string. Reads n bytes, if no n specified, reads the entire file.\n",
    "\n",
    "readline() function reads a line of the file and return it in the form of the string. It takes a parameter n, which specifies the maximum number of bytes that will be read. However, does not reads more than one line, even if n exceeds the length of the line. It will be efficient when reading a large file because instead of fetching all the data in one go, it fetches line by line. readline() returns the next line of the file which contains a newline character in the end. Also, if the end of the file is reached, it will return an empty string.\n",
    "\n",
    "readlines() is used to read all the lines at a single go and then return them as each line a string element in a list. This function can be used for small files, as it reads the whole file content to the memory, then split it into separate lines. We can iterate over the list and strip the newline ‘\\n’ character using strip() function.\n"
   ]
  },
  {
   "cell_type": "code",
   "execution_count": 17,
   "id": "92480c6a-4244-4aa9-b852-c24a4cdd8c0b",
   "metadata": {},
   "outputs": [
    {
     "name": "stdout",
     "output_type": "stream",
     "text": [
      "I want to \n"
     ]
    }
   ],
   "source": [
    "#read()\n",
    "file = open(\"1.txt\", \"r\")\n",
    "example1 = file.read(10)\n",
    "print(example1)"
   ]
  },
  {
   "cell_type": "code",
   "execution_count": 6,
   "id": "d5f58db3-3e4c-4675-9280-ee674a764691",
   "metadata": {},
   "outputs": [
    {
     "name": "stdout",
     "output_type": "stream",
     "text": [
      "I want to become a Data Scientist\n"
     ]
    }
   ],
   "source": [
    "#readline()\n",
    "file = open(\"1.txt\", \"r\")\n",
    "example1 = file.readline()\n",
    "print(example1)\n"
   ]
  },
  {
   "cell_type": "code",
   "execution_count": 10,
   "id": "3487c0d9-619a-48cf-9b9f-93d50bd99eeb",
   "metadata": {},
   "outputs": [
    {
     "name": "stdout",
     "output_type": "stream",
     "text": [
      "['I want to become a Data Scientist']\n"
     ]
    }
   ],
   "source": [
    "#readlines()\n",
    "file = open(\"1.txt\", \"r\")\n",
    "example1 = file.readlines()\n",
    "print(example1)"
   ]
  },
  {
   "cell_type": "markdown",
   "id": "396839d6-d872-4d8e-8793-148dea9005f4",
   "metadata": {},
   "source": [
    "Q5. Explain why with statement is used with open(). What is the advantage of using with statement and\n",
    "open() together?\n",
    "\n",
    "ans->The with statement works with the open() function to open a file.with statement is also used in exception handling to make the code cleaner and much more readable.\n",
    "\n",
    "the advantage of using with statement is that any file that is opened using this statement is closed automatically, once the control comes outside the with statement."
   ]
  },
  {
   "cell_type": "markdown",
   "id": "4715d768-d687-4333-9ab5-a138d8d84c20",
   "metadata": {},
   "source": [
    "Q6. Explain the write() and writelines() functions. Give a suitable example.\n",
    "\n",
    "ans-> write() is used to write a string to an already opened file while writelines() method is used to write a list of strings in an opened file."
   ]
  },
  {
   "cell_type": "code",
   "execution_count": 21,
   "id": "cf59851e-07e8-4d85-9131-5fa69e02f787",
   "metadata": {},
   "outputs": [
    {
     "name": "stdout",
     "output_type": "stream",
     "text": [
      "See you soon! Over and out.\n"
     ]
    }
   ],
   "source": [
    "f = open(\"2.txt\", \"a\")\n",
    "f.write(\"See you soon! Over and out.\")\n",
    "f.close()\n",
    "f = open(\"2.txt\", \"r\")\n",
    "print(f.read())"
   ]
  },
  {
   "cell_type": "code",
   "execution_count": 18,
   "id": "1433a747-9a06-4ba4-9f2a-d86aa7e9aebe",
   "metadata": {},
   "outputs": [
    {
     "name": "stdout",
     "output_type": "stream",
     "text": [
      "See you soon!Over and out.\n"
     ]
    }
   ],
   "source": [
    "f = open(\"3.txt\", \"a\")\n",
    "f.writelines([\"See you soon!\", \"Over and out.\"])\n",
    "f.close()\n",
    "f = open(\"3.txt\", \"r\")\n",
    "print(f.read())"
   ]
  },
  {
   "cell_type": "code",
   "execution_count": null,
   "id": "d8445954-bc81-4893-9f94-74fd2fb72938",
   "metadata": {},
   "outputs": [],
   "source": []
  }
 ],
 "metadata": {
  "kernelspec": {
   "display_name": "Python 3 (ipykernel)",
   "language": "python",
   "name": "python3"
  },
  "language_info": {
   "codemirror_mode": {
    "name": "ipython",
    "version": 3
   },
   "file_extension": ".py",
   "mimetype": "text/x-python",
   "name": "python",
   "nbconvert_exporter": "python",
   "pygments_lexer": "ipython3",
   "version": "3.10.8"
  }
 },
 "nbformat": 4,
 "nbformat_minor": 5
}
