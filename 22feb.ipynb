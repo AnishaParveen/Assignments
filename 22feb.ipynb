{
 "cells": [
  {
   "cell_type": "code",
   "execution_count": 1,
   "id": "0984d95d-6433-4bbe-9614-9fdf72efc32a",
   "metadata": {},
   "outputs": [
    {
     "name": "stdout",
     "output_type": "stream",
     "text": [
      "Collecting scrapetube\n",
      "  Downloading scrapetube-2.3.1-py3-none-any.whl (5.4 kB)\n",
      "Requirement already satisfied: requests in /opt/conda/lib/python3.10/site-packages (from scrapetube) (2.28.1)\n",
      "Requirement already satisfied: typing-extensions in /opt/conda/lib/python3.10/site-packages (from scrapetube) (4.4.0)\n",
      "Requirement already satisfied: certifi>=2017.4.17 in /opt/conda/lib/python3.10/site-packages (from requests->scrapetube) (2022.12.7)\n",
      "Requirement already satisfied: idna<4,>=2.5 in /opt/conda/lib/python3.10/site-packages (from requests->scrapetube) (3.4)\n",
      "Requirement already satisfied: urllib3<1.27,>=1.21.1 in /opt/conda/lib/python3.10/site-packages (from requests->scrapetube) (1.26.13)\n",
      "Requirement already satisfied: charset-normalizer<3,>=2 in /opt/conda/lib/python3.10/site-packages (from requests->scrapetube) (2.1.1)\n",
      "Installing collected packages: scrapetube\n",
      "Successfully installed scrapetube-2.3.1\n",
      "Note: you may need to restart the kernel to use updated packages.\n"
     ]
    }
   ],
   "source": [
    "pip install scrapetube"
   ]
  },
  {
   "cell_type": "code",
   "execution_count": 2,
   "id": "3b980226-af35-46d3-adf4-1ede2747f9d1",
   "metadata": {},
   "outputs": [
    {
     "name": "stdout",
     "output_type": "stream",
     "text": [
      "Collecting pytube\n",
      "  Downloading pytube-12.1.2-py3-none-any.whl (57 kB)\n",
      "\u001b[2K     \u001b[90m━━━━━━━━━━━━━━━━━━━━━━━━━━━━━━━━━━━━━━━━\u001b[0m \u001b[32m57.0/57.0 kB\u001b[0m \u001b[31m2.0 MB/s\u001b[0m eta \u001b[36m0:00:00\u001b[0m\n",
      "\u001b[?25hInstalling collected packages: pytube\n",
      "Successfully installed pytube-12.1.2\n",
      "Note: you may need to restart the kernel to use updated packages.\n"
     ]
    }
   ],
   "source": [
    "pip install pytube"
   ]
  },
  {
   "cell_type": "code",
   "execution_count": 1,
   "id": "9c1a84cc-9bb2-46b5-86b0-d62018a1511c",
   "metadata": {},
   "outputs": [],
   "source": [
    "import requests\n",
    "from urllib.request import urlopen\n",
    "from bs4 import BeautifulSoup as bs\n",
    "from pytube import YouTube\n",
    "import scrapetube\n",
    "import csv"
   ]
  },
  {
   "cell_type": "markdown",
   "id": "7d1bb9d1-5555-4899-a0b4-5eca71eee1bf",
   "metadata": {},
   "source": [
    "# Q1. Write a python program to extract the video URL of the first five videos."
   ]
  },
  {
   "cell_type": "code",
   "execution_count": 15,
   "id": "3a8b7b8b-6c3a-46ec-a832-751ef0544977",
   "metadata": {},
   "outputs": [
    {
     "name": "stdout",
     "output_type": "stream",
     "text": [
      "['https://www.youtube.com/watch?v=S0RySN5arvk', 'https://www.youtube.com/watch?v=HzBhwxMrt8A', 'https://www.youtube.com/watch?v=60_B3haKADw', 'https://www.youtube.com/watch?v=46CNHP9wBAs', 'https://www.youtube.com/watch?v=1Wk5gJtZ2sQ']\n"
     ]
    }
   ],
   "source": [
    "videos = scrapetube.get_channel(channel_url=str(\"https://www.youtube.com/@PW-Foundation/videos\"),limit=int(5))\n",
    "l1=[]\n",
    "for video in videos:\n",
    "    l1.append(\"https://www.youtube.com/watch?v=\"+str(video['videoId']))\n",
    "print(l1)\n"
   ]
  },
  {
   "cell_type": "markdown",
   "id": "8d9ec58f-cdcb-4fb6-b49f-dc7985699233",
   "metadata": {},
   "source": [
    "# Q2. Write a python program to extract the URL of the video thumbnails of the first five videos."
   ]
  },
  {
   "cell_type": "code",
   "execution_count": 16,
   "id": "38b866d5-e763-42a0-ade7-7ff3b3be54ff",
   "metadata": {},
   "outputs": [
    {
     "name": "stdout",
     "output_type": "stream",
     "text": [
      "['https://i.ytimg.com/vi/S0RySN5arvk/sddefault.jpg', 'https://i.ytimg.com/vi/HzBhwxMrt8A/sddefault.jpg', 'https://i.ytimg.com/vi/60_B3haKADw/sddefault.jpg', 'https://i.ytimg.com/vi/46CNHP9wBAs/sddefault.jpg', 'https://i.ytimg.com/vi/1Wk5gJtZ2sQ/sddefault.jpg']\n"
     ]
    }
   ],
   "source": [
    "l2=[]\n",
    "for i in l1:\n",
    "    yt = YouTube(i)\n",
    "    l2.append(yt.thumbnail_url)\n",
    "print(l2)"
   ]
  },
  {
   "cell_type": "markdown",
   "id": "1830f862-7dd3-4f98-a053-7a74f30c1652",
   "metadata": {},
   "source": [
    "# Q3. Write a python program to extract the title of the first five videos."
   ]
  },
  {
   "cell_type": "code",
   "execution_count": 17,
   "id": "af951c89-f1c9-4065-8260-e50fea7b5382",
   "metadata": {},
   "outputs": [
    {
     "name": "stdout",
     "output_type": "stream",
     "text": [
      "['Benefits of Choosing Commerce After 10th | Commerce क्यों लेना चाहिए? | CBSE | ICSE | State Boards', 'Complete 𝗖𝗔𝗥𝗕𝗢𝗡 𝗔𝗡𝗗 𝗜𝗧𝗦 𝗖𝗢𝗠𝗣𝗢𝗨𝗡𝗗𝗦 in 90 Minutes | Class 10th Board Exam', 'Complete 𝗠𝗘𝗧𝗔𝗟𝗦 & 𝗡𝗢𝗡 𝗠𝗘𝗧𝗔𝗟𝗦  in 120 Minutes | Class 10th Board Exam', 'Complete 𝗔𝗖𝗜𝗗, 𝗕𝗔𝗦𝗘𝗦 𝗔𝗡𝗗 𝗦𝗔𝗟𝗧 in 110 Minutes | Class 10th Board Exam', 'Complete 𝗖𝗛𝗘𝗠𝗜𝗖𝗔𝗟 𝗥𝗘𝗔𝗖𝗧𝗜𝗢𝗡  in 90 Minutes | Class 10th Board Exam']\n"
     ]
    }
   ],
   "source": [
    "l3=[]\n",
    "for i in l1:\n",
    "    yt = YouTube(i)\n",
    "    l3.append(yt.title)\n",
    "print(l3)"
   ]
  },
  {
   "cell_type": "markdown",
   "id": "fd0915af-fdc3-4c1b-9387-93316862ae8b",
   "metadata": {},
   "source": [
    "# Q4. Write a python program to extract the number of views of the first five videos."
   ]
  },
  {
   "cell_type": "code",
   "execution_count": 27,
   "id": "3d91f16c-9890-40a5-ad86-ec85661b61d9",
   "metadata": {},
   "outputs": [
    {
     "name": "stdout",
     "output_type": "stream",
     "text": [
      "['21190', '38920', '21229', '18203', '26757']\n"
     ]
    }
   ],
   "source": [
    "l4=[]\n",
    "for i in l1:\n",
    "    yt = YouTube(i)\n",
    "    l4.append(str(yt.views))\n",
    "print(l4)"
   ]
  },
  {
   "cell_type": "markdown",
   "id": "7ce6d430-e1a2-4366-af52-52299a985d97",
   "metadata": {},
   "source": [
    "# Q5. Write a python program to extract the time of posting of video for the first five videos."
   ]
  },
  {
   "cell_type": "code",
   "execution_count": 28,
   "id": "0c78172b-6670-4112-a3ff-4f875969ddff",
   "metadata": {},
   "outputs": [
    {
     "name": "stdout",
     "output_type": "stream",
     "text": [
      "['2023-03-06 00:00:00', '2023-03-03 00:00:00', '2023-03-03 00:00:00', '2023-03-03 00:00:00', '2023-03-02 00:00:00']\n"
     ]
    }
   ],
   "source": [
    "l5=[]\n",
    "for i in l1:\n",
    "    yt = YouTube(i)\n",
    "    l5.append(str(yt.publish_date))\n",
    "print(l5)   "
   ]
  },
  {
   "cell_type": "code",
   "execution_count": 29,
   "id": "49d2c710-cf87-4e0e-a5a8-697c3526c68a",
   "metadata": {},
   "outputs": [],
   "source": [
    "l=[\"1st Link\",\"2nd Link\",\"3rd Link\",\"4th Link\",\"5th Link\"]"
   ]
  },
  {
   "cell_type": "code",
   "execution_count": 31,
   "id": "b24a177c-cced-4221-8a9b-56b6ed4ea92a",
   "metadata": {},
   "outputs": [],
   "source": [
    "final_list=[l,l1,l2,l3,l4,l5]"
   ]
  },
  {
   "cell_type": "code",
   "execution_count": 32,
   "id": "89e4eeff-57d1-4b81-b6b3-cb5506d6ca07",
   "metadata": {},
   "outputs": [],
   "source": [
    "with open (\"YouTubeData.csv\",\"w\")as f:\n",
    "    w=csv.writer(f)\n",
    "    for i in final_list:\n",
    "        w.writerow(i)\n",
    "    f.close()"
   ]
  },
  {
   "cell_type": "code",
   "execution_count": null,
   "id": "1f6953f5-11da-46d8-b8c7-c0b2eedf311b",
   "metadata": {},
   "outputs": [],
   "source": []
  }
 ],
 "metadata": {
  "kernelspec": {
   "display_name": "Python 3 (ipykernel)",
   "language": "python",
   "name": "python3"
  },
  "language_info": {
   "codemirror_mode": {
    "name": "ipython",
    "version": 3
   },
   "file_extension": ".py",
   "mimetype": "text/x-python",
   "name": "python",
   "nbconvert_exporter": "python",
   "pygments_lexer": "ipython3",
   "version": "3.10.8"
  }
 },
 "nbformat": 4,
 "nbformat_minor": 5
}
