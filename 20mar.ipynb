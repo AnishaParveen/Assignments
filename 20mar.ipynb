{
 "cells": [
  {
   "cell_type": "markdown",
   "id": "ecfbb09a-fe71-4bde-83b7-d36b1417a209",
   "metadata": {},
   "source": [
    "Q1. What is data encoding? How is it useful in data science?\n",
    "\n",
    "ans->Before categorical data can be utilized as input to a machine learning model, it must first be transformed into numerical data. This process of converting categorical data into numeric representation is known as encoding.\n",
    "\n",
    "it is useful because machine learning models can only work with numerical values. For this reason, it is necessary to transform the categorical values of the relevant features into numerical ones."
   ]
  },
  {
   "cell_type": "markdown",
   "id": "0102de0e-6495-4adf-a13f-5190d7148db4",
   "metadata": {},
   "source": [
    "Q2. What is nominal encoding? Provide an example of how you would use it in a real-world scenario.\n",
    "\n",
    "ans->Nominal Encoding:When we have a feature where variables are just names and there is no order or rank to this variable's feature.\n",
    "\n",
    "For example: City of person lives in, Gender of person, Marital Status, etc… In the above example, We do not have any order or rank, or sequence."
   ]
  },
  {
   "cell_type": "markdown",
   "id": "d7af75be-bbe9-4b0a-bb8d-2d61a6b77748",
   "metadata": {},
   "source": [
    "Q3. In what situations is nominal encoding preferred over one-hot encoding? Provide a practical example.\n",
    "\n",
    "ans->Nominal encoding, also known as label encoding, is preferred over one-hot encoding in situations where the categorical variable has a natural ordinal relationship among its categories. In other words, nominal encoding is suitable when the categories have a meaningful and interpretable order.\n",
    "\n",
    "here's a concise example:\n",
    "\n",
    "Scenario: Consider a dataset of students' academic performance, and one of the categorical features is \"Class Ranking\" with three categories:\n",
    "\n",
    "Top 10%\n",
    "Middle 50%\n",
    "Bottom 40%\n",
    "In this case, there's a clear ordinal relationship among the categories. \"Top 10%\" is better than \"Middle 50%,\" which, in turn, is better than \"Bottom 40%.\"\n",
    "\n",
    "Nominal Encoding (Label Encoding):\n",
    "\n",
    "Top 10%: 1\n",
    "Middle 50%: 2\n",
    "Bottom 40%: 3\n",
    "Nominal encoding retains the ordinal information, making it suitable for analysis or predictive modeling because the model can understand that lower encoded values indicate a better class ranking.\n",
    "\n",
    "Using one-hot encoding in this situation wouldn't capture the ordinal nature effectively, as it would treat these categories as independent and not convey the meaningful order among them."
   ]
  },
  {
   "cell_type": "markdown",
   "id": "66233816-bf7b-4981-8f5f-300a0f4b21fb",
   "metadata": {},
   "source": [
    "Q4. Suppose you have a dataset containing categorical data with 5 unique values. Which encoding\n",
    "technique would you use to transform this data into a format suitable for machine learning algorithms?\n",
    "Explain why you made this choice.\n",
    "\n",
    "ans->If the categorical data has five unique values and there is no inherent ordinal relationship among them, one-hot encoding is the preferred choice. This technique creates binary columns for each category, treating them as distinct entities without assuming any order or hierarchy among them."
   ]
  },
  {
   "cell_type": "markdown",
   "id": "bd5d76b0-db7a-4922-ad83-1397b9114eb8",
   "metadata": {},
   "source": [
    "Q5. In a machine learning project, you have a dataset with 1000 rows and 5 columns. Two of the columns\n",
    "are categorical, and the remaining three columns are numerical. If you were to use nominal encoding to\n",
    "transform the categorical data, how many new columns would be created? Show your calculations.\n",
    "\n",
    "ans->Let's assume the two categorical columns have the following unique categories:\n",
    "\n",
    "Categorical Column 1: 4 unique categories\n",
    "\n",
    "Categorical Column 2: 6 unique categories\n",
    "\n",
    "Number of new columns = 4 (from Categorical Column 1) + 6 (from Categorical Column 2)=10"
   ]
  },
  {
   "cell_type": "markdown",
   "id": "c6c80d79-5811-42a2-a5a7-af87fcb0d66c",
   "metadata": {},
   "source": [
    "Q6. You are working with a dataset containing information about different types of animals, including their\n",
    "species, habitat, and diet. Which encoding technique would you use to transform the categorical data into\n",
    "a format suitable for machine learning algorithms? Justify your answer.\n",
    "\n",
    "ans->For a dataset containing categorical data about animal species, habitat, and diet, I would use one-hot encoding. This is because these categorical variables typically don't have a natural ordinal relationship, and one-hot encoding ensures that the machine learning algorithm treats each category as distinct and unrelated, avoiding any unintended assumptions about ordinality or hierarchy."
   ]
  },
  {
   "cell_type": "markdown",
   "id": "5453d6e6-975a-4888-a19a-ff56f36802de",
   "metadata": {},
   "source": [
    "Q7.You are working on a project that involves predicting customer churn for a telecommunications\n",
    "company. You have a dataset with 5 features, including the customer's gender, age, contract type,\n",
    "monthly charges, and tenure. Which encoding technique(s) would you use to transform the categorical\n",
    "data into numerical data? Provide a step-by-step explanation of how you would implement the encoding.\n",
    "\n",
    "ans->For the telecommunications dataset with features like gender and contract type:\n",
    "\n",
    "Use label encoding for \"contract type\" if it has a meaningful order (e.g., month-to-month, one year, two years).\n",
    "\n",
    "Use one-hot encoding for \"gender\" since it's nominal (male, female).\n",
    "\n",
    "Retain the numerical features as they are (age, monthly charges, tenure).\n",
    "\n",
    "Proceed with machine learning analysis using the encoded dataset to predict customer churn."
   ]
  },
  {
   "cell_type": "code",
   "execution_count": null,
   "id": "bb802a5e-fb0d-47cd-a00e-eca5ce3ae302",
   "metadata": {},
   "outputs": [],
   "source": []
  }
 ],
 "metadata": {
  "kernelspec": {
   "display_name": "Python 3 (ipykernel)",
   "language": "python",
   "name": "python3"
  },
  "language_info": {
   "codemirror_mode": {
    "name": "ipython",
    "version": 3
   },
   "file_extension": ".py",
   "mimetype": "text/x-python",
   "name": "python",
   "nbconvert_exporter": "python",
   "pygments_lexer": "ipython3",
   "version": "3.10.8"
  }
 },
 "nbformat": 4,
 "nbformat_minor": 5
}
