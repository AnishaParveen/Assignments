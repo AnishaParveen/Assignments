{
 "cells": [
  {
   "cell_type": "markdown",
   "id": "eb3ad6f8-8a9d-479f-90e2-e4f2365b86e6",
   "metadata": {},
   "source": [
    "Q1. What are the characteristics of the tuples? Is tuple immutable?\n",
    "\n",
    "ans-> a Tuple is a collection of a data which is represented by round bracets.ex- t1=().\n",
    "Tuples have the given characteristics:\n",
    "    1.They are indexed\n",
    "    2.Tuples are ordered\n",
    "    3.These are immutable\n",
    "    4.They can contain duplicate items\n",
    "yes,Tuple is immutable.it does not support item assignment "
   ]
  },
  {
   "cell_type": "markdown",
   "id": "232f4eed-d39a-4bc3-8a31-049a8de1b638",
   "metadata": {},
   "source": [
    "Q2. What are the two tuple methods in python? Give an example of each method. Give a reason why\n",
    "tuples have only two in-built methods as compared to Lists.\n",
    "\n",
    "ans->the two tuple methods are 1.count()\n",
    "                               2.index()\n",
    "                               \n",
    "ex-\n",
    "t1=(1,2,3,4,45,45.5,3+7j,\"hello\",True)\n",
    " t1.count(1)\n",
    "o/p- 2 [here true is stored as 1 thats why o/p is 2]\n",
    "t1.index(45)\n",
    "o/p- 4\n",
    "\n",
    "A tuple does not have many built-in methods because of immutability."
   ]
  },
  {
   "cell_type": "markdown",
   "id": "89454bfd-d43f-4344-8f01-926f2b1ab586",
   "metadata": {},
   "source": [
    "Q3. Which collection datatypes in python do not allow duplicate items? Write a code using a set to remove\n",
    "duplicates from the given list.\n",
    "List = [1, 1, 1, 2, 1, 3, 1, 4, 2, 1, 2, 2, 2, 3, 2, 4, 3, 1, 3, 2, 3, 3, 3, 4, 4, 1, 4, 2, 4, 3, 4, 4]\n",
    "\n",
    "ans-> set in python do not allow duplicate items"
   ]
  },
  {
   "cell_type": "code",
   "execution_count": null,
   "id": "54789864-04ff-4727-ab38-01f4c8f65d07",
   "metadata": {},
   "outputs": [],
   "source": [
    "List = [1, 1, 1, 2, 1, 3, 1, 4, 2, 1, 2, 2, 2, 3, 2, 4, 3, 1, 3, 2, 3, 3, 3, 4, 4, 1, 4, 2, 4, 3, 4, 4]\n",
    "print(set(List))"
   ]
  },
  {
   "cell_type": "markdown",
   "id": "69261f35-4478-4466-ba74-3861269f8d49",
   "metadata": {},
   "source": [
    "Q4. Explain the difference between the union() and update() methods for a set. Give an example of\n",
    "each method.\n",
    "\n",
    "ans->The  union() function in Python returns a new set which is the union of all sets with the first one - but only if set or iterable object were passed to the union() function.\n",
    "The update() method updates the current set, by adding items from another set.If an item is present in both sets, only one appearance of this item will be present in the updated set."
   ]
  },
  {
   "cell_type": "code",
   "execution_count": 5,
   "id": "04070ae3-1157-4be8-ac11-80e76a3e19bd",
   "metadata": {},
   "outputs": [
    {
     "name": "stdout",
     "output_type": "stream",
     "text": [
      "{'R', 'JavaScript', 'Python', 'Go', 'Julia'}\n"
     ]
    }
   ],
   "source": [
    "A = {'Python', 'R', 'Julia'}\n",
    "B = {'Python', 'JavaScript', 'Go'}\n",
    "\n",
    "print(A.union(B))"
   ]
  },
  {
   "cell_type": "code",
   "execution_count": 7,
   "id": "27ee11c9-1235-4d90-b0fe-2b6a8c86306f",
   "metadata": {},
   "outputs": [
    {
     "data": {
      "text/plain": [
       "{'Go', 'JavaScript', 'Julia', 'Python', 'R'}"
      ]
     },
     "execution_count": 7,
     "metadata": {},
     "output_type": "execute_result"
    }
   ],
   "source": [
    "A.update(B) \n",
    "A"
   ]
  },
  {
   "cell_type": "markdown",
   "id": "b5ee21b3-b915-4558-8821-384d41f7cf7c",
   "metadata": {},
   "source": [
    "Q5. What is a dictionary? Give an example. Also, state whether a dictionary is ordered or unordered.\n",
    "\n",
    "ans->Dictionaries are used to store data values in key:value pairs. A dictionary is a collection which is ordered, changeable and do not allow duplicates. \n",
    "\n",
    "ex-\n",
    "d={\"name\":\"anisha\",\"roll\":12345,\"class\":\"sem 4\"}\n",
    "\n",
    "a dictionary is ordered "
   ]
  },
  {
   "cell_type": "markdown",
   "id": "9560366b-1a62-4cac-b23b-f37c68ac32c1",
   "metadata": {},
   "source": [
    "Q6. Can we create a nested dictionary? If so, please give an example by creating a simple one-level\n",
    "nested dictionary.\n",
    "\n",
    "ans-> yes, we can create a nested dictionary.\n",
    "ex-"
   ]
  },
  {
   "cell_type": "code",
   "execution_count": 8,
   "id": "7afc6d85-5125-42c2-9d56-f2b97213c35d",
   "metadata": {},
   "outputs": [
    {
     "data": {
      "text/plain": [
       "{'key': {'course': 'DSM', 'id': 12356, 'date': 'feb 10'}}"
      ]
     },
     "execution_count": 8,
     "metadata": {},
     "output_type": "execute_result"
    }
   ],
   "source": [
    "d1={\"key\":{\"course\":\"DSM\",\"id\":12356,\"date\":\"feb 10\"}}\n",
    "d1"
   ]
  },
  {
   "cell_type": "code",
   "execution_count": 10,
   "id": "a7056113-d486-4e1b-b34f-6aaba76c5104",
   "metadata": {},
   "outputs": [
    {
     "data": {
      "text/plain": [
       "12356"
      ]
     },
     "execution_count": 10,
     "metadata": {},
     "output_type": "execute_result"
    }
   ],
   "source": [
    "d1[\"key\"][\"id\"]"
   ]
  },
  {
   "cell_type": "markdown",
   "id": "a8efec1f-00d3-4383-9ad8-60513b330d19",
   "metadata": {},
   "source": [
    "Q7. Using setdefault() method, create key named topics in the given dictionary and also add the value of\n",
    "the key as this list ['Python', 'Machine Learning’, 'Deep Learning']\n",
    "dict1 = {'language' : 'Python', 'course': 'Data Science Masters'}"
   ]
  },
  {
   "cell_type": "code",
   "execution_count": 11,
   "id": "6db3272a-6074-4303-acaf-5c48571fd5ee",
   "metadata": {},
   "outputs": [
    {
     "data": {
      "text/plain": [
       "{'language': 'Python',\n",
       " 'course': 'Data Science Masters',\n",
       " 'topics': 'Deep Learning'}"
      ]
     },
     "execution_count": 11,
     "metadata": {},
     "output_type": "execute_result"
    }
   ],
   "source": [
    "dict1 = {'language' : 'Python', 'course': 'Data Science Masters'}\n",
    "dict1.setdefault(\"topics\",\"Deep Learning\")\n",
    "dict1"
   ]
  },
  {
   "cell_type": "markdown",
   "id": "8978342a-e817-460e-a9fe-6efdc58b1470",
   "metadata": {},
   "source": [
    "Q8. What are the three view objects in dictionaries? Use the three in-built methods in python to display\n",
    "these three view objects for the given dictionary.\n",
    "dict1 = {'Sport': 'Cricket' , 'Teams': ['India', 'Australia', 'England', 'South Africa', 'Sri Lanka', 'New Zealand']}\n",
    "\n",
    "ans->The main view objects of dictionary in python are keys, values and items."
   ]
  },
  {
   "cell_type": "code",
   "execution_count": 12,
   "id": "b497ac5f-a501-4a83-b0b6-1227406812c9",
   "metadata": {},
   "outputs": [
    {
     "data": {
      "text/plain": [
       "dict_keys(['Sport', 'Teams'])"
      ]
     },
     "execution_count": 12,
     "metadata": {},
     "output_type": "execute_result"
    }
   ],
   "source": [
    "dict1 = {'Sport': 'Cricket' , 'Teams': ['India', 'Australia', 'England', 'South Africa', 'Sri Lanka', 'New Zealand']}\n",
    "dict1.keys()"
   ]
  },
  {
   "cell_type": "code",
   "execution_count": 13,
   "id": "3f80b57d-52a2-4aae-8d32-220ad21a0fac",
   "metadata": {},
   "outputs": [
    {
     "data": {
      "text/plain": [
       "dict_values(['Cricket', ['India', 'Australia', 'England', 'South Africa', 'Sri Lanka', 'New Zealand']])"
      ]
     },
     "execution_count": 13,
     "metadata": {},
     "output_type": "execute_result"
    }
   ],
   "source": [
    "dict1.values()"
   ]
  },
  {
   "cell_type": "code",
   "execution_count": 14,
   "id": "35b6c59a-fe59-4ead-a51c-ddbe259cff7c",
   "metadata": {},
   "outputs": [
    {
     "data": {
      "text/plain": [
       "dict_items([('Sport', 'Cricket'), ('Teams', ['India', 'Australia', 'England', 'South Africa', 'Sri Lanka', 'New Zealand'])])"
      ]
     },
     "execution_count": 14,
     "metadata": {},
     "output_type": "execute_result"
    }
   ],
   "source": [
    "dict1.items()"
   ]
  },
  {
   "cell_type": "code",
   "execution_count": null,
   "id": "2fb2e465-dfd9-49ce-a61d-9c0c69ecfe5f",
   "metadata": {},
   "outputs": [],
   "source": []
  }
 ],
 "metadata": {
  "kernelspec": {
   "display_name": "Python 3 (ipykernel)",
   "language": "python",
   "name": "python3"
  },
  "language_info": {
   "codemirror_mode": {
    "name": "ipython",
    "version": 3
   },
   "file_extension": ".py",
   "mimetype": "text/x-python",
   "name": "python",
   "nbconvert_exporter": "python",
   "pygments_lexer": "ipython3",
   "version": "3.10.8"
  }
 },
 "nbformat": 4,
 "nbformat_minor": 5
}
