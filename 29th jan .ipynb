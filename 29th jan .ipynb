{
 "cells": [
  {
   "cell_type": "raw",
   "id": "dcd29589-2ac4-427d-9d65-2378c9bcaaaf",
   "metadata": {},
   "source": [
    "1. who developed python programming language\n",
    "-> Guido van Rossum in 1991\n",
    "2. which type of programming does python support?\n",
    "-> Object-oriented programming, structured programming and it is also a dynamically typed language.\n",
    "3. is python case sensitive when dealing with identifiers?\n",
    "-> yes.\n",
    "4. what is the correct extension of the python file?\n",
    "->”.py ”\n",
    "5. is python code compiled or interpreted?\n",
    "-> interpreted.\n",
    "6. name a few blocks of code used to define in python language?\n",
    "-> a module, a function body, and a class definition.\n",
    "7. state a character used to give single line comments in python?\n",
    "-> “ # ”\n",
    "8. mention function which can help us to find the version of python that we are currently working on?\n",
    "-> python_version() and also we can use Python -V command.\n",
    "9. python supports the creation of anonymous functions at runtime, using a construct called – lambda\n",
    "10. what does pip stands for python?\n",
    "-> \"preferred installer program\"\n",
    "11. mention a few build-in functions in python?\n",
    "- > print() , type() , input() , pow(),sorted( ) , max( ) .\n",
    "12. what is the maximum possible length of an identifier in python?\n",
    "-> 79 character.\n",
    "13. what are the benefits of using python?\n",
    "-> Simple to Use and Understand, Free and Open-Source, Extensive library, more Portability etc.\n",
    "14. how is memory managed in python?\n",
    "-> Memory management in Python involves a private heap containing all Python objects and data structures. The management of this private heap is ensured internally by the Python memory manager. \n",
    "15. how to install python on windows and set path variables?\n",
    "-> Open a browser to the Python website and download the Windows installer. Double click on the downloaded file and install Python and ensure that Python is added to your path.\n",
    "Right click on My Computer ->Properties ->Advanced System setting ->Environment Variable ->New\n",
    "In Variable name write path and in Variable value copy path up to C://Python(i.e., path where Python is installed). Click Ok ->Ok.\n",
    "Path will be set for executing Python programs.\n",
    "16. is indentation required in python?\n",
    "-> the indentation in python is very important. python uses indentation to indicate a block of code.\n"
   ]
  }
 ],
 "metadata": {
  "kernelspec": {
   "display_name": "Python 3 (ipykernel)",
   "language": "python",
   "name": "python3"
  },
  "language_info": {
   "codemirror_mode": {
    "name": "ipython",
    "version": 3
   },
   "file_extension": ".py",
   "mimetype": "text/x-python",
   "name": "python",
   "nbconvert_exporter": "python",
   "pygments_lexer": "ipython3",
   "version": "3.10.8"
  }
 },
 "nbformat": 4,
 "nbformat_minor": 5
}
