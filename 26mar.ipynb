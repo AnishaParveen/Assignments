{
 "cells": [
  {
   "cell_type": "markdown",
   "id": "8e6b2345-f323-4280-86b8-27be0b50e6c7",
   "metadata": {},
   "source": [
    "Q1. Explain the difference between simple linear regression and multiple linear regression. Provide an\n",
    "example of each.\n",
    "\n",
    "ans->Simple Linear Regression:\n",
    "Simple linear regression is a statistical technique used to model the relationship between a single independent variable (predictor) and a dependent variable (response). It assumes that there is a linear relationship between the predictor and the response, which can be represented by a straight line equation\n",
    "\n",
    "Example of Simple Linear Regression:\n",
    "Let's say you want to predict a person's weight based on their height You collect data on the heights and weights of several individuals. Using simple linear regression, you can create a model to estimate weight based on height\n",
    "\n",
    "Multiple Linear Regression:\n",
    "Multiple linear regression extends simple linear regression by allowing for multiple independent variables to be used in the model. It models the relationship between the dependent variable and two or more independent variables.\n",
    "\n",
    "Example of Multiple Linear Regression:\n",
    "Suppose you want to predict a house's selling price , and you believe that the price depends on various factors such as the square footage , the number of bedrooms, and the neighborhood's crime rate . In this case, you can use multiple linear regression to create a model\n",
    "\n"
   ]
  },
  {
   "cell_type": "markdown",
   "id": "0990d05e-df12-491f-81b0-31b412c0affe",
   "metadata": {},
   "source": [
    "Q2. Discuss the assumptions of linear regression. How can you check whether these assumptions hold in\n",
    "a given dataset?\n",
    "\n",
    "ans->linear regression assumptions are:\n",
    "\n",
    "1. Linearity: The relationship between variables is linear.\n",
    "2. Independence of Errors: Residuals are independent of each other.\n",
    "3. Homoscedasticity: The variance of residuals is constant.\n",
    "4. Normality of Errors: Residuals follow a normal distribution.\n",
    "\n",
    "To check these assumptions:\n",
    "\n",
    "1. Use residual plots to check linearity and heteroscedasticity.\n",
    "2. Perform normality tests on residuals.\n",
    "3. Check for autocorrelation in time-series data.\n",
    "4. Identify outliers and influential points.\n",
    "5. Consider data transformations if assumptions are violated.\n",
    "\n"
   ]
  },
  {
   "cell_type": "markdown",
   "id": "002a9b52-3142-4fac-819c-381cc0853e0d",
   "metadata": {},
   "source": [
    "Q3. How do you interpret the slope and intercept in a linear regression model? Provide an example using\n",
    "a real-world scenario.\n",
    "\n",
    "ans-> \n",
    "- The intercept  in a linear regression model is the expected value of the dependent variable when the independent variable(s) is zero.\n",
    "\n",
    "- The slope  represents the change in the expected value of the dependent variable for a one-unit change in the independent variable(s).\n",
    "\n",
    " Example:\n",
    "\n",
    "Suppose we have a linear regression model to predict a car's fuel efficiency  based on its engine size EngineSize. \n",
    "\n",
    "\n",
    "- Intercept : If a car has no engine (EngineSize = 0), the intercept represents the expected MPG, which might be a non-zero value indicating some baseline efficiency.\n",
    "- Slope : If the slope is, say, -2.5, it means that for every additional unit increase in engine size (e.g., 1-liter increase), the expected MPG decreases by 2.5 miles per gallon, on average."
   ]
  },
  {
   "cell_type": "markdown",
   "id": "b947f64a-f62a-4659-aeb3-2c9388853838",
   "metadata": {},
   "source": [
    "Q4. Explain the concept of gradient descent. How is it used in machine learning?\n",
    "\n",
    "ans->gradient descent is an optimization algorithm used in machine learning to adjust model parameters gradually and iteratively in the direction that reduces the error or cost function. It's a key technique for training machine learning models and finding optimal parameter values.\n",
    "\n",
    "Gradient descent plays a critical role in machine learning for several reasons:Model Training,Cost Function Optimization,Deep Learning,Hyperparameter Tuning etc."
   ]
  },
  {
   "cell_type": "markdown",
   "id": "3a27cf41-0253-4a13-800e-93be878553fd",
   "metadata": {},
   "source": [
    "Q5. Describe the multiple linear regression model. How does it differ from simple linear regression?\n",
    "\n",
    "ans->Multiple Linear Regression:\n",
    "Multiple linear regression extends simple linear regression by allowing for multiple independent variables to be used in the model. It models the relationship between the dependent variable and two or more independent variables. \n",
    "\n",
    "the key difference between simple and multiple linear regression is the number of independent variables used to model the relationship with the dependent variable. Simple linear regression uses one independent variable, while multiple linear regression uses two or more independent variables to capture more complex relationships in the data."
   ]
  },
  {
   "cell_type": "markdown",
   "id": "cb8e1461-8eea-45e0-8fd6-73b181373c30",
   "metadata": {},
   "source": [
    "Q6. Explain the concept of multicollinearity in multiple linear regression. How can you detect and\n",
    "address this issue?\n",
    "\n",
    "ans->\n",
    "**Multicollinearity** in multiple linear regression is when independent variables are highly correlated, causing issues with interpretation and stability.\n",
    "\n",
    "**Detection**:\n",
    "- Check correlation matrix and scatterplots for high correlations.\n",
    "- Calculate Variance Inflation Factors (VIF) for each variable.\n",
    "- Examine eigenvalues and the condition number of the correlation matrix.\n",
    "\n",
    "**Addressing**:\n",
    "- Remove or combine correlated variables.\n",
    "- Use regularization techniques like ridge or lasso regression.\n",
    "- Apply PCA to transform correlated variables into uncorrelated ones.\n",
    "- Collect more data or engineer new features to reduce multicollinearity."
   ]
  },
  {
   "cell_type": "markdown",
   "id": "e2b38004-3955-434f-a26c-b69366dbee7e",
   "metadata": {},
   "source": [
    "Q7. Describe the polynomial regression model. How is it different from linear regression?\n",
    "\n",
    "ans->\n",
    "**Polynomial regression** extends linear regression by allowing for nonlinear relationships between variables through the use of polynomial terms (e.g., X^2, X^3).\n",
    "- **Linear regression** assumes a linear relationship (straight line) between variables.\n",
    "- **Polynomial regression** is more flexible and can capture curved or nonlinear patterns in data.\n",
    "- It's useful when data suggests a nonlinear relationship or complex patterns.\n",
    "- However, it can be prone to overfitting, and interpretation of coefficients becomes less straightforward with higher-degree polynomial terms."
   ]
  },
  {
   "cell_type": "markdown",
   "id": "e836b09a-4fbb-4a1d-b2b4-9cd53e826201",
   "metadata": {},
   "source": [
    "Q8. What are the advantages and disadvantages of polynomial regression compared to linear\n",
    "regression? In what situations would you prefer to use polynomial regression?\n",
    "\n",
    "ans->\n",
    "**Advantages of Polynomial Regression**:\n",
    "- Flexibility to capture nonlinear relationships.\n",
    "- Improved fit to data when the relationship is nonlinear.\n",
    "- Versatility in accommodating various degrees of polynomials.\n",
    "\n",
    "**Disadvantages of Polynomial Regression**:\n",
    "- Prone to overfitting, especially with high-degree polynomials.\n",
    "- Increased model complexity and reduced interpretability.\n",
    "- May require more data for accurate parameter estimation.\n",
    "\n",
    "**Use Polynomial Regression When**:\n",
    "- You suspect a nonlinear relationship in your data.\n",
    "- The data exhibits complex, curved patterns.\n",
    "- You want high predictive accuracy and can control overfitting.\n",
    "- Careful model selection and evaluation are applied."
   ]
  },
  {
   "cell_type": "code",
   "execution_count": null,
   "id": "e307c291-d729-4eba-af71-0c92ca53d3ee",
   "metadata": {},
   "outputs": [],
   "source": []
  }
 ],
 "metadata": {
  "kernelspec": {
   "display_name": "Python 3 (ipykernel)",
   "language": "python",
   "name": "python3"
  },
  "language_info": {
   "codemirror_mode": {
    "name": "ipython",
    "version": 3
   },
   "file_extension": ".py",
   "mimetype": "text/x-python",
   "name": "python",
   "nbconvert_exporter": "python",
   "pygments_lexer": "ipython3",
   "version": "3.10.8"
  }
 },
 "nbformat": 4,
 "nbformat_minor": 5
}
