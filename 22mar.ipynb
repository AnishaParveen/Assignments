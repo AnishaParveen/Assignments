{
 "cells": [
  {
   "cell_type": "markdown",
   "id": "7ba9060e-76eb-42dc-9cac-4a6429f0a36e",
   "metadata": {},
   "source": [
    "Q1. Pearson correlation coefficient is a measure of the linear relationship between two variables. Suppose\n",
    "you have collected data on the amount of time students spend studying for an exam and their final exam\n",
    "scores. Calculate the Pearson correlation coefficient between these two variables and interpret the result."
   ]
  },
  {
   "cell_type": "code",
   "execution_count": 1,
   "id": "705d9bad-2bc2-4891-bf30-c1e742c8f80b",
   "metadata": {},
   "outputs": [],
   "source": [
    "import pandas as pd\n",
    "import numpy as np"
   ]
  },
  {
   "cell_type": "code",
   "execution_count": 34,
   "id": "1d0246fe-59f9-4d25-b8e0-d63f90e0e40d",
   "metadata": {},
   "outputs": [],
   "source": [
    "time=[7,8,2,4,6]\n",
    "scores=[75,80,45,60,65]"
   ]
  },
  {
   "cell_type": "code",
   "execution_count": 35,
   "id": "44087670-f793-49d7-ae4b-a32d24663955",
   "metadata": {},
   "outputs": [
    {
     "name": "stdout",
     "output_type": "stream",
     "text": [
      "0.9855274566525744\n",
      "There is a positive linear relationship.\n"
     ]
    }
   ],
   "source": [
    "correlation_coefficient,_=pearsonr(time, scores)\n",
    "print(correlation_coefficient)\n",
    "if correlation_coefficient > 0:\n",
    "    print(\"There is a positive linear relationship.\")\n",
    "elif correlation_coefficient < 0:\n",
    "    print(\"There is a negative linear relationship.\")\n",
    "else:\n",
    "    print(\"There is no significant linear relationship.\")\n"
   ]
  },
  {
   "cell_type": "markdown",
   "id": "c12c0903-2c89-4d16-bc9c-e8dbe7394690",
   "metadata": {},
   "source": [
    "Q2. Spearman's rank correlation is a measure of the monotonic relationship between two variables.\n",
    "Suppose you have collected data on the amount of sleep individuals get each night and their overall job\n",
    "satisfaction level on a scale of 1 to 10. Calculate the Spearman's rank correlation between these two\n",
    "variables and interpret the result."
   ]
  },
  {
   "cell_type": "code",
   "execution_count": 16,
   "id": "4b8358af-a3a1-4b15-ba8e-6226cab4c3e8",
   "metadata": {},
   "outputs": [
    {
     "name": "stdout",
     "output_type": "stream",
     "text": [
      "Spearman's Rank Correlation Coefficient: 0.9464\n",
      "Interpretation: There is a positive rank correlation, indicating that as sleep hours increase, job satisfaction tends to increase.\n",
      "P-value: 3.390640430660088e-05\n",
      "Significance: The correlation is statistically significant\n"
     ]
    }
   ],
   "source": [
    "from scipy.stats import spearmanr\n",
    "sleep_hours = [7, 6, 8, 5, 7, 6, 8, 6, 5, 7]\n",
    "job_satisfaction = [6, 5, 8, 4, 7, 6, 9, 5, 4, 8]\n",
    "correlation_coefficient, p_value = spearmanr(sleep_hours, job_satisfaction)\n",
    "\n",
    "if p_value < 0.05:\n",
    "    significance = \"statistically significant\"\n",
    "else:\n",
    "    significance = \"not statistically significant\"\n",
    "\n",
    "if correlation_coefficient > 0:\n",
    "    interpretation = \"There is a positive rank correlation, indicating that as sleep hours increase, job satisfaction tends to increase.\"\n",
    "elif correlation_coefficient < 0:\n",
    "    interpretation = \"There is a negative rank correlation, indicating that as sleep hours increase, job satisfaction tends to decrease.\"\n",
    "else:\n",
    "    interpretation = \"There is no significant rank correlation between sleep hours and job satisfaction.\"\n",
    "\n",
    "print(f\"Spearman's Rank Correlation Coefficient: {correlation_coefficient:.4f}\")\n",
    "print(f\"Interpretation: {interpretation}\")\n",
    "print(f\"P-value: {p_value}\")\n",
    "print(f\"Significance: The correlation is {significance}\")\n"
   ]
  },
  {
   "cell_type": "markdown",
   "id": "b61ca02f-10e4-497e-a583-ed49307200e1",
   "metadata": {},
   "source": [
    "Q3. Suppose you are conducting a study to examine the relationship between the number of hours of\n",
    "exercise per week and body mass index (BMI) in a sample of adults. You collected data on both variables\n",
    "for 50 participants. Calculate the Pearson correlation coefficient and the Spearman's rank correlation\n",
    "between these two variables and compare the results."
   ]
  },
  {
   "cell_type": "code",
   "execution_count": 17,
   "id": "4aa262f8-d32d-4063-9aaf-645b3622f8f1",
   "metadata": {},
   "outputs": [
    {
     "name": "stdout",
     "output_type": "stream",
     "text": [
      "Pearson Correlation Coefficient: 0.2889\n",
      "Spearman's Rank Correlation Coefficient: 0.2822\n"
     ]
    }
   ],
   "source": [
    "from scipy.stats import pearsonr, spearmanr\n",
    "np.random.seed(0)\n",
    "exercise_hours = np.random.randint(1, 8, 50)\n",
    "bmi = np.random.uniform(20, 32, 50)\n",
    "pearson_corr, _ = pearsonr(exercise_hours, bmi)\n",
    "spearman_corr, _ = spearmanr(exercise_hours, bmi)\n",
    "print(f\"Pearson Correlation Coefficient: {pearson_corr:.4f}\")\n",
    "print(f\"Spearman's Rank Correlation Coefficient: {spearman_corr:.4f}\")"
   ]
  },
  {
   "cell_type": "markdown",
   "id": "fdad1054-8af8-4b97-8457-9950a49f86ff",
   "metadata": {},
   "source": [
    "Q4. A researcher is interested in examining the relationship between the number of hours individuals\n",
    "spend watching television per day and their level of physical activity. The researcher collected data on\n",
    "both variables from a sample of 50 participants. Calculate the Pearson correlation coefficient between\n",
    "these two variables."
   ]
  },
  {
   "cell_type": "code",
   "execution_count": 23,
   "id": "e6cb18ab-d6cb-4438-a524-f083762692c7",
   "metadata": {},
   "outputs": [
    {
     "name": "stdout",
     "output_type": "stream",
     "text": [
      "Pearson Correlation Coefficient: 0.0788\n"
     ]
    }
   ],
   "source": [
    "np.random.seed(0)\n",
    "watching_time= np.random.randint(1,6,50)\n",
    "activity=np.random.randint(1,10,50)\n",
    "pearson_corr,_=pearsonr(watching_time,activity)\n",
    "print(f\"Pearson Correlation Coefficient: {pearson_corr:.4f}\")"
   ]
  },
  {
   "cell_type": "markdown",
   "id": "72c8c5bf-fdd2-4a89-8bba-9c2646bdddda",
   "metadata": {},
   "source": [
    "Q5. A survey was conducted to examine the relationship between age and preference for a particular\n",
    "brand of soft drink."
   ]
  },
  {
   "cell_type": "code",
   "execution_count": 26,
   "id": "22e980e9-6bea-4ad9-84c6-d0d0f3d4a49a",
   "metadata": {},
   "outputs": [],
   "source": [
    "age=[25,42,37,19,31,28]\n",
    "soft_drink=['coke','pepsi','mpuntain_dew','coke','pepsi','coke']"
   ]
  },
  {
   "cell_type": "code",
   "execution_count": 28,
   "id": "2e24ad01-25ca-49aa-a541-60273145c3e2",
   "metadata": {},
   "outputs": [],
   "source": [
    "from sklearn.preprocessing import LabelEncoder\n",
    "lbl_encoder=LabelEncoder()\n",
    "encoded=lbl_encoder.fit_transform(soft_drink)"
   ]
  },
  {
   "cell_type": "code",
   "execution_count": 31,
   "id": "18d48487-c6ec-47b5-ab40-ee8d86594348",
   "metadata": {},
   "outputs": [
    {
     "name": "stdout",
     "output_type": "stream",
     "text": [
      "Pearson Correlation Coefficient: 0.7692\n",
      "There is a positive linear relationship.\n"
     ]
    }
   ],
   "source": [
    "pearson_corr, _ = pearsonr(age, encoded)\n",
    "print(f\"Pearson Correlation Coefficient: {pearson_corr:.4f}\")\n",
    "if pearson_corr > 0:\n",
    "    print(\"There is a positive linear relationship.\")\n",
    "elif correlation_coefficient < 0:\n",
    "    print(\"There is a negative linear relationship.\")\n",
    "else:\n",
    "    print(\"There is no significant linear relationship.\")\n"
   ]
  },
  {
   "cell_type": "markdown",
   "id": "e8d08e61-aa64-4419-a270-745acdcb8c1b",
   "metadata": {},
   "source": [
    "Q6. A company is interested in examining the relationship between the number of sales calls made per day\n",
    "and the number of sales made per week. The company collected data on both variables from a sample of\n",
    "30 sales representatives. Calculate the Pearson correlation coefficient between these two variables."
   ]
  },
  {
   "cell_type": "code",
   "execution_count": 36,
   "id": "7d45b08a-0501-4e6f-b361-d6322c7a3299",
   "metadata": {},
   "outputs": [
    {
     "name": "stdout",
     "output_type": "stream",
     "text": [
      "Pearson Correlation Coefficient: 0.1644\n"
     ]
    }
   ],
   "source": [
    "np.random.seed(0) \n",
    "sales_calls_per_day = np.random.randint(10, 20, 30)  \n",
    "sales_per_week = np.random.randint(1, 10, 30) \n",
    "correlation_coefficient, _ = pearsonr(sales_calls_per_day, sales_per_week)\n",
    "print(f\"Pearson Correlation Coefficient: {correlation_coefficient:.4f}\")"
   ]
  },
  {
   "cell_type": "code",
   "execution_count": null,
   "id": "44b85189-c078-45eb-b903-6ae6d640efb6",
   "metadata": {},
   "outputs": [],
   "source": []
  }
 ],
 "metadata": {
  "kernelspec": {
   "display_name": "Python 3 (ipykernel)",
   "language": "python",
   "name": "python3"
  },
  "language_info": {
   "codemirror_mode": {
    "name": "ipython",
    "version": 3
   },
   "file_extension": ".py",
   "mimetype": "text/x-python",
   "name": "python",
   "nbconvert_exporter": "python",
   "pygments_lexer": "ipython3",
   "version": "3.10.8"
  }
 },
 "nbformat": 4,
 "nbformat_minor": 5
}
