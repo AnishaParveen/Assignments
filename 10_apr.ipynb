{
 "cells": [
  {
   "cell_type": "markdown",
   "id": "3f0b1fbb-1993-4434-b5b3-d9d3fb2398a8",
   "metadata": {},
   "source": [
    "Q1. A company conducted a survey of its employees and found that 70% of the employees use the\n",
    "company's health insurance plan, while 40% of the employees who use the plan are smokers. What is the\n",
    "probability that an employee is a smoker given that he/she uses the health insurance plan?\n",
    "\n",
    "ans->A: Employee uses the health insurance plan.\n",
    "B: Employee is a smoker\n",
    "\n",
    "P(A) = 70% = 0.70 (Probability that an employee uses the health insurance plan)\n",
    "P(B|A) = 40% = 0.40 (Probability that an employee is a smoker given that they use the health insurance plan)\n",
    "\n",
    "P(B)=P(B∣A)⋅P(A)+P(B∣¬A)⋅P(¬A)\n",
    "\n",
    "P(B)=(0.40)⋅(0.70)+(0.20)⋅(0.30)\n",
    "\n",
    "P(B)=0.28+0.06\n",
    "\n",
    "P(B)=0.34\n",
    "\n",
    "Finally, we can use Bayes' Theorem to find \n",
    "\n",
    "P(A∣B): 0.82\n",
    "\n",
    "So, the probability that an employee is a smoker given that he/she uses the health insurance plan is approximately 82%."
   ]
  },
  {
   "cell_type": "markdown",
   "id": "7c36c1f4-87ae-413b-8eef-b634a9fff26f",
   "metadata": {},
   "source": [
    "Q2. What is the difference between Bernoulli Naive Bayes and Multinomial Naive Bayes?\n",
    "\n",
    "ans->Bernoulli Naive Bayes: Assumes binary feature variables (presence or absence), often used for text classification where the presence or absence of words is important, like spam detection.\n",
    "\n",
    "Multinomial Naive Bayes: Handles multiple features (like word counts for text classification), assuming a multinomial distribution. It's commonly used for document classification based on word counts in the documents."
   ]
  },
  {
   "cell_type": "markdown",
   "id": "876114e6-fe51-4687-b5c3-4596cd00d600",
   "metadata": {},
   "source": [
    "Q3. How does Bernoulli Naive Bayes handle missing values?\n",
    "\n",
    "ans->Bernoulli Naive Bayes handles missing values by ignoring them during the training process. When encountering a missing value for a feature, it essentially treats it as if the feature were not present (similar to a 0 in binary features). This is because Bernoulli Naive Bayes assumes binary features (presence or absence), so a missing value is considered as the feature being absent. During prediction, if a feature is missing, it does not contribute to the likelihood calculation for that class."
   ]
  },
  {
   "cell_type": "markdown",
   "id": "9a74f545-ed3e-4870-9f98-ed473eefcdff",
   "metadata": {},
   "source": [
    "Q4. Can Gaussian Naive Bayes be used for multi-class classification?\n",
    "\n",
    "ans->Yes, Gaussian Naive Bayes can be used for multi-class classification. It is an extension of the Naive Bayes algorithm that is suitable for continuous data where the likelihood of the features is assumed to be Gaussian (normal distribution). This algorithm can be used for both binary and multi-class classification problems."
   ]
  },
  {
   "cell_type": "markdown",
   "id": "d5df10c4-79f3-45c4-b2f9-4e4799225536",
   "metadata": {},
   "source": [
    "Q5. Assignment:"
   ]
  },
  {
   "cell_type": "code",
   "execution_count": 4,
   "id": "05349a21-f7ba-4968-959a-a4dad37646ef",
   "metadata": {},
   "outputs": [
    {
     "name": "stdout",
     "output_type": "stream",
     "text": [
      "Collecting ucimlrepo\n",
      "  Downloading ucimlrepo-0.0.3-py3-none-any.whl (7.0 kB)\n",
      "Installing collected packages: ucimlrepo\n",
      "Successfully installed ucimlrepo-0.0.3\n",
      "Note: you may need to restart the kernel to use updated packages.\n"
     ]
    }
   ],
   "source": [
    "pip install ucimlrepo"
   ]
  },
  {
   "cell_type": "code",
   "execution_count": 1,
   "id": "54598622-f830-4d7f-8545-7371932a5567",
   "metadata": {},
   "outputs": [
    {
     "name": "stdout",
     "output_type": "stream",
     "text": [
      "{'uci_id': 94, 'name': 'Spambase', 'repository_url': 'https://archive.ics.uci.edu/dataset/94/spambase', 'data_url': 'https://archive.ics.uci.edu/static/public/94/data.csv', 'abstract': 'Classifying Email as Spam or Non-Spam', 'area': 'Computer Science', 'tasks': ['Classification'], 'characteristics': ['Multivariate'], 'num_instances': 4601, 'num_features': 57, 'feature_types': ['Integer', 'Real'], 'demographics': [], 'target_col': ['Class'], 'index_col': None, 'has_missing_values': 'no', 'missing_values_symbol': None, 'year_of_dataset_creation': 1999, 'last_updated': 'Mon Aug 28 2023', 'dataset_doi': '10.24432/C53G6X', 'creators': ['Mark Hopkins', 'Erik Reeber', 'George Forman', 'Jaap Suermondt'], 'intro_paper': None, 'additional_info': {'summary': 'The \"spam\" concept is diverse: advertisements for products/web sites, make money fast schemes, chain letters, pornography...\\n\\nThe classification task for this dataset is to determine whether a given email is spam or not.\\n\\t\\nOur collection of spam e-mails came from our postmaster and individuals who had filed spam.  Our collection of non-spam e-mails came from filed work and personal e-mails, and hence the word \\'george\\' and the area code \\'650\\' are indicators of non-spam.  These are useful when constructing a personalized spam filter.  One would either have to blind such non-spam indicators or get a very wide collection of non-spam to generate a general purpose spam filter.\\n\\nFor background on spam: Cranor, Lorrie F., LaMacchia, Brian A.  Spam!, Communications of the ACM, 41(8):74-83, 1998.\\n\\nTypical performance is around ~7% misclassification error. False positives (marking good mail as spam) are very undesirable.If we insist on zero false positives in the training/testing set, 20-25% of the spam passed through the filter. See also Hewlett-Packard Internal-only Technical Report. External version forthcoming. ', 'purpose': None, 'funded_by': None, 'instances_represent': 'Emails', 'recommended_data_splits': None, 'sensitive_data': None, 'preprocessing_description': None, 'variable_info': 'The last column of \\'spambase.data\\' denotes whether the e-mail was considered spam (1) or not (0), i.e. unsolicited commercial e-mail.  Most of the attributes indicate whether a particular word or character was frequently occuring in the e-mail.  The run-length attributes (55-57) measure the length of sequences of consecutive capital letters.  For the statistical measures of each attribute, see the end of this file.  Here are the definitions of the attributes:\\r\\n\\r\\n48 continuous real [0,100] attributes of type word_freq_WORD \\r\\n= percentage of words in the e-mail that match WORD, i.e. 100 * (number of times the WORD appears in the e-mail) / total number of words in e-mail.  A \"word\" in this case is any string of alphanumeric characters bounded by non-alphanumeric characters or end-of-string.\\r\\n\\r\\n6 continuous real [0,100] attributes of type char_freq_CHAR] \\r\\n= percentage of characters in the e-mail that match CHAR, i.e. 100 * (number of CHAR occurences) / total characters in e-mail\\r\\n\\r\\n1 continuous real [1,...] attribute of type capital_run_length_average \\r\\n= average length of uninterrupted sequences of capital letters\\r\\n\\r\\n1 continuous integer [1,...] attribute of type capital_run_length_longest \\r\\n= length of longest uninterrupted sequence of capital letters\\r\\n\\r\\n1 continuous integer [1,...] attribute of type capital_run_length_total \\r\\n= sum of length of uninterrupted sequences of capital letters \\r\\n= total number of capital letters in the e-mail\\r\\n\\r\\n1 nominal {0,1} class attribute of type spam\\r\\n= denotes whether the e-mail was considered spam (1) or not (0), i.e. unsolicited commercial e-mail.  \\r\\n', 'citation': None}}\n",
      "                          name     role        type demographic  \\\n",
      "0               word_freq_make  Feature  Continuous        None   \n",
      "1            word_freq_address  Feature  Continuous        None   \n",
      "2                word_freq_all  Feature  Continuous        None   \n",
      "3                 word_freq_3d  Feature  Continuous        None   \n",
      "4                word_freq_our  Feature  Continuous        None   \n",
      "5               word_freq_over  Feature  Continuous        None   \n",
      "6             word_freq_remove  Feature  Continuous        None   \n",
      "7           word_freq_internet  Feature  Continuous        None   \n",
      "8              word_freq_order  Feature  Continuous        None   \n",
      "9               word_freq_mail  Feature  Continuous        None   \n",
      "10           word_freq_receive  Feature  Continuous        None   \n",
      "11              word_freq_will  Feature  Continuous        None   \n",
      "12            word_freq_people  Feature  Continuous        None   \n",
      "13            word_freq_report  Feature  Continuous        None   \n",
      "14         word_freq_addresses  Feature  Continuous        None   \n",
      "15              word_freq_free  Feature  Continuous        None   \n",
      "16          word_freq_business  Feature  Continuous        None   \n",
      "17             word_freq_email  Feature  Continuous        None   \n",
      "18               word_freq_you  Feature  Continuous        None   \n",
      "19            word_freq_credit  Feature  Continuous        None   \n",
      "20              word_freq_your  Feature  Continuous        None   \n",
      "21              word_freq_font  Feature  Continuous        None   \n",
      "22               word_freq_000  Feature  Continuous        None   \n",
      "23             word_freq_money  Feature  Continuous        None   \n",
      "24                word_freq_hp  Feature  Continuous        None   \n",
      "25               word_freq_hpl  Feature  Continuous        None   \n",
      "26            word_freq_george  Feature  Continuous        None   \n",
      "27               word_freq_650  Feature  Continuous        None   \n",
      "28               word_freq_lab  Feature  Continuous        None   \n",
      "29              word_freq_labs  Feature  Continuous        None   \n",
      "30            word_freq_telnet  Feature  Continuous        None   \n",
      "31               word_freq_857  Feature  Continuous        None   \n",
      "32              word_freq_data  Feature  Continuous        None   \n",
      "33               word_freq_415  Feature  Continuous        None   \n",
      "34                word_freq_85  Feature  Continuous        None   \n",
      "35        word_freq_technology  Feature  Continuous        None   \n",
      "36              word_freq_1999  Feature  Continuous        None   \n",
      "37             word_freq_parts  Feature  Continuous        None   \n",
      "38                word_freq_pm  Feature  Continuous        None   \n",
      "39            word_freq_direct  Feature  Continuous        None   \n",
      "40                word_freq_cs  Feature  Continuous        None   \n",
      "41           word_freq_meeting  Feature  Continuous        None   \n",
      "42          word_freq_original  Feature  Continuous        None   \n",
      "43           word_freq_project  Feature  Continuous        None   \n",
      "44                word_freq_re  Feature  Continuous        None   \n",
      "45               word_freq_edu  Feature  Continuous        None   \n",
      "46             word_freq_table  Feature  Continuous        None   \n",
      "47        word_freq_conference  Feature  Continuous        None   \n",
      "48                 char_freq_;  Feature  Continuous        None   \n",
      "49                 char_freq_(  Feature  Continuous        None   \n",
      "50                 char_freq_[  Feature  Continuous        None   \n",
      "51                 char_freq_!  Feature  Continuous        None   \n",
      "52                 char_freq_$  Feature  Continuous        None   \n",
      "53                 char_freq_#  Feature  Continuous        None   \n",
      "54  capital_run_length_average  Feature  Continuous        None   \n",
      "55  capital_run_length_longest  Feature  Continuous        None   \n",
      "56    capital_run_length_total  Feature  Continuous        None   \n",
      "57                       Class   Target      Binary        None   \n",
      "\n",
      "                 description units missing_values  \n",
      "0                       None  None             no  \n",
      "1                       None  None             no  \n",
      "2                       None  None             no  \n",
      "3                       None  None             no  \n",
      "4                       None  None             no  \n",
      "5                       None  None             no  \n",
      "6                       None  None             no  \n",
      "7                       None  None             no  \n",
      "8                       None  None             no  \n",
      "9                       None  None             no  \n",
      "10                      None  None             no  \n",
      "11                      None  None             no  \n",
      "12                      None  None             no  \n",
      "13                      None  None             no  \n",
      "14                      None  None             no  \n",
      "15                      None  None             no  \n",
      "16                      None  None             no  \n",
      "17                      None  None             no  \n",
      "18                      None  None             no  \n",
      "19                      None  None             no  \n",
      "20                      None  None             no  \n",
      "21                      None  None             no  \n",
      "22                      None  None             no  \n",
      "23                      None  None             no  \n",
      "24                      None  None             no  \n",
      "25                      None  None             no  \n",
      "26                      None  None             no  \n",
      "27                      None  None             no  \n",
      "28                      None  None             no  \n",
      "29                      None  None             no  \n",
      "30                      None  None             no  \n",
      "31                      None  None             no  \n",
      "32                      None  None             no  \n",
      "33                      None  None             no  \n",
      "34                      None  None             no  \n",
      "35                      None  None             no  \n",
      "36                      None  None             no  \n",
      "37                      None  None             no  \n",
      "38                      None  None             no  \n",
      "39                      None  None             no  \n",
      "40                      None  None             no  \n",
      "41                      None  None             no  \n",
      "42                      None  None             no  \n",
      "43                      None  None             no  \n",
      "44                      None  None             no  \n",
      "45                      None  None             no  \n",
      "46                      None  None             no  \n",
      "47                      None  None             no  \n",
      "48                      None  None             no  \n",
      "49                      None  None             no  \n",
      "50                      None  None             no  \n",
      "51                      None  None             no  \n",
      "52                      None  None             no  \n",
      "53                      None  None             no  \n",
      "54                      None  None             no  \n",
      "55                      None  None             no  \n",
      "56                      None  None             no  \n",
      "57  spam (1) or not spam (0)  None             no  \n"
     ]
    }
   ],
   "source": [
    "from ucimlrepo import fetch_ucirepo \n",
    "  \n",
    "# fetch dataset \n",
    "spambase = fetch_ucirepo(id=94) \n",
    "  \n",
    "# data (as pandas dataframes) \n",
    "X = spambase.data.features \n",
    "y = spambase.data.targets \n",
    "  \n",
    "# metadata \n",
    "print(spambase.metadata) \n",
    "  \n",
    "# variable information \n",
    "print(spambase.variables) \n"
   ]
  },
  {
   "cell_type": "code",
   "execution_count": 3,
   "id": "f0973507-63a5-4179-92b2-3fad82adad41",
   "metadata": {},
   "outputs": [],
   "source": [
    "from sklearn.model_selection import train_test_split\n",
    "X_train,X_test,y_train,y_test=train_test_split(X,y,test_size=0.3,random_state =42)"
   ]
  },
  {
   "cell_type": "code",
   "execution_count": 24,
   "id": "fb5da6b3-6a0b-4f0a-8f72-71a190affc32",
   "metadata": {},
   "outputs": [],
   "source": [
    "from sklearn.naive_bayes  import GaussianNB,BernoulliNB,MultinomialNB\n",
    "from sklearn.metrics import accuracy_score,classification_report,confusion_matrix,precision_score,recall_score,f1_score\n",
    "import warnings\n",
    "warnings.filterwarnings('ignore')"
   ]
  },
  {
   "cell_type": "markdown",
   "id": "53136aa1-4d3e-459c-92aa-b2d91e0cd219",
   "metadata": {},
   "source": [
    "# Gaussian"
   ]
  },
  {
   "cell_type": "code",
   "execution_count": 11,
   "id": "5314959b-a374-41da-a89e-9a80760bac82",
   "metadata": {},
   "outputs": [
    {
     "name": "stdout",
     "output_type": "stream",
     "text": [
      "0.8247646632874729\n"
     ]
    }
   ],
   "source": [
    "gnb=GaussianNB()\n",
    "gnb.fit(X_train,y_train)\n",
    "y_pred=gnb.predict(X_test)\n",
    "print(accuracy_score(y_test,y_pred))"
   ]
  },
  {
   "cell_type": "code",
   "execution_count": 18,
   "id": "667b52a7-5464-483f-a3ff-67a543bc1480",
   "metadata": {},
   "outputs": [
    {
     "name": "stdout",
     "output_type": "stream",
     "text": [
      "Fitting 10 folds for each of 5 candidates, totalling 50 fits\n",
      "[CV 1/10] END ..............var_smoothing=1e-09;, score=0.801 total time=   0.0s\n",
      "[CV 2/10] END ..............var_smoothing=1e-09;, score=0.773 total time=   0.0s\n",
      "[CV 3/10] END ..............var_smoothing=1e-09;, score=0.811 total time=   0.0s\n",
      "[CV 4/10] END ..............var_smoothing=1e-09;, score=0.792 total time=   0.0s\n",
      "[CV 5/10] END ..............var_smoothing=1e-09;, score=0.814 total time=   0.0s\n",
      "[CV 6/10] END ..............var_smoothing=1e-09;, score=0.817 total time=   0.0s\n",
      "[CV 7/10] END ..............var_smoothing=1e-09;, score=0.823 total time=   0.0s\n",
      "[CV 8/10] END ..............var_smoothing=1e-09;, score=0.848 total time=   0.0s\n",
      "[CV 9/10] END ..............var_smoothing=1e-09;, score=0.786 total time=   0.0s\n",
      "[CV 10/10] END .............var_smoothing=1e-09;, score=0.842 total time=   0.0s\n",
      "[CV 1/10] END ..............var_smoothing=1e-08;, score=0.798 total time=   0.0s\n",
      "[CV 2/10] END ..............var_smoothing=1e-08;, score=0.773 total time=   0.0s\n",
      "[CV 3/10] END ..............var_smoothing=1e-08;, score=0.795 total time=   0.0s\n",
      "[CV 4/10] END ..............var_smoothing=1e-08;, score=0.804 total time=   0.0s\n",
      "[CV 5/10] END ..............var_smoothing=1e-08;, score=0.798 total time=   0.0s\n",
      "[CV 6/10] END ..............var_smoothing=1e-08;, score=0.829 total time=   0.0s\n",
      "[CV 7/10] END ..............var_smoothing=1e-08;, score=0.820 total time=   0.0s\n",
      "[CV 8/10] END ..............var_smoothing=1e-08;, score=0.848 total time=   0.0s\n",
      "[CV 9/10] END ..............var_smoothing=1e-08;, score=0.780 total time=   0.0s\n",
      "[CV 10/10] END .............var_smoothing=1e-08;, score=0.839 total time=   0.0s\n",
      "[CV 1/10] END ..............var_smoothing=1e-07;, score=0.773 total time=   0.0s\n",
      "[CV 2/10] END ..............var_smoothing=1e-07;, score=0.767 total time=   0.0s\n",
      "[CV 3/10] END ..............var_smoothing=1e-07;, score=0.767 total time=   0.0s\n",
      "[CV 4/10] END ..............var_smoothing=1e-07;, score=0.783 total time=   0.0s\n",
      "[CV 5/10] END ..............var_smoothing=1e-07;, score=0.773 total time=   0.0s\n",
      "[CV 6/10] END ..............var_smoothing=1e-07;, score=0.811 total time=   0.0s\n",
      "[CV 7/10] END ..............var_smoothing=1e-07;, score=0.789 total time=   0.0s\n",
      "[CV 8/10] END ..............var_smoothing=1e-07;, score=0.835 total time=   0.0s\n",
      "[CV 9/10] END ..............var_smoothing=1e-07;, score=0.745 total time=   0.0s\n",
      "[CV 10/10] END .............var_smoothing=1e-07;, score=0.817 total time=   0.0s\n",
      "[CV 1/10] END ..............var_smoothing=1e-06;, score=0.873 total time=   0.0s\n",
      "[CV 2/10] END ..............var_smoothing=1e-06;, score=0.863 total time=   0.0s\n",
      "[CV 3/10] END ..............var_smoothing=1e-06;, score=0.826 total time=   0.0s\n",
      "[CV 4/10] END ..............var_smoothing=1e-06;, score=0.866 total time=   0.0s\n",
      "[CV 5/10] END ..............var_smoothing=1e-06;, score=0.842 total time=   0.0s\n",
      "[CV 6/10] END ..............var_smoothing=1e-06;, score=0.857 total time=   0.0s\n",
      "[CV 7/10] END ..............var_smoothing=1e-06;, score=0.817 total time=   0.0s\n",
      "[CV 8/10] END ..............var_smoothing=1e-06;, score=0.863 total time=   0.0s\n",
      "[CV 9/10] END ..............var_smoothing=1e-06;, score=0.801 total time=   0.0s\n",
      "[CV 10/10] END .............var_smoothing=1e-06;, score=0.888 total time=   0.0s\n",
      "[CV 1/10] END ..............var_smoothing=1e-05;, score=0.708 total time=   0.0s\n",
      "[CV 2/10] END ..............var_smoothing=1e-05;, score=0.686 total time=   0.0s\n",
      "[CV 3/10] END ..............var_smoothing=1e-05;, score=0.677 total time=   0.0s\n",
      "[CV 4/10] END ..............var_smoothing=1e-05;, score=0.702 total time=   0.0s\n",
      "[CV 5/10] END ..............var_smoothing=1e-05;, score=0.705 total time=   0.0s\n",
      "[CV 6/10] END ..............var_smoothing=1e-05;, score=0.671 total time=   0.0s\n",
      "[CV 7/10] END ..............var_smoothing=1e-05;, score=0.736 total time=   0.0s\n",
      "[CV 8/10] END ..............var_smoothing=1e-05;, score=0.696 total time=   0.0s\n",
      "[CV 9/10] END ..............var_smoothing=1e-05;, score=0.699 total time=   0.0s\n",
      "[CV 10/10] END .............var_smoothing=1e-05;, score=0.708 total time=   0.0s\n"
     ]
    },
    {
     "data": {
      "text/html": [
       "<style>#sk-container-id-1 {color: black;background-color: white;}#sk-container-id-1 pre{padding: 0;}#sk-container-id-1 div.sk-toggleable {background-color: white;}#sk-container-id-1 label.sk-toggleable__label {cursor: pointer;display: block;width: 100%;margin-bottom: 0;padding: 0.3em;box-sizing: border-box;text-align: center;}#sk-container-id-1 label.sk-toggleable__label-arrow:before {content: \"▸\";float: left;margin-right: 0.25em;color: #696969;}#sk-container-id-1 label.sk-toggleable__label-arrow:hover:before {color: black;}#sk-container-id-1 div.sk-estimator:hover label.sk-toggleable__label-arrow:before {color: black;}#sk-container-id-1 div.sk-toggleable__content {max-height: 0;max-width: 0;overflow: hidden;text-align: left;background-color: #f0f8ff;}#sk-container-id-1 div.sk-toggleable__content pre {margin: 0.2em;color: black;border-radius: 0.25em;background-color: #f0f8ff;}#sk-container-id-1 input.sk-toggleable__control:checked~div.sk-toggleable__content {max-height: 200px;max-width: 100%;overflow: auto;}#sk-container-id-1 input.sk-toggleable__control:checked~label.sk-toggleable__label-arrow:before {content: \"▾\";}#sk-container-id-1 div.sk-estimator input.sk-toggleable__control:checked~label.sk-toggleable__label {background-color: #d4ebff;}#sk-container-id-1 div.sk-label input.sk-toggleable__control:checked~label.sk-toggleable__label {background-color: #d4ebff;}#sk-container-id-1 input.sk-hidden--visually {border: 0;clip: rect(1px 1px 1px 1px);clip: rect(1px, 1px, 1px, 1px);height: 1px;margin: -1px;overflow: hidden;padding: 0;position: absolute;width: 1px;}#sk-container-id-1 div.sk-estimator {font-family: monospace;background-color: #f0f8ff;border: 1px dotted black;border-radius: 0.25em;box-sizing: border-box;margin-bottom: 0.5em;}#sk-container-id-1 div.sk-estimator:hover {background-color: #d4ebff;}#sk-container-id-1 div.sk-parallel-item::after {content: \"\";width: 100%;border-bottom: 1px solid gray;flex-grow: 1;}#sk-container-id-1 div.sk-label:hover label.sk-toggleable__label {background-color: #d4ebff;}#sk-container-id-1 div.sk-serial::before {content: \"\";position: absolute;border-left: 1px solid gray;box-sizing: border-box;top: 0;bottom: 0;left: 50%;z-index: 0;}#sk-container-id-1 div.sk-serial {display: flex;flex-direction: column;align-items: center;background-color: white;padding-right: 0.2em;padding-left: 0.2em;position: relative;}#sk-container-id-1 div.sk-item {position: relative;z-index: 1;}#sk-container-id-1 div.sk-parallel {display: flex;align-items: stretch;justify-content: center;background-color: white;position: relative;}#sk-container-id-1 div.sk-item::before, #sk-container-id-1 div.sk-parallel-item::before {content: \"\";position: absolute;border-left: 1px solid gray;box-sizing: border-box;top: 0;bottom: 0;left: 50%;z-index: -1;}#sk-container-id-1 div.sk-parallel-item {display: flex;flex-direction: column;z-index: 1;position: relative;background-color: white;}#sk-container-id-1 div.sk-parallel-item:first-child::after {align-self: flex-end;width: 50%;}#sk-container-id-1 div.sk-parallel-item:last-child::after {align-self: flex-start;width: 50%;}#sk-container-id-1 div.sk-parallel-item:only-child::after {width: 0;}#sk-container-id-1 div.sk-dashed-wrapped {border: 1px dashed gray;margin: 0 0.4em 0.5em 0.4em;box-sizing: border-box;padding-bottom: 0.4em;background-color: white;}#sk-container-id-1 div.sk-label label {font-family: monospace;font-weight: bold;display: inline-block;line-height: 1.2em;}#sk-container-id-1 div.sk-label-container {text-align: center;}#sk-container-id-1 div.sk-container {/* jupyter's `normalize.less` sets `[hidden] { display: none; }` but bootstrap.min.css set `[hidden] { display: none !important; }` so we also need the `!important` here to be able to override the default hidden behavior on the sphinx rendered scikit-learn.org. See: https://github.com/scikit-learn/scikit-learn/issues/21755 */display: inline-block !important;position: relative;}#sk-container-id-1 div.sk-text-repr-fallback {display: none;}</style><div id=\"sk-container-id-1\" class=\"sk-top-container\"><div class=\"sk-text-repr-fallback\"><pre>GridSearchCV(cv=10, estimator=GaussianNB(),\n",
       "             param_grid={&#x27;var_smoothing&#x27;: [1e-09, 1e-08, 1e-07, 1e-06, 1e-05]},\n",
       "             scoring=&#x27;accuracy&#x27;, verbose=3)</pre><b>In a Jupyter environment, please rerun this cell to show the HTML representation or trust the notebook. <br />On GitHub, the HTML representation is unable to render, please try loading this page with nbviewer.org.</b></div><div class=\"sk-container\" hidden><div class=\"sk-item sk-dashed-wrapped\"><div class=\"sk-label-container\"><div class=\"sk-label sk-toggleable\"><input class=\"sk-toggleable__control sk-hidden--visually\" id=\"sk-estimator-id-1\" type=\"checkbox\" ><label for=\"sk-estimator-id-1\" class=\"sk-toggleable__label sk-toggleable__label-arrow\">GridSearchCV</label><div class=\"sk-toggleable__content\"><pre>GridSearchCV(cv=10, estimator=GaussianNB(),\n",
       "             param_grid={&#x27;var_smoothing&#x27;: [1e-09, 1e-08, 1e-07, 1e-06, 1e-05]},\n",
       "             scoring=&#x27;accuracy&#x27;, verbose=3)</pre></div></div></div><div class=\"sk-parallel\"><div class=\"sk-parallel-item\"><div class=\"sk-item\"><div class=\"sk-label-container\"><div class=\"sk-label sk-toggleable\"><input class=\"sk-toggleable__control sk-hidden--visually\" id=\"sk-estimator-id-2\" type=\"checkbox\" ><label for=\"sk-estimator-id-2\" class=\"sk-toggleable__label sk-toggleable__label-arrow\">estimator: GaussianNB</label><div class=\"sk-toggleable__content\"><pre>GaussianNB()</pre></div></div></div><div class=\"sk-serial\"><div class=\"sk-item\"><div class=\"sk-estimator sk-toggleable\"><input class=\"sk-toggleable__control sk-hidden--visually\" id=\"sk-estimator-id-3\" type=\"checkbox\" ><label for=\"sk-estimator-id-3\" class=\"sk-toggleable__label sk-toggleable__label-arrow\">GaussianNB</label><div class=\"sk-toggleable__content\"><pre>GaussianNB()</pre></div></div></div></div></div></div></div></div></div></div>"
      ],
      "text/plain": [
       "GridSearchCV(cv=10, estimator=GaussianNB(),\n",
       "             param_grid={'var_smoothing': [1e-09, 1e-08, 1e-07, 1e-06, 1e-05]},\n",
       "             scoring='accuracy', verbose=3)"
      ]
     },
     "execution_count": 18,
     "metadata": {},
     "output_type": "execute_result"
    }
   ],
   "source": [
    "from sklearn.model_selection import GridSearchCV\n",
    "param_grid = {\n",
    "    'var_smoothing': [1e-9, 1e-8, 1e-7, 1e-6, 1e-5]\n",
    "}\n",
    "grid=GridSearchCV(gnb,param_grid=param_grid,cv=10,verbose=3,scoring='accuracy')\n",
    "grid.fit(X_train, y_train)"
   ]
  },
  {
   "cell_type": "code",
   "execution_count": 20,
   "id": "a7796838-2478-49b6-9660-74d86e4014fc",
   "metadata": {},
   "outputs": [
    {
     "data": {
      "text/plain": [
       "{'var_smoothing': 1e-06}"
      ]
     },
     "execution_count": 20,
     "metadata": {},
     "output_type": "execute_result"
    }
   ],
   "source": [
    "grid.best_params_"
   ]
  },
  {
   "cell_type": "code",
   "execution_count": 25,
   "id": "ead2ad8f-7615-43c2-8d49-20df3cf3d84b",
   "metadata": {},
   "outputs": [
    {
     "name": "stdout",
     "output_type": "stream",
     "text": [
      "0.8551774076755974\n",
      "0.7621696801112656\n",
      "0.949740034662045\n",
      "0.845679012345679\n"
     ]
    }
   ],
   "source": [
    "y_pred=grid.predict(X_test)\n",
    "print(accuracy_score(y_test,y_pred))\n",
    "print (precision_score(y_test,y_pred))\n",
    "print (recall_score(y_test,y_pred))\n",
    "print (f1_score(y_test,y_pred))"
   ]
  },
  {
   "cell_type": "markdown",
   "id": "776cf097-6b84-4caa-966c-4c96ca6ebd47",
   "metadata": {},
   "source": [
    "# Barnouli"
   ]
  },
  {
   "cell_type": "code",
   "execution_count": 26,
   "id": "c2242cfd-ed97-46e4-a09f-75eb865888d5",
   "metadata": {},
   "outputs": [
    {
     "name": "stdout",
     "output_type": "stream",
     "text": [
      "0.8790731354091238\n"
     ]
    }
   ],
   "source": [
    "bnb=BernoulliNB()\n",
    "bnb.fit(X_train,y_train)\n",
    "y_pred=bnb.predict(X_test)\n",
    "print(accuracy_score(y_test,y_pred))"
   ]
  },
  {
   "cell_type": "code",
   "execution_count": 27,
   "id": "fa85a945-acf0-4276-96b0-29f756819f56",
   "metadata": {},
   "outputs": [
    {
     "name": "stdout",
     "output_type": "stream",
     "text": [
      "Fitting 10 folds for each of 5 candidates, totalling 50 fits\n",
      "[CV 1/10] END ........................alpha=0.1;, score=0.916 total time=   0.0s\n",
      "[CV 2/10] END ........................alpha=0.1;, score=0.866 total time=   0.0s\n",
      "[CV 3/10] END ........................alpha=0.1;, score=0.866 total time=   0.0s\n",
      "[CV 4/10] END ........................alpha=0.1;, score=0.888 total time=   0.0s\n",
      "[CV 5/10] END ........................alpha=0.1;, score=0.885 total time=   0.0s\n",
      "[CV 6/10] END ........................alpha=0.1;, score=0.876 total time=   0.0s\n",
      "[CV 7/10] END ........................alpha=0.1;, score=0.907 total time=   0.0s\n",
      "[CV 8/10] END ........................alpha=0.1;, score=0.882 total time=   0.0s\n",
      "[CV 9/10] END ........................alpha=0.1;, score=0.876 total time=   0.0s\n",
      "[CV 10/10] END .......................alpha=0.1;, score=0.919 total time=   0.0s\n",
      "[CV 1/10] END ........................alpha=0.5;, score=0.916 total time=   0.0s\n",
      "[CV 2/10] END ........................alpha=0.5;, score=0.866 total time=   0.0s\n",
      "[CV 3/10] END ........................alpha=0.5;, score=0.866 total time=   0.0s\n",
      "[CV 4/10] END ........................alpha=0.5;, score=0.888 total time=   0.0s\n",
      "[CV 5/10] END ........................alpha=0.5;, score=0.882 total time=   0.0s\n",
      "[CV 6/10] END ........................alpha=0.5;, score=0.876 total time=   0.0s\n",
      "[CV 7/10] END ........................alpha=0.5;, score=0.907 total time=   0.0s\n",
      "[CV 8/10] END ........................alpha=0.5;, score=0.885 total time=   0.0s\n",
      "[CV 9/10] END ........................alpha=0.5;, score=0.876 total time=   0.0s\n",
      "[CV 10/10] END .......................alpha=0.5;, score=0.919 total time=   0.0s\n",
      "[CV 1/10] END ........................alpha=1.0;, score=0.913 total time=   0.0s\n",
      "[CV 2/10] END ........................alpha=1.0;, score=0.863 total time=   0.0s\n",
      "[CV 3/10] END ........................alpha=1.0;, score=0.866 total time=   0.0s\n",
      "[CV 4/10] END ........................alpha=1.0;, score=0.888 total time=   0.0s\n",
      "[CV 5/10] END ........................alpha=1.0;, score=0.882 total time=   0.0s\n",
      "[CV 6/10] END ........................alpha=1.0;, score=0.876 total time=   0.0s\n",
      "[CV 7/10] END ........................alpha=1.0;, score=0.907 total time=   0.0s\n",
      "[CV 8/10] END ........................alpha=1.0;, score=0.882 total time=   0.0s\n",
      "[CV 9/10] END ........................alpha=1.0;, score=0.876 total time=   0.0s\n",
      "[CV 10/10] END .......................alpha=1.0;, score=0.919 total time=   0.0s\n",
      "[CV 1/10] END ........................alpha=1.5;, score=0.913 total time=   0.0s\n",
      "[CV 2/10] END ........................alpha=1.5;, score=0.863 total time=   0.0s\n",
      "[CV 3/10] END ........................alpha=1.5;, score=0.866 total time=   0.0s\n",
      "[CV 4/10] END ........................alpha=1.5;, score=0.885 total time=   0.0s\n",
      "[CV 5/10] END ........................alpha=1.5;, score=0.885 total time=   0.0s\n",
      "[CV 6/10] END ........................alpha=1.5;, score=0.873 total time=   0.0s\n",
      "[CV 7/10] END ........................alpha=1.5;, score=0.907 total time=   0.0s\n",
      "[CV 8/10] END ........................alpha=1.5;, score=0.882 total time=   0.0s\n",
      "[CV 9/10] END ........................alpha=1.5;, score=0.873 total time=   0.0s\n",
      "[CV 10/10] END .......................alpha=1.5;, score=0.919 total time=   0.0s\n",
      "[CV 1/10] END ........................alpha=2.0;, score=0.913 total time=   0.0s\n",
      "[CV 2/10] END ........................alpha=2.0;, score=0.860 total time=   0.0s\n",
      "[CV 3/10] END ........................alpha=2.0;, score=0.866 total time=   0.0s\n",
      "[CV 4/10] END ........................alpha=2.0;, score=0.882 total time=   0.0s\n",
      "[CV 5/10] END ........................alpha=2.0;, score=0.885 total time=   0.0s\n",
      "[CV 6/10] END ........................alpha=2.0;, score=0.873 total time=   0.0s\n",
      "[CV 7/10] END ........................alpha=2.0;, score=0.904 total time=   0.0s\n",
      "[CV 8/10] END ........................alpha=2.0;, score=0.882 total time=   0.0s\n",
      "[CV 9/10] END ........................alpha=2.0;, score=0.873 total time=   0.0s\n",
      "[CV 10/10] END .......................alpha=2.0;, score=0.919 total time=   0.0s\n"
     ]
    },
    {
     "data": {
      "text/html": [
       "<style>#sk-container-id-2 {color: black;background-color: white;}#sk-container-id-2 pre{padding: 0;}#sk-container-id-2 div.sk-toggleable {background-color: white;}#sk-container-id-2 label.sk-toggleable__label {cursor: pointer;display: block;width: 100%;margin-bottom: 0;padding: 0.3em;box-sizing: border-box;text-align: center;}#sk-container-id-2 label.sk-toggleable__label-arrow:before {content: \"▸\";float: left;margin-right: 0.25em;color: #696969;}#sk-container-id-2 label.sk-toggleable__label-arrow:hover:before {color: black;}#sk-container-id-2 div.sk-estimator:hover label.sk-toggleable__label-arrow:before {color: black;}#sk-container-id-2 div.sk-toggleable__content {max-height: 0;max-width: 0;overflow: hidden;text-align: left;background-color: #f0f8ff;}#sk-container-id-2 div.sk-toggleable__content pre {margin: 0.2em;color: black;border-radius: 0.25em;background-color: #f0f8ff;}#sk-container-id-2 input.sk-toggleable__control:checked~div.sk-toggleable__content {max-height: 200px;max-width: 100%;overflow: auto;}#sk-container-id-2 input.sk-toggleable__control:checked~label.sk-toggleable__label-arrow:before {content: \"▾\";}#sk-container-id-2 div.sk-estimator input.sk-toggleable__control:checked~label.sk-toggleable__label {background-color: #d4ebff;}#sk-container-id-2 div.sk-label input.sk-toggleable__control:checked~label.sk-toggleable__label {background-color: #d4ebff;}#sk-container-id-2 input.sk-hidden--visually {border: 0;clip: rect(1px 1px 1px 1px);clip: rect(1px, 1px, 1px, 1px);height: 1px;margin: -1px;overflow: hidden;padding: 0;position: absolute;width: 1px;}#sk-container-id-2 div.sk-estimator {font-family: monospace;background-color: #f0f8ff;border: 1px dotted black;border-radius: 0.25em;box-sizing: border-box;margin-bottom: 0.5em;}#sk-container-id-2 div.sk-estimator:hover {background-color: #d4ebff;}#sk-container-id-2 div.sk-parallel-item::after {content: \"\";width: 100%;border-bottom: 1px solid gray;flex-grow: 1;}#sk-container-id-2 div.sk-label:hover label.sk-toggleable__label {background-color: #d4ebff;}#sk-container-id-2 div.sk-serial::before {content: \"\";position: absolute;border-left: 1px solid gray;box-sizing: border-box;top: 0;bottom: 0;left: 50%;z-index: 0;}#sk-container-id-2 div.sk-serial {display: flex;flex-direction: column;align-items: center;background-color: white;padding-right: 0.2em;padding-left: 0.2em;position: relative;}#sk-container-id-2 div.sk-item {position: relative;z-index: 1;}#sk-container-id-2 div.sk-parallel {display: flex;align-items: stretch;justify-content: center;background-color: white;position: relative;}#sk-container-id-2 div.sk-item::before, #sk-container-id-2 div.sk-parallel-item::before {content: \"\";position: absolute;border-left: 1px solid gray;box-sizing: border-box;top: 0;bottom: 0;left: 50%;z-index: -1;}#sk-container-id-2 div.sk-parallel-item {display: flex;flex-direction: column;z-index: 1;position: relative;background-color: white;}#sk-container-id-2 div.sk-parallel-item:first-child::after {align-self: flex-end;width: 50%;}#sk-container-id-2 div.sk-parallel-item:last-child::after {align-self: flex-start;width: 50%;}#sk-container-id-2 div.sk-parallel-item:only-child::after {width: 0;}#sk-container-id-2 div.sk-dashed-wrapped {border: 1px dashed gray;margin: 0 0.4em 0.5em 0.4em;box-sizing: border-box;padding-bottom: 0.4em;background-color: white;}#sk-container-id-2 div.sk-label label {font-family: monospace;font-weight: bold;display: inline-block;line-height: 1.2em;}#sk-container-id-2 div.sk-label-container {text-align: center;}#sk-container-id-2 div.sk-container {/* jupyter's `normalize.less` sets `[hidden] { display: none; }` but bootstrap.min.css set `[hidden] { display: none !important; }` so we also need the `!important` here to be able to override the default hidden behavior on the sphinx rendered scikit-learn.org. See: https://github.com/scikit-learn/scikit-learn/issues/21755 */display: inline-block !important;position: relative;}#sk-container-id-2 div.sk-text-repr-fallback {display: none;}</style><div id=\"sk-container-id-2\" class=\"sk-top-container\"><div class=\"sk-text-repr-fallback\"><pre>GridSearchCV(cv=10, estimator=BernoulliNB(),\n",
       "             param_grid={&#x27;alpha&#x27;: [0.1, 0.5, 1.0, 1.5, 2.0]},\n",
       "             scoring=&#x27;accuracy&#x27;, verbose=3)</pre><b>In a Jupyter environment, please rerun this cell to show the HTML representation or trust the notebook. <br />On GitHub, the HTML representation is unable to render, please try loading this page with nbviewer.org.</b></div><div class=\"sk-container\" hidden><div class=\"sk-item sk-dashed-wrapped\"><div class=\"sk-label-container\"><div class=\"sk-label sk-toggleable\"><input class=\"sk-toggleable__control sk-hidden--visually\" id=\"sk-estimator-id-4\" type=\"checkbox\" ><label for=\"sk-estimator-id-4\" class=\"sk-toggleable__label sk-toggleable__label-arrow\">GridSearchCV</label><div class=\"sk-toggleable__content\"><pre>GridSearchCV(cv=10, estimator=BernoulliNB(),\n",
       "             param_grid={&#x27;alpha&#x27;: [0.1, 0.5, 1.0, 1.5, 2.0]},\n",
       "             scoring=&#x27;accuracy&#x27;, verbose=3)</pre></div></div></div><div class=\"sk-parallel\"><div class=\"sk-parallel-item\"><div class=\"sk-item\"><div class=\"sk-label-container\"><div class=\"sk-label sk-toggleable\"><input class=\"sk-toggleable__control sk-hidden--visually\" id=\"sk-estimator-id-5\" type=\"checkbox\" ><label for=\"sk-estimator-id-5\" class=\"sk-toggleable__label sk-toggleable__label-arrow\">estimator: BernoulliNB</label><div class=\"sk-toggleable__content\"><pre>BernoulliNB()</pre></div></div></div><div class=\"sk-serial\"><div class=\"sk-item\"><div class=\"sk-estimator sk-toggleable\"><input class=\"sk-toggleable__control sk-hidden--visually\" id=\"sk-estimator-id-6\" type=\"checkbox\" ><label for=\"sk-estimator-id-6\" class=\"sk-toggleable__label sk-toggleable__label-arrow\">BernoulliNB</label><div class=\"sk-toggleable__content\"><pre>BernoulliNB()</pre></div></div></div></div></div></div></div></div></div></div>"
      ],
      "text/plain": [
       "GridSearchCV(cv=10, estimator=BernoulliNB(),\n",
       "             param_grid={'alpha': [0.1, 0.5, 1.0, 1.5, 2.0]},\n",
       "             scoring='accuracy', verbose=3)"
      ]
     },
     "execution_count": 27,
     "metadata": {},
     "output_type": "execute_result"
    }
   ],
   "source": [
    "from sklearn.model_selection import GridSearchCV\n",
    "param_grid = {\n",
    "    'alpha': [0.1, 0.5, 1.0, 1.5, 2.0]\n",
    "}\n",
    "grid=GridSearchCV(bnb,param_grid=param_grid,cv=10,verbose=3,scoring='accuracy')\n",
    "grid.fit(X_train, y_train)"
   ]
  },
  {
   "cell_type": "code",
   "execution_count": 28,
   "id": "ea3c7297-9776-46e0-a8a6-5a2a52b9c407",
   "metadata": {},
   "outputs": [
    {
     "data": {
      "text/plain": [
       "{'alpha': 0.1}"
      ]
     },
     "execution_count": 28,
     "metadata": {},
     "output_type": "execute_result"
    }
   ],
   "source": [
    "grid.best_params_"
   ]
  },
  {
   "cell_type": "code",
   "execution_count": 29,
   "id": "6777223e-4a52-4f12-9c4e-d5b6ff1932d9",
   "metadata": {},
   "outputs": [
    {
     "name": "stdout",
     "output_type": "stream",
     "text": [
      "0.8790731354091238\n",
      "0.8882575757575758\n",
      "0.8128249566724437\n",
      "0.848868778280543\n"
     ]
    }
   ],
   "source": [
    "y_pred=grid.predict(X_test)\n",
    "print(accuracy_score(y_test,y_pred))\n",
    "print (precision_score(y_test,y_pred))\n",
    "print (recall_score(y_test,y_pred))\n",
    "print (f1_score(y_test,y_pred))"
   ]
  },
  {
   "cell_type": "markdown",
   "id": "23c466f2-24f9-4637-a4b8-3e3b54e1882c",
   "metadata": {},
   "source": [
    "# multinomial"
   ]
  },
  {
   "cell_type": "code",
   "execution_count": 32,
   "id": "5aba467d-3519-4407-83f3-c99e6fc62ef6",
   "metadata": {},
   "outputs": [
    {
     "name": "stdout",
     "output_type": "stream",
     "text": [
      "0.782041998551774\n"
     ]
    }
   ],
   "source": [
    "mnb=MultinomialNB()\n",
    "mnb.fit(X_train,y_train)\n",
    "y_pred=mnb.predict(X_test)\n",
    "print(accuracy_score(y_test,y_pred))"
   ]
  },
  {
   "cell_type": "code",
   "execution_count": 33,
   "id": "cad4eeee-dd81-4bb6-8fcf-fabc98cafd36",
   "metadata": {},
   "outputs": [
    {
     "name": "stdout",
     "output_type": "stream",
     "text": [
      "Fitting 10 folds for each of 5 candidates, totalling 50 fits\n",
      "[CV 1/10] END ........................alpha=0.1;, score=0.823 total time=   0.0s\n",
      "[CV 2/10] END ........................alpha=0.1;, score=0.748 total time=   0.0s\n",
      "[CV 3/10] END ........................alpha=0.1;, score=0.780 total time=   0.0s\n",
      "[CV 4/10] END ........................alpha=0.1;, score=0.770 total time=   0.0s\n",
      "[CV 5/10] END ........................alpha=0.1;, score=0.798 total time=   0.0s\n",
      "[CV 6/10] END ........................alpha=0.1;, score=0.795 total time=   0.0s\n",
      "[CV 7/10] END ........................alpha=0.1;, score=0.835 total time=   0.0s\n",
      "[CV 8/10] END ........................alpha=0.1;, score=0.823 total time=   0.0s\n",
      "[CV 9/10] END ........................alpha=0.1;, score=0.780 total time=   0.0s\n",
      "[CV 10/10] END .......................alpha=0.1;, score=0.770 total time=   0.0s\n",
      "[CV 1/10] END ........................alpha=0.5;, score=0.823 total time=   0.0s\n",
      "[CV 2/10] END ........................alpha=0.5;, score=0.745 total time=   0.0s\n",
      "[CV 3/10] END ........................alpha=0.5;, score=0.776 total time=   0.0s\n",
      "[CV 4/10] END ........................alpha=0.5;, score=0.770 total time=   0.0s\n",
      "[CV 5/10] END ........................alpha=0.5;, score=0.801 total time=   0.0s\n",
      "[CV 6/10] END ........................alpha=0.5;, score=0.792 total time=   0.0s\n",
      "[CV 7/10] END ........................alpha=0.5;, score=0.835 total time=   0.0s\n",
      "[CV 8/10] END ........................alpha=0.5;, score=0.820 total time=   0.0s\n",
      "[CV 9/10] END ........................alpha=0.5;, score=0.780 total time=   0.0s\n",
      "[CV 10/10] END .......................alpha=0.5;, score=0.770 total time=   0.0s\n",
      "[CV 1/10] END ........................alpha=1.0;, score=0.820 total time=   0.0s\n",
      "[CV 2/10] END ........................alpha=1.0;, score=0.745 total time=   0.0s\n",
      "[CV 3/10] END ........................alpha=1.0;, score=0.773 total time=   0.0s\n",
      "[CV 4/10] END ........................alpha=1.0;, score=0.770 total time=   0.0s\n",
      "[CV 5/10] END ........................alpha=1.0;, score=0.801 total time=   0.0s\n",
      "[CV 6/10] END ........................alpha=1.0;, score=0.792 total time=   0.0s\n",
      "[CV 7/10] END ........................alpha=1.0;, score=0.835 total time=   0.0s\n",
      "[CV 8/10] END ........................alpha=1.0;, score=0.820 total time=   0.0s\n",
      "[CV 9/10] END ........................alpha=1.0;, score=0.780 total time=   0.0s\n",
      "[CV 10/10] END .......................alpha=1.0;, score=0.770 total time=   0.0s\n",
      "[CV 1/10] END ........................alpha=1.5;, score=0.817 total time=   0.0s\n",
      "[CV 2/10] END ........................alpha=1.5;, score=0.745 total time=   0.0s\n",
      "[CV 3/10] END ........................alpha=1.5;, score=0.773 total time=   0.0s\n",
      "[CV 4/10] END ........................alpha=1.5;, score=0.770 total time=   0.0s\n",
      "[CV 5/10] END ........................alpha=1.5;, score=0.801 total time=   0.0s\n",
      "[CV 6/10] END ........................alpha=1.5;, score=0.792 total time=   0.0s\n",
      "[CV 7/10] END ........................alpha=1.5;, score=0.835 total time=   0.0s\n",
      "[CV 8/10] END ........................alpha=1.5;, score=0.820 total time=   0.0s\n",
      "[CV 9/10] END ........................alpha=1.5;, score=0.780 total time=   0.0s\n",
      "[CV 10/10] END .......................alpha=1.5;, score=0.770 total time=   0.0s\n",
      "[CV 1/10] END ........................alpha=2.0;, score=0.814 total time=   0.0s\n",
      "[CV 2/10] END ........................alpha=2.0;, score=0.745 total time=   0.0s\n",
      "[CV 3/10] END ........................alpha=2.0;, score=0.770 total time=   0.0s\n",
      "[CV 4/10] END ........................alpha=2.0;, score=0.770 total time=   0.0s\n",
      "[CV 5/10] END ........................alpha=2.0;, score=0.801 total time=   0.0s\n",
      "[CV 6/10] END ........................alpha=2.0;, score=0.792 total time=   0.0s\n",
      "[CV 7/10] END ........................alpha=2.0;, score=0.832 total time=   0.0s\n",
      "[CV 8/10] END ........................alpha=2.0;, score=0.820 total time=   0.0s\n",
      "[CV 9/10] END ........................alpha=2.0;, score=0.780 total time=   0.0s\n",
      "[CV 10/10] END .......................alpha=2.0;, score=0.770 total time=   0.0s\n"
     ]
    },
    {
     "data": {
      "text/html": [
       "<style>#sk-container-id-3 {color: black;background-color: white;}#sk-container-id-3 pre{padding: 0;}#sk-container-id-3 div.sk-toggleable {background-color: white;}#sk-container-id-3 label.sk-toggleable__label {cursor: pointer;display: block;width: 100%;margin-bottom: 0;padding: 0.3em;box-sizing: border-box;text-align: center;}#sk-container-id-3 label.sk-toggleable__label-arrow:before {content: \"▸\";float: left;margin-right: 0.25em;color: #696969;}#sk-container-id-3 label.sk-toggleable__label-arrow:hover:before {color: black;}#sk-container-id-3 div.sk-estimator:hover label.sk-toggleable__label-arrow:before {color: black;}#sk-container-id-3 div.sk-toggleable__content {max-height: 0;max-width: 0;overflow: hidden;text-align: left;background-color: #f0f8ff;}#sk-container-id-3 div.sk-toggleable__content pre {margin: 0.2em;color: black;border-radius: 0.25em;background-color: #f0f8ff;}#sk-container-id-3 input.sk-toggleable__control:checked~div.sk-toggleable__content {max-height: 200px;max-width: 100%;overflow: auto;}#sk-container-id-3 input.sk-toggleable__control:checked~label.sk-toggleable__label-arrow:before {content: \"▾\";}#sk-container-id-3 div.sk-estimator input.sk-toggleable__control:checked~label.sk-toggleable__label {background-color: #d4ebff;}#sk-container-id-3 div.sk-label input.sk-toggleable__control:checked~label.sk-toggleable__label {background-color: #d4ebff;}#sk-container-id-3 input.sk-hidden--visually {border: 0;clip: rect(1px 1px 1px 1px);clip: rect(1px, 1px, 1px, 1px);height: 1px;margin: -1px;overflow: hidden;padding: 0;position: absolute;width: 1px;}#sk-container-id-3 div.sk-estimator {font-family: monospace;background-color: #f0f8ff;border: 1px dotted black;border-radius: 0.25em;box-sizing: border-box;margin-bottom: 0.5em;}#sk-container-id-3 div.sk-estimator:hover {background-color: #d4ebff;}#sk-container-id-3 div.sk-parallel-item::after {content: \"\";width: 100%;border-bottom: 1px solid gray;flex-grow: 1;}#sk-container-id-3 div.sk-label:hover label.sk-toggleable__label {background-color: #d4ebff;}#sk-container-id-3 div.sk-serial::before {content: \"\";position: absolute;border-left: 1px solid gray;box-sizing: border-box;top: 0;bottom: 0;left: 50%;z-index: 0;}#sk-container-id-3 div.sk-serial {display: flex;flex-direction: column;align-items: center;background-color: white;padding-right: 0.2em;padding-left: 0.2em;position: relative;}#sk-container-id-3 div.sk-item {position: relative;z-index: 1;}#sk-container-id-3 div.sk-parallel {display: flex;align-items: stretch;justify-content: center;background-color: white;position: relative;}#sk-container-id-3 div.sk-item::before, #sk-container-id-3 div.sk-parallel-item::before {content: \"\";position: absolute;border-left: 1px solid gray;box-sizing: border-box;top: 0;bottom: 0;left: 50%;z-index: -1;}#sk-container-id-3 div.sk-parallel-item {display: flex;flex-direction: column;z-index: 1;position: relative;background-color: white;}#sk-container-id-3 div.sk-parallel-item:first-child::after {align-self: flex-end;width: 50%;}#sk-container-id-3 div.sk-parallel-item:last-child::after {align-self: flex-start;width: 50%;}#sk-container-id-3 div.sk-parallel-item:only-child::after {width: 0;}#sk-container-id-3 div.sk-dashed-wrapped {border: 1px dashed gray;margin: 0 0.4em 0.5em 0.4em;box-sizing: border-box;padding-bottom: 0.4em;background-color: white;}#sk-container-id-3 div.sk-label label {font-family: monospace;font-weight: bold;display: inline-block;line-height: 1.2em;}#sk-container-id-3 div.sk-label-container {text-align: center;}#sk-container-id-3 div.sk-container {/* jupyter's `normalize.less` sets `[hidden] { display: none; }` but bootstrap.min.css set `[hidden] { display: none !important; }` so we also need the `!important` here to be able to override the default hidden behavior on the sphinx rendered scikit-learn.org. See: https://github.com/scikit-learn/scikit-learn/issues/21755 */display: inline-block !important;position: relative;}#sk-container-id-3 div.sk-text-repr-fallback {display: none;}</style><div id=\"sk-container-id-3\" class=\"sk-top-container\"><div class=\"sk-text-repr-fallback\"><pre>GridSearchCV(cv=10, estimator=MultinomialNB(),\n",
       "             param_grid={&#x27;alpha&#x27;: [0.1, 0.5, 1.0, 1.5, 2.0]},\n",
       "             scoring=&#x27;accuracy&#x27;, verbose=3)</pre><b>In a Jupyter environment, please rerun this cell to show the HTML representation or trust the notebook. <br />On GitHub, the HTML representation is unable to render, please try loading this page with nbviewer.org.</b></div><div class=\"sk-container\" hidden><div class=\"sk-item sk-dashed-wrapped\"><div class=\"sk-label-container\"><div class=\"sk-label sk-toggleable\"><input class=\"sk-toggleable__control sk-hidden--visually\" id=\"sk-estimator-id-7\" type=\"checkbox\" ><label for=\"sk-estimator-id-7\" class=\"sk-toggleable__label sk-toggleable__label-arrow\">GridSearchCV</label><div class=\"sk-toggleable__content\"><pre>GridSearchCV(cv=10, estimator=MultinomialNB(),\n",
       "             param_grid={&#x27;alpha&#x27;: [0.1, 0.5, 1.0, 1.5, 2.0]},\n",
       "             scoring=&#x27;accuracy&#x27;, verbose=3)</pre></div></div></div><div class=\"sk-parallel\"><div class=\"sk-parallel-item\"><div class=\"sk-item\"><div class=\"sk-label-container\"><div class=\"sk-label sk-toggleable\"><input class=\"sk-toggleable__control sk-hidden--visually\" id=\"sk-estimator-id-8\" type=\"checkbox\" ><label for=\"sk-estimator-id-8\" class=\"sk-toggleable__label sk-toggleable__label-arrow\">estimator: MultinomialNB</label><div class=\"sk-toggleable__content\"><pre>MultinomialNB()</pre></div></div></div><div class=\"sk-serial\"><div class=\"sk-item\"><div class=\"sk-estimator sk-toggleable\"><input class=\"sk-toggleable__control sk-hidden--visually\" id=\"sk-estimator-id-9\" type=\"checkbox\" ><label for=\"sk-estimator-id-9\" class=\"sk-toggleable__label sk-toggleable__label-arrow\">MultinomialNB</label><div class=\"sk-toggleable__content\"><pre>MultinomialNB()</pre></div></div></div></div></div></div></div></div></div></div>"
      ],
      "text/plain": [
       "GridSearchCV(cv=10, estimator=MultinomialNB(),\n",
       "             param_grid={'alpha': [0.1, 0.5, 1.0, 1.5, 2.0]},\n",
       "             scoring='accuracy', verbose=3)"
      ]
     },
     "execution_count": 33,
     "metadata": {},
     "output_type": "execute_result"
    }
   ],
   "source": [
    "from sklearn.model_selection import GridSearchCV\n",
    "param_grid = {\n",
    "     'alpha': [0.1, 0.5, 1.0, 1.5, 2.0]\n",
    "}\n",
    "grid=GridSearchCV(mnb,param_grid=param_grid,cv=10,verbose=3,scoring='accuracy')\n",
    "grid.fit(X_train, y_train)"
   ]
  },
  {
   "cell_type": "code",
   "execution_count": 34,
   "id": "4a1f684e-7a31-4171-873f-ff3ca4f3f237",
   "metadata": {},
   "outputs": [
    {
     "data": {
      "text/plain": [
       "{'alpha': 0.1}"
      ]
     },
     "execution_count": 34,
     "metadata": {},
     "output_type": "execute_result"
    }
   ],
   "source": [
    "grid.best_params_"
   ]
  },
  {
   "cell_type": "code",
   "execution_count": 35,
   "id": "2145923c-4c6a-4440-bce0-25c203360459",
   "metadata": {},
   "outputs": [
    {
     "name": "stdout",
     "output_type": "stream",
     "text": [
      "0.782766111513396\n",
      "0.7628083491461101\n",
      "0.6967071057192374\n",
      "0.7282608695652174\n"
     ]
    }
   ],
   "source": [
    "y_pred=grid.predict(X_test)\n",
    "print(accuracy_score(y_test,y_pred))\n",
    "print (precision_score(y_test,y_pred))\n",
    "print (recall_score(y_test,y_pred))\n",
    "print (f1_score(y_test,y_pred))"
   ]
  },
  {
   "cell_type": "markdown",
   "id": "b954b05b-1a82-436e-9010-d4d53460296a",
   "metadata": {},
   "source": [
    "Conclusion:\n",
    "\n",
    "Bernoulli Naive Bayes seems to be the best-performing model overall in this scenario based on the provided metrics. It has the highest accuracy, precision, and F1-score.\n",
    "\n",
    "Gaussian Naive Bayes performs well in terms of recall but slightly lower in precision compared to Bernoulli NB.\n",
    "\n",
    "Multinomial Naive Bayes has the lowest scores across all metrics, indicating it might not be the best choice for this particular dataset or task.\n",
    "\n",
    "\n",
    "When choosing the best model, consider the specific requirements of your problem. If precision is more important (e.g., in medical diagnoses), Bernoulli NB might be preferred. If recall is critical (e.g., identifying fraudulent transactions), Gaussian NB could be the choice. In general scenarios, where a balance of precision and recall is desired, Bernoulli NB with its higher F1-score might be the most suitable option."
   ]
  },
  {
   "cell_type": "code",
   "execution_count": null,
   "id": "dff41872-056c-48b6-b1c3-f4f566241764",
   "metadata": {},
   "outputs": [],
   "source": []
  }
 ],
 "metadata": {
  "kernelspec": {
   "display_name": "Python 3 (ipykernel)",
   "language": "python",
   "name": "python3"
  },
  "language_info": {
   "codemirror_mode": {
    "name": "ipython",
    "version": 3
   },
   "file_extension": ".py",
   "mimetype": "text/x-python",
   "name": "python",
   "nbconvert_exporter": "python",
   "pygments_lexer": "ipython3",
   "version": "3.10.8"
  }
 },
 "nbformat": 4,
 "nbformat_minor": 5
}
