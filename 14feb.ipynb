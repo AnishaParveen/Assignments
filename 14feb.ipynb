{
 "cells": [
  {
   "cell_type": "markdown",
   "id": "d06d879d-4271-4153-bcdd-6b90e15e2d9b",
   "metadata": {},
   "source": [
    "1. what is multithreading in python? why is it used? Name the module used to handle threads in python?\n",
    "\n",
    "ans->Multithreading is defined as the ability of a processor to execute multiple threads concurrently.[A thread is an entity within a process that can be scheduled for execution. Also, it is the smallest unit of processing that can be performed in an Operating System]\n",
    "\n",
    "we use it because it is a popular technique that enables multiple tasks to be executed simultaneously.\n",
    "\n",
    "the \"threading\" module used to handle threads in python."
   ]
  },
  {
   "cell_type": "markdown",
   "id": "c699a93e-47af-4792-95a2-c2f1af098ccb",
   "metadata": {},
   "source": [
    "2. why threading module used? write the use of the following functions->\n",
    " activeCount(),currentThread(), enumerate().\n",
    "    \n",
    "ans->threading module in python provides us classes and methods to create and start threads in python for implementing multithreading.\n",
    "\n",
    "activeCount() − Returns the number of thread objects that are active.\n",
    "\n",
    "currentThread() − Returns the number of thread objects in the caller's thread control.\n",
    "\n",
    "enumerate() − Returns a list of all thread objects that are currently active."
   ]
  },
  {
   "cell_type": "markdown",
   "id": "707480c1-9318-4034-821a-1308f7b9df0b",
   "metadata": {},
   "source": [
    "3. Explain the following functions-run(),start(),join(),isAlive()\n",
    "\n",
    "ans->run()  − The run() method is the entry point for a thread.\n",
    "\n",
    "start()  − The start() method starts a thread by calling the run method.\n",
    "\n",
    "join()  − The join() waits for threads to terminate.\n",
    "\n",
    "isAlive()  − The isAlive() method checks whether a thread is still executing."
   ]
  },
  {
   "cell_type": "markdown",
   "id": "8eb6a457-a3e0-42d6-8607-97b239c0f784",
   "metadata": {},
   "source": [
    "4. write a python program to create two threads. Thread one must print the list of squares and thread\n",
    "two must print the list of cubes"
   ]
  },
  {
   "cell_type": "code",
   "execution_count": 84,
   "id": "83c74f28-8821-4ddd-83bc-fb3164167e5f",
   "metadata": {},
   "outputs": [],
   "source": [
    "import threading \n",
    "def square(x):\n",
    "    print(x**2)\n",
    "def cube(x):\n",
    "    print(x**3)\n",
    "thread1=[threading.Thread(target=square,args=(i,)) for i in [1,2,3,4]]\n",
    "thread2=[threading.Thread(target=cube,args=(i,)) for i in [1,2,3,4]]"
   ]
  },
  {
   "cell_type": "code",
   "execution_count": 85,
   "id": "2ccf298e-b151-4506-a891-e4de4b3e2414",
   "metadata": {},
   "outputs": [
    {
     "name": "stdout",
     "output_type": "stream",
     "text": [
      "1\n",
      "4\n",
      "9\n",
      "16\n"
     ]
    }
   ],
   "source": [
    "for t1 in thread1:\n",
    "    t1.start()"
   ]
  },
  {
   "cell_type": "code",
   "execution_count": 86,
   "id": "1ba1ea97-529d-4db2-9c25-c5acd861c158",
   "metadata": {},
   "outputs": [
    {
     "name": "stdout",
     "output_type": "stream",
     "text": [
      "1\n",
      "8\n",
      "27\n",
      "64\n"
     ]
    }
   ],
   "source": [
    "for t2 in thread2:\n",
    "    t2.start()"
   ]
  },
  {
   "cell_type": "markdown",
   "id": "80f3ba21-ab13-43e0-8fee-2247cb3fe1d8",
   "metadata": {},
   "source": [
    "5. State advantages and disadvantages of multithreading.\n",
    "\n",
    "ans-> main advantages:\n",
    "Multithreading in Python streamlines the efficient utilization of resources as the threads share the same memory and data space.\n",
    "It also allows the concurrent appearance of multiple tasks and reduces the response time. This improves the performance.\n",
    "\n",
    "disadvantages:\n",
    "Difficulty of writing code,debugging, managing concurrency and also difficulty of testing"
   ]
  },
  {
   "cell_type": "markdown",
   "id": "6f9b6600-9f95-42d0-999e-5ce7634e685a",
   "metadata": {},
   "source": [
    "6. Explain deadlocks and race conditions.\n",
    "\n",
    "ans->A deadlock occurs when a thread enters a waiting state because a requested resource is held by another waiting thread, which in turn is waiting for another resource held by another waiting thread. If a thread is unable to change its state indefinitely because the resources requested by it are being used by another waiting thread, then the system is said to be in a deadlock.\n",
    "\n",
    " Race conditions occur when two threads interact in a negative (buggy) way depending on the exact order that their different instructions are executed."
   ]
  },
  {
   "cell_type": "code",
   "execution_count": null,
   "id": "81b72095-0507-4651-89d7-af41d3c93014",
   "metadata": {},
   "outputs": [],
   "source": []
  }
 ],
 "metadata": {
  "kernelspec": {
   "display_name": "Python 3 (ipykernel)",
   "language": "python",
   "name": "python3"
  },
  "language_info": {
   "codemirror_mode": {
    "name": "ipython",
    "version": 3
   },
   "file_extension": ".py",
   "mimetype": "text/x-python",
   "name": "python",
   "nbconvert_exporter": "python",
   "pygments_lexer": "ipython3",
   "version": "3.10.8"
  }
 },
 "nbformat": 4,
 "nbformat_minor": 5
}
