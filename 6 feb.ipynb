{
 "cells": [
  {
   "cell_type": "markdown",
   "id": "a0dab9b0-4e8c-4e9a-85be-362d177798b4",
   "metadata": {},
   "source": [
    "Q1. Create a function which will take a list as an argument and return the product of all the numbers\n",
    "after creating a flat list.\n",
    "\n",
    "Use the below-given list as an argument for your function.\n",
    "\n",
    "list1 = [1,2,3,4, [44,55,66, True], False, (34,56,78,89,34), {1,2,3,3,2,1}, {1:34, \"key2\": [55, 67, 78, 89], 4: (45,\n",
    "22, 61, 34)}, [56, 'data science'], 'Machine Learning']\n",
    "Note: you must extract numeric keys and values of the dictionary also."
   ]
  },
  {
   "cell_type": "code",
   "execution_count": 13,
   "id": "79ed7857-80f2-41e0-9eeb-9b7f4c343a4e",
   "metadata": {},
   "outputs": [],
   "source": [
    "list1 = [1,2,3,4, [44,55,66, True], False, (34,56,78,89,34), {1,2,3,3,2,1}, {1:34, \"key2\": [55, 67, 78, 89], 4: (45, 22, 61, 34)}, [56, 'data science'], 'Machine Learning']\n",
    "def create_list(l):\n",
    "    l1=[]\n",
    "    for i in l:\n",
    "        if type(i)==int or type(i)==float:\n",
    "            l1.append(i)\n",
    "        if type(i)==list or type(i)==tuple or type(i)==set:\n",
    "            for j in i:\n",
    "                if type(j)==int or type(j)==float:\n",
    "                    l1.append(j)\n",
    "                \n",
    "        if type(i)==dict:\n",
    "            for k in i.keys():\n",
    "                if type(k)==int or type(k)==float:\n",
    "                    l1.append(k)\n",
    "                \n",
    "            for m in i.values():\n",
    "                if type(m)==int or type(m)==float:\n",
    "                    l1.append(m)\n",
    "                if type(m)==list or type(m)==tuple or type(m)==set:\n",
    "                                for n in m:\n",
    "                                    if type(n)==int or type(n)==float:\n",
    "                                            l1.append(n)\n",
    "                \n",
    "                \n",
    "                \n",
    "    return l1\n"
   ]
  },
  {
   "cell_type": "code",
   "execution_count": 17,
   "id": "812feb0d-93ad-401b-962a-7e9d56673c8f",
   "metadata": {},
   "outputs": [
    {
     "name": "stdout",
     "output_type": "stream",
     "text": [
      "[1, 2, 3, 4, 44, 55, 66, 34, 56, 78, 89, 34, 1, 2, 3, 1, 4, 34, 55, 67, 78, 89, 45, 22, 61, 34, 56],"
     ]
    }
   ],
   "source": [
    "new_list=create_list(list1)\n",
    "print(new_list,end=\",\")"
   ]
  },
  {
   "cell_type": "code",
   "execution_count": 18,
   "id": "eeab7e4b-5c22-4b7b-935e-4c3429c4e754",
   "metadata": {},
   "outputs": [
    {
     "name": "stdout",
     "output_type": "stream",
     "text": [
      "4134711838987085478833841242112000\n"
     ]
    }
   ],
   "source": [
    "from functools import reduce\n",
    "product = reduce(lambda x, y: x*y, new_list)\n",
    "\n",
    "print(product)"
   ]
  },
  {
   "cell_type": "markdown",
   "id": "94888e01-19f0-469d-9024-e30109875223",
   "metadata": {},
   "source": [
    "Q2. Write a python program for encrypting a message sent to you by your friend. The logic of encryption\n",
    "should be such that, for a the output should be z. For b, the output should be y. For c, the output should\n",
    "be x respectively. Also, the whitespace should be replaced with a dollar sign. Keep the punctuation\n",
    "marks unchanged.\n",
    "Input Sentence: I want to become a Data Scientist.\n",
    "Encrypt the above input sentence using the program you just created.\n",
    "Note: Convert the given input sentence into lowercase before encrypting. The final output should be\n",
    "lowercase."
   ]
  },
  {
   "cell_type": "code",
   "execution_count": 50,
   "id": "76c62baf-be7a-480f-ad66-625ed397eb30",
   "metadata": {},
   "outputs": [
    {
     "data": {
      "text/plain": [
       "'r$dzmg$gl$yvxlnv$z$wzgz$hxrvmgrhg.'"
      ]
     },
     "execution_count": 50,
     "metadata": {},
     "output_type": "execute_result"
    }
   ],
   "source": [
    "ip=\"I want to become a Data Scientist.\"\n",
    "new=\"\"\n",
    "new_ip=ip.lower()\n",
    "for i in range(len(new_ip)):\n",
    "    char=new_ip[i]\n",
    "    if char==\" \":\n",
    "        new+=\"$\"\n",
    "    elif char==\".\":\n",
    "        new+=\".\"\n",
    "    else:\n",
    "        new+=char.replace(char,chr(219-ord(char)))\n",
    "    \n",
    "new"
   ]
  },
  {
   "cell_type": "code",
   "execution_count": null,
   "id": "cf488cbe-0125-41e2-95fe-f41e51f8ec34",
   "metadata": {},
   "outputs": [],
   "source": []
  },
  {
   "cell_type": "code",
   "execution_count": null,
   "id": "e5036bbe-7120-4b33-a6a8-405f5ce1f10c",
   "metadata": {},
   "outputs": [],
   "source": []
  },
  {
   "cell_type": "code",
   "execution_count": null,
   "id": "a5b8d3e0-ab8c-497c-b14a-f3a040c877f1",
   "metadata": {},
   "outputs": [],
   "source": []
  },
  {
   "cell_type": "code",
   "execution_count": null,
   "id": "6e4150fa-443c-4e47-b866-bfdf043e4ae3",
   "metadata": {},
   "outputs": [],
   "source": []
  }
 ],
 "metadata": {
  "kernelspec": {
   "display_name": "Python 3 (ipykernel)",
   "language": "python",
   "name": "python3"
  },
  "language_info": {
   "codemirror_mode": {
    "name": "ipython",
    "version": 3
   },
   "file_extension": ".py",
   "mimetype": "text/x-python",
   "name": "python",
   "nbconvert_exporter": "python",
   "pygments_lexer": "ipython3",
   "version": "3.10.8"
  }
 },
 "nbformat": 4,
 "nbformat_minor": 5
}
