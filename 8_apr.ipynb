{
 "cells": [
  {
   "cell_type": "markdown",
   "id": "2e3c650a-d0a8-4610-9b27-8dd4ad97efa4",
   "metadata": {},
   "source": [
    "Q1. In order to predict house price based on several characteristics, such as location, square footage,\n",
    "number of bedrooms, etc., you are developing an SVM regression model. Which regression metric in this\n",
    "situation would be the best to employ?\n",
    "\n",
    "ans->In order to predict house prices based on several characteristics, such as location, square footage, number of bedrooms, etc., the best regression metric to employ would be Mean Squared Error (MSE). MSE measures the average squared difference between the predicted and actual house prices. This metric is appropriate for assessing the overall accuracy of the model's predictions.\n"
   ]
  },
  {
   "cell_type": "markdown",
   "id": "ad6eaf56-035c-4fb5-baa4-76c26ed2feeb",
   "metadata": {},
   "source": [
    "Q2. You have built an SVM regression model and are trying to decide between using MSE or R-squared as\n",
    "your evaluation metric. Which metric would be more appropriate if your goal is to predict the actual price\n",
    "of a house as accurately as possible?\n",
    "\n",
    "ans->If your goal is to predict the actual price of a house as accurately as possible, Mean Squared Error (MSE) would be more appropriate as the evaluation metric. MSE provides a measure of the average squared difference between predicted and actual house prices. Minimizing MSE results in predictions that are closer to the true prices, which aligns with the goal of accurately predicting house prices."
   ]
  },
  {
   "cell_type": "markdown",
   "id": "35b652be-82fd-4e72-b8f3-9c27668b0cef",
   "metadata": {},
   "source": [
    "Q3. You have a dataset with a significant number of outliers and are trying to select an appropriate\n",
    "regression metric to use with your SVM model. Which metric would be the most appropriate in this\n",
    "scenario?\n",
    "\n",
    "ans->When dealing with a dataset with a significant number of outliers, the most appropriate regression metric to use with an SVM model would be Mean Absolute Error (MAE). MAE measures the average absolute difference between predicted and actual values, making it more robust to outliers compared to other metrics like MSE, which penalizes larger errors more heavily."
   ]
  },
  {
   "cell_type": "markdown",
   "id": "bd14b4f1-442a-4801-97f7-2704ca6f23e2",
   "metadata": {},
   "source": [
    "Q4. You have built an SVM regression model using a polynomial kernel and are trying to select the best\n",
    "metric to evaluate its performance. You have calculated both MSE and RMSE and found that both values\n",
    "are very close. Which metric should you choose to use in this case?\n",
    "\n",
    "ans->If both Mean Squared Error (MSE) and Root Mean Squared Error (RMSE) are very close after building an SVM regression model with a polynomial kernel, it is generally more appropriate to choose RMSE as the evaluation metric. RMSE is the square root of MSE and provides an interpretation of the average deviation of predictions from the actual values in the original units of the target variable. RMSE is more intuitive to interpret since it is in the same units as the target variable."
   ]
  },
  {
   "cell_type": "markdown",
   "id": "b3ec800a-3eb1-4a79-8b75-53c8cfb1ab9a",
   "metadata": {},
   "source": [
    "Q5. You are comparing the performance of different SVM regression models using different kernels (linear,\n",
    "polynomial, and RBF) and are trying to select the best evaluation metric. Which metric would be most\n",
    "appropriate if your goal is to measure how well the model explains the variance in the target variable?\n",
    "\n",
    "ans->hen comparing the performance of different SVM regression models using different kernels (linear, polynomial, and RBF), the most appropriate evaluation metric to measure how well the model explains the variance in the target variable is R-squared (R^2). R-squared measures the proportion of variance in the target variable that is explained by the independent variables. A higher R-squared value indicates a better fit of the model to the data and better explanatory power of the features. Therefore, R-squared is suitable for assessing the goodness of fit of regression models with different kernels."
   ]
  },
  {
   "cell_type": "code",
   "execution_count": null,
   "id": "18f8d30a-e658-41bc-a35b-d8dd5bf98bfc",
   "metadata": {},
   "outputs": [],
   "source": []
  }
 ],
 "metadata": {
  "kernelspec": {
   "display_name": "Python 3 (ipykernel)",
   "language": "python",
   "name": "python3"
  },
  "language_info": {
   "codemirror_mode": {
    "name": "ipython",
    "version": 3
   },
   "file_extension": ".py",
   "mimetype": "text/x-python",
   "name": "python",
   "nbconvert_exporter": "python",
   "pygments_lexer": "ipython3",
   "version": "3.10.8"
  }
 },
 "nbformat": 4,
 "nbformat_minor": 5
}
