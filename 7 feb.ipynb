{
 "cells": [
  {
   "cell_type": "markdown",
   "id": "9d5bf06c-95d5-4e17-963f-076bc0ae026f",
   "metadata": {},
   "source": [
    "Q1. You are writing code for a company. The requirement of the company is that you create a python\n",
    "function that will check whether the password entered by the user is correct or not. The function should\n",
    "take the password as input and return the string “Valid Password” if the entered password follows the\n",
    "below-given password guidelines else it should return “Invalid Password”.\n",
    "\n",
    "Note: 1. The Password should contain at least two uppercase letters and at least two lowercase letters.\n",
    "2. The Password should contain at least a number and three special characters.\n",
    "3. The length of the password should be 10 characters long."
   ]
  },
  {
   "cell_type": "code",
   "execution_count": 20,
   "id": "77142bcf-9beb-43d4-9c1c-93b0439f7ebd",
   "metadata": {},
   "outputs": [],
   "source": [
    "def check(password):\n",
    "    uc,lc,num,sp=0,0,0,0\n",
    "    if len(password)>=10:\n",
    "        for i in password:\n",
    "            if i.isupper():\n",
    "                uc+=1\n",
    "            elif i.islower():\n",
    "                lc+=1\n",
    "            elif i.isnumeric():\n",
    "                num+=1\n",
    "            else:                 #Any non-alphanumeric character is special character\n",
    "                sp+=1\n",
    "        if uc>=2 and lc>=2 and num>=1 and sp>=3:\n",
    "            print(\"Valid Password\")\n",
    "            return\n",
    "    \n",
    "    print(\"Invalid Password\")\n",
    "    "
   ]
  },
  {
   "cell_type": "code",
   "execution_count": 25,
   "id": "0745b843-112f-4fe5-9cf8-153f1fd1f1de",
   "metadata": {},
   "outputs": [
    {
     "name": "stdout",
     "output_type": "stream",
     "text": [
      "Valid Password\n"
     ]
    }
   ],
   "source": [
    "n=\"annasDWEIUAG123{){]\"\n",
    "check(n)"
   ]
  },
  {
   "cell_type": "code",
   "execution_count": 27,
   "id": "a6c08f28-f71a-4286-a639-dd7cb20af9fc",
   "metadata": {},
   "outputs": [
    {
     "name": "stdout",
     "output_type": "stream",
     "text": [
      "Invalid Password\n"
     ]
    }
   ],
   "source": [
    "n=\"DWEIUAG123@$\"\n",
    "check(n)"
   ]
  },
  {
   "cell_type": "code",
   "execution_count": 26,
   "id": "f51f53d8-3774-49a4-bfe2-0f419b8ef636",
   "metadata": {},
   "outputs": [
    {
     "name": "stdout",
     "output_type": "stream",
     "text": [
      "Invalid Password\n"
     ]
    }
   ],
   "source": [
    "n=\"annasDWEIUAG###@$\"\n",
    "check(n)"
   ]
  },
  {
   "cell_type": "markdown",
   "id": "bc770f66-cce6-4acf-90c0-fa84658be0bb",
   "metadata": {},
   "source": [
    "Q2\n",
    "1)Check if the string starts with a particular letter"
   ]
  },
  {
   "cell_type": "code",
   "execution_count": 28,
   "id": "dfb675b6-78c2-4e7e-9156-3c28c1b87492",
   "metadata": {},
   "outputs": [],
   "source": [
    "def check2(string, letter):\n",
    "    return any(filter(lambda x: x == letter, string[0]))"
   ]
  },
  {
   "cell_type": "code",
   "execution_count": 29,
   "id": "5b184121-2a5c-4e5e-94e1-09f475f58706",
   "metadata": {},
   "outputs": [
    {
     "data": {
      "text/plain": [
       "True"
      ]
     },
     "execution_count": 29,
     "metadata": {},
     "output_type": "execute_result"
    }
   ],
   "source": [
    "check2(\"hello\", \"h\")"
   ]
  },
  {
   "cell_type": "code",
   "execution_count": 30,
   "id": "a525b256-6c6e-4ac3-a255-86ee692279b8",
   "metadata": {},
   "outputs": [
    {
     "data": {
      "text/plain": [
       "False"
      ]
     },
     "execution_count": 30,
     "metadata": {},
     "output_type": "execute_result"
    }
   ],
   "source": [
    "check2(\"hello\", \"b\")"
   ]
  },
  {
   "cell_type": "markdown",
   "id": "40d52ae5-767a-47f4-9ce3-d7df316b860b",
   "metadata": {},
   "source": [
    "2)Check if the string is numeric."
   ]
  },
  {
   "cell_type": "code",
   "execution_count": 31,
   "id": "43c581cd-3690-4d7e-b38a-39a2554b46b5",
   "metadata": {},
   "outputs": [],
   "source": [
    "def check3(string):\n",
    "    return any(filter(lambda x: x.isnumeric(), string))"
   ]
  },
  {
   "cell_type": "code",
   "execution_count": 32,
   "id": "d212da25-e334-4e8c-a184-af5adf74a30f",
   "metadata": {},
   "outputs": [
    {
     "data": {
      "text/plain": [
       "False"
      ]
     },
     "execution_count": 32,
     "metadata": {},
     "output_type": "execute_result"
    }
   ],
   "source": [
    "check3(\"hello\")"
   ]
  },
  {
   "cell_type": "code",
   "execution_count": 33,
   "id": "6259d237-8e3d-4fc3-8f9d-f7f047b85fdb",
   "metadata": {},
   "outputs": [
    {
     "data": {
      "text/plain": [
       "True"
      ]
     },
     "execution_count": 33,
     "metadata": {},
     "output_type": "execute_result"
    }
   ],
   "source": [
    "check3(\"5651\")"
   ]
  },
  {
   "cell_type": "markdown",
   "id": "a1f59783-cbcd-4cac-a667-51706f51af4f",
   "metadata": {},
   "source": [
    "3)Sort a list of tuples having fruit names and their quantity."
   ]
  },
  {
   "cell_type": "code",
   "execution_count": 34,
   "id": "29be65bd-8a28-4cee-bb26-93e663fe7869",
   "metadata": {},
   "outputs": [
    {
     "data": {
      "text/plain": [
       "[('orange', 80), ('mango', 99), ('grapes', 1000)]"
      ]
     },
     "execution_count": 34,
     "metadata": {},
     "output_type": "execute_result"
    }
   ],
   "source": [
    "l=[(\"mango\",99),(\"orange\",80), (\"grapes\", 1000)]\n",
    "def Sort_Tuple(tup):\n",
    "    tup.sort(key = lambda x: x[1])\n",
    "    return tup\n",
    "Sort_Tuple(l)"
   ]
  },
  {
   "cell_type": "markdown",
   "id": "a92a331c-188b-4b4f-b392-cc832e48e2ee",
   "metadata": {},
   "source": [
    "4)Find the squares of numbers from 1 to 10."
   ]
  },
  {
   "cell_type": "code",
   "execution_count": 36,
   "id": "2164be4d-5550-4559-a271-e7619735c15d",
   "metadata": {},
   "outputs": [
    {
     "data": {
      "text/plain": [
       "[1, 4, 9, 16, 25, 36, 49, 64, 81, 100]"
      ]
     },
     "execution_count": 36,
     "metadata": {},
     "output_type": "execute_result"
    }
   ],
   "source": [
    "def sq1(x):\n",
    "    return x**2\n",
    "l=[1,2,3,4,5,6,7,8,9,10]\n",
    "list(map(sq1,l))"
   ]
  },
  {
   "cell_type": "markdown",
   "id": "1236f271-eff6-4f68-998d-87d56c9fb0d7",
   "metadata": {},
   "source": [
    "5)Find the cube root of numbers from 1 to 10"
   ]
  },
  {
   "cell_type": "code",
   "execution_count": 38,
   "id": "234dcfe0-ccd1-4ba3-9557-1a6ff3a1574f",
   "metadata": {},
   "outputs": [
    {
     "data": {
      "text/plain": [
       "[1.0,\n",
       " 1.2599210498948732,\n",
       " 1.4422495703074083,\n",
       " 1.5874010519681994,\n",
       " 1.7099759466766968,\n",
       " 1.8171205928321397,\n",
       " 1.912931182772389,\n",
       " 2.0,\n",
       " 2.080083823051904,\n",
       " 2.154434690031884]"
      ]
     },
     "execution_count": 38,
     "metadata": {},
     "output_type": "execute_result"
    }
   ],
   "source": [
    "def cuberoot(x):\n",
    "    return x**(1/3)\n",
    "l=[1,2,3,4,5,6,7,8,9,10]\n",
    "list(map(cuberoot,l))"
   ]
  },
  {
   "cell_type": "markdown",
   "id": "8a72d918-44f5-467e-b514-b8b84f970f12",
   "metadata": {},
   "source": [
    "6)Check if a given number is even"
   ]
  },
  {
   "cell_type": "code",
   "execution_count": 41,
   "id": "04d55389-fd97-4cf4-aa1c-b4d1f39ab6cd",
   "metadata": {},
   "outputs": [
    {
     "data": {
      "text/plain": [
       "[4, 6]"
      ]
     },
     "execution_count": 41,
     "metadata": {},
     "output_type": "execute_result"
    }
   ],
   "source": [
    "l=[1,3,4,5,7,6]\n",
    "list(filter(lambda x: x %2 == 0,l))"
   ]
  },
  {
   "cell_type": "markdown",
   "id": "7eb13bdb-2306-4739-82ba-f7ebab989e5d",
   "metadata": {},
   "source": [
    "7)Filter odd numbers from the given list."
   ]
  },
  {
   "cell_type": "code",
   "execution_count": 42,
   "id": "1e529e56-7d84-433d-930d-915c68f41c24",
   "metadata": {},
   "outputs": [
    {
     "data": {
      "text/plain": [
       "[1, 3, 5, 7]"
      ]
     },
     "execution_count": 42,
     "metadata": {},
     "output_type": "execute_result"
    }
   ],
   "source": [
    "l=[1,3,4,5,7,6]\n",
    "list(filter(lambda x: x %2 != 0,l))"
   ]
  },
  {
   "cell_type": "markdown",
   "id": "75dec186-0c79-493d-a61b-19dc6d371b64",
   "metadata": {},
   "source": [
    "8)Sort a list of integers into positive and negative integers lists."
   ]
  },
  {
   "cell_type": "code",
   "execution_count": 43,
   "id": "50197cf0-8f90-4f8a-985a-cf8e7505290d",
   "metadata": {},
   "outputs": [
    {
     "name": "stdout",
     "output_type": "stream",
     "text": [
      "[-1, -2, -3, -4, -5] [1, 2, 3, 4, 5, 6]\n"
     ]
    }
   ],
   "source": [
    "l=[1,2,3,4,5,6,-1,-2,-3,-4,-5,0]\n",
    "\n",
    "neg=list(filter(lambda x: x <0,l))\n",
    "pos=list(filter(lambda x: x >0,l))\n",
    "print(neg,pos)"
   ]
  },
  {
   "cell_type": "code",
   "execution_count": null,
   "id": "b0ce337b-c9c8-4e09-8716-a440bcff38f7",
   "metadata": {},
   "outputs": [],
   "source": []
  }
 ],
 "metadata": {
  "kernelspec": {
   "display_name": "Python 3 (ipykernel)",
   "language": "python",
   "name": "python3"
  },
  "language_info": {
   "codemirror_mode": {
    "name": "ipython",
    "version": 3
   },
   "file_extension": ".py",
   "mimetype": "text/x-python",
   "name": "python",
   "nbconvert_exporter": "python",
   "pygments_lexer": "ipython3",
   "version": "3.10.8"
  }
 },
 "nbformat": 4,
 "nbformat_minor": 5
}
