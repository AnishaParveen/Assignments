{
 "cells": [
  {
   "cell_type": "markdown",
   "id": "6ca8bb0e-787e-4f36-bd7d-7d74d1e6d2b0",
   "metadata": {},
   "source": [
    "Q1. What is the Probability density function?\n",
    "\n",
    "ans->The Probability Density Function (PDF) is used in statistics to describe the probability distribution of a continuous random variable. It gives the relative likelihood of the variable falling within a certain range of values. The area under the PDF curve within a specific interval represents the probability of the variable falling within that interval."
   ]
  },
  {
   "cell_type": "markdown",
   "id": "4dd975da-ddd4-4dd5-94a9-9d520f1a7217",
   "metadata": {},
   "source": [
    "Q2. What are the types of Probability distribution?\n",
    "\n",
    "ans->Normal Distribution,Uniform Distribution,Poisson Distribution,Binomial Distribution,Log-Normal Distribution,Bernoulli Distribution,Power Law Distribution"
   ]
  },
  {
   "cell_type": "markdown",
   "id": "f9967012-1683-4373-951b-4f508367b6c0",
   "metadata": {},
   "source": [
    "Q3. Write a Python function to calculate the probability density function of a normal distribution with given mean and standard deviation at a given point.\n"
   ]
  },
  {
   "cell_type": "code",
   "execution_count": 1,
   "id": "a3fead4b-7061-4af3-9f7d-b998647d1742",
   "metadata": {},
   "outputs": [
    {
     "data": {
      "text/plain": [
       "0.2129653370149015"
      ]
     },
     "execution_count": 1,
     "metadata": {},
     "output_type": "execute_result"
    }
   ],
   "source": [
    "import scipy.stats as stats\n",
    "\n",
    "def normal_pdf(x, mean, std_dev):\n",
    "    return stats.norm.pdf(x, mean, std_dev)\n",
    "\n",
    "normal_pdf(6,5,1.5)"
   ]
  },
  {
   "cell_type": "markdown",
   "id": "79fcb1a8-283f-45d5-8304-a5325eebe103",
   "metadata": {},
   "source": [
    "Q4. What are the properties of Binomial distribution? Give two examples of events where binomial distribution can be applied.\n",
    "\n",
    "ans->Properties of Binomial Distribution: Fixed trials, 2 outcomes, independent, constant probability, used for discrete random variable.\n",
    "\n",
    "Examples: \n",
    "\n",
    "Coin flips n times (heads/tails),Defective/non-defective items in manufacturing."
   ]
  },
  {
   "cell_type": "markdown",
   "id": "74388fae-9139-4f93-97d9-2bc65489b37b",
   "metadata": {},
   "source": [
    "Q5. Generate a random sample of size 1000 from a binomial distribution with probability of success 0.4 and plot a histogram of the results using matplotlib."
   ]
  },
  {
   "cell_type": "code",
   "execution_count": 2,
   "id": "48f4d8c0-2b17-41ea-91ff-357b316370b3",
   "metadata": {},
   "outputs": [
    {
     "data": {
      "image/png": "[encoded data removed]",
      "text/plain": [
       "<Figure size 640x480 with 1 Axes>"
      ]
     },
     "metadata": {},
     "output_type": "display_data"
    }
   ],
   "source": [
    "import numpy as np\n",
    "import matplotlib.pyplot as plt\n",
    "\n",
    "sample_size = 1000\n",
    "probability_of_success = 0.4\n",
    "\n",
    "# Generate random sample from binomial distribution\n",
    "random_sample = np.random.binomial(n=1, p=probability_of_success, size=sample_size)\n",
    "\n",
    "plt.hist(random_sample, bins=2, edgecolor='black')\n",
    "plt.xlabel('Success (1) / Failure (0)')\n",
    "plt.ylabel('Frequency')\n",
    "plt.title('Histogram of Binomial Distribution')\n",
    "plt.xticks([0, 1], ['Failure', 'Success'])\n",
    "plt.show()\n"
   ]
  },
  {
   "cell_type": "markdown",
   "id": "25c732d2-1282-41d2-a3ec-0ebe49d41329",
   "metadata": {},
   "source": [
    "Q6. Write a Python function to calculate the cumulative distribution function of a Poisson distribution with given mean at a given point."
   ]
  },
  {
   "cell_type": "code",
   "execution_count": 3,
   "id": "d27bb117-9cc3-4544-893f-efc8a7e303fe",
   "metadata": {},
   "outputs": [
    {
     "data": {
      "text/plain": [
       "1.0"
      ]
     },
     "execution_count": 3,
     "metadata": {},
     "output_type": "execute_result"
    }
   ],
   "source": [
    "def poisson_cdf(x, mean):\n",
    "    return stats.poisson.cdf(x, mu=mean)\n",
    "\n",
    "poisson_cdf(40, 5)"
   ]
  },
  {
   "cell_type": "markdown",
   "id": "aa388225-0f54-4540-a39f-818d9becc40e",
   "metadata": {},
   "source": [
    "Q7. How Binomial distribution different from Poisson distribution?\n",
    "\n",
    "ans->Binomial Distribution: Fixed trials, two outcomes, constant probability, discrete. Suitable for situations with a fixed number of trials and binary outcomes.\n",
    "Poisson Distribution: Random events, rare but numerous, no fixed trials, discrete. Used when events occur randomly in time or space and you're interested in their frequency within an interval."
   ]
  },
  {
   "cell_type": "markdown",
   "id": "a95a37e3-c9a5-4963-9f94-fbae2a7331e4",
   "metadata": {},
   "source": [
    "Q8. Generate a random sample of size 1000 from a Poisson distribution with mean 5 and calculate the sample mean and variance."
   ]
  },
  {
   "cell_type": "code",
   "execution_count": 4,
   "id": "6a7b9f52-d1c1-49be-a37c-ff07844269cb",
   "metadata": {},
   "outputs": [
    {
     "data": {
      "text/plain": [
       "5.044"
      ]
     },
     "execution_count": 4,
     "metadata": {},
     "output_type": "execute_result"
    }
   ],
   "source": [
    "sample_size = 1000\n",
    "mean = 5\n",
    "\n",
    "random_sample = np.random.poisson(mean, size=sample_size)\n",
    "\n",
    "# Calculate sample mean and variance\n",
    "np.mean(random_sample)"
   ]
  },
  {
   "cell_type": "code",
   "execution_count": 6,
   "id": "425a44c2-0bf0-4eed-954e-892ac3d8b9cd",
   "metadata": {},
   "outputs": [
    {
     "data": {
      "text/plain": [
       "5.361425425425426"
      ]
     },
     "execution_count": 6,
     "metadata": {},
     "output_type": "execute_result"
    }
   ],
   "source": [
    "np.var(random_sample, ddof=1)  # ddof=1 for sample variance"
   ]
  },
  {
   "cell_type": "markdown",
   "id": "aa279160-25f7-4a2b-8b41-a13e3ef4be2f",
   "metadata": {},
   "source": [
    "Q9. How mean and variance are related in Binomial distribution and Poisson distribution?\n",
    "\n",
    "ans->In the Binomial distribution, the variance depends on both the probability of success and the number of trials.\n",
    "In the Poisson distribution, the variance is directly equal to the mean.\n",
    "\n",
    "For the Poisson distribution, this equal relationship between the mean and variance arises due to the nature of rare events occurring randomly, and this is not the case for most other distributions."
   ]
  },
  {
   "cell_type": "markdown",
   "id": "2e59d2e0-a2dd-469d-a716-89025fc908d4",
   "metadata": {},
   "source": [
    "Q10. In normal distribution with respect to mean position, where does the least frequent data appear?\n",
    "\n",
    "ans->the least frequent data appears in the tails of the distribution, which are the regions farthest from the mean.(μ-3σ or μ+3σ)"
   ]
  },
  {
   "cell_type": "code",
   "execution_count": null,
   "id": "65e2f23b-c9a4-4c15-83ec-084ce635a11b",
   "metadata": {},
   "outputs": [],
   "source": []
  }
 ],
 "metadata": {
  "kernelspec": {
   "display_name": "Python 3 (ipykernel)",
   "language": "python",
   "name": "python3"
  },
  "language_info": {
   "codemirror_mode": {
    "name": "ipython",
    "version": 3
   },
   "file_extension": ".py",
   "mimetype": "text/x-python",
   "name": "python",
   "nbconvert_exporter": "python",
   "pygments_lexer": "ipython3",
   "version": "3.10.8"
  }
 },
 "nbformat": 4,
 "nbformat_minor": 5
}
