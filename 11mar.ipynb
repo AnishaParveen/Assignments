{
 "cells": [
  {
   "cell_type": "markdown",
   "id": "c2423e18-0cf0-4c46-a270-ead4b4d644f7",
   "metadata": {},
   "source": [
    "Q1: What is the difference between a t-test and a z-test? Provide an example scenario where you would use each type of test.\n",
    "\n",
    "ans->T-test and Z-test are both statistical hypothesis tests used to make inferences about population parameters based on sample data, but they are used in different situations. Use a t-test when:\n",
    "\n",
    "You have a small sample size.\n",
    "You don't know the population standard deviation.\n",
    "Your data may not follow a normal distribution.\n",
    "\n",
    "Use a z-test when:\n",
    "\n",
    "You have a large sample size (typically n > 30).\n",
    "You know the population standard deviation or can estimate it accurately.\n",
    "\n",
    "T-Test Example:\n",
    "\n",
    "You have two small groups of students, Class A and Class B, with 10 students each. You want to know if Class A scores significantly higher on a test than Class B, so you calculate their average scores and use a t-test to compare them.\n",
    "\n",
    "Z-Test Example:\n",
    "\n",
    "In a large company, you've trained 100 employees and want to know if the training had a significant impact on their performance. You compare their average performance before and after training using a z-test since you have a large sample and know the population standard deviation"
   ]
  },
  {
   "cell_type": "markdown",
   "id": "cfc42855-6979-41d6-b934-684849385174",
   "metadata": {},
   "source": [
    "Q2: Differentiate between one-tailed and two-tailed tests.\n",
    "\n",
    "ans->A one-tailed test is used to test a specific direction or effect, either to the left or right of a distribution. It's suitable when you're interested in whether a parameter is greater or less than a certain value.\n",
    "\n",
    "A two-tailed test is used to test if there is any significant difference or effect, without specifying a direction. It's appropriate when you want to determine if a parameter is simply different from a certain value, regardless of whether it's greater or less."
   ]
  },
  {
   "cell_type": "markdown",
   "id": "2804789c-0026-458e-995d-85cdd1e5fa59",
   "metadata": {},
   "source": [
    "Q3: Explain the concept of Type 1 and Type 2 errors in hypothesis testing. Provide an example scenario for each type of error. \n",
    "\n",
    "ans->Type 1 Error (False Positive): This occurs when you incorrectly reject a true null hypothesis. It's like a \"false alarm.\" For example, in medical testing, concluding that a healthy person has a disease.\n",
    "\n",
    "Type 2 Error (False Negative): This happens when you fail to reject a false null hypothesis. It's like a \"missed opportunity.\" For instance, in medical testing, failing to detect a disease in a person who actually has it."
   ]
  },
  {
   "cell_type": "markdown",
   "id": "be264705-c222-47d9-b067-b8b6b7f62ba1",
   "metadata": {},
   "source": [
    "Q4: Explain Bayes's theorem with an example.\n",
    "\n",
    "ans->At its simplest, Bayes' Theorem takes a test result and relates it to the conditional probability of that test result given other related events. For high-probability false positives, the Theorem gives a more reasoned likelihood of a particular outcome.\n",
    "\n",
    "Example:What is the probability of a patient having liver disease if they are alcoholic? \n",
    "\n",
    "Here, “being an alcoholic” is the “test” (type of litmus test) for liver disease.\n",
    "\n",
    "A is the event i.e. “patient has liver disease””.\n",
    "As per earlier records of the clinic, it states that 10% of the patient’s entering the clinic are suffering from liver disease. \n",
    "\n",
    "Therefore, P(A)=0.10\n",
    "\n",
    "B is the litmus test that “Patient is an alcoholic”.\n",
    "Earlier records of the clinic showed that 5% of the patients entering the clinic are alcoholic.\n",
    "\n",
    "Therefore, P(B)=0.05\n",
    "\n",
    "Also,  7% out of the he patient’s that are diagnosed with liver disease, are alcoholics. This defines the B|A: probability of a patient being alcoholic, given that they have a liver disease is 7%.\n",
    "As, per Bayes theorem formula, \n",
    "\n",
    "P(A|B) = (0.07 * 0.1)/0.05 = 0.14\n",
    "\n",
    "Therefore, for a patient being alcoholic, the chances of having a liver disease are 0.14 (14%)."
   ]
  },
  {
   "cell_type": "markdown",
   "id": "25db1f60-c25b-4c15-a773-11bdbf5f952b",
   "metadata": {},
   "source": [
    "Q5: What is a confidence interval? How to calculate the confidence interval, explain with an example.\n",
    "\n",
    "ans->A confidence interval is a range of values that is likely to contain the true population parameter, such as the population mean or population proportion, with a specified level of confidence. It provides a measure of the uncertainty or variability associated with estimating a population parameter from a sample.\n",
    "\n",
    "A confidence interval is typically expressed as:\n",
    "\n",
    "Estimate ± Margin of Error\n",
    "\n",
    "Determine the average age of victims of chain snatching in any city during last year for a sample of size 100 with mean age 34.25 years.\n",
    "\n",
    "Solution: n = 100.\n",
    "\n",
    "Mean = 34.25 years.\n",
    "\n",
    "Now, use the 95% CL here. It has z value of 1.96.\n",
    "\n",
    "Now, calculate the standard deviation. With a mean value of 34.25 and a standard deviation value of 10, a margin of error will be\n",
    "\n",
    "\n",
    "CI= 34.25 ± 1.96 (10/√100)\n",
    "\n",
    "Thus Upper limit of CI will be 34.25 + 1.96 = 36.21\n",
    "\n",
    "And Lower limit of CI will be 34.25 – 1.96 = 32.29\n",
    "\n",
    "Thus we may say with 95% confidence, average age will fall between 32.29 and 36.21 years."
   ]
  },
  {
   "cell_type": "markdown",
   "id": "ff446455-6013-46e1-ac63-a3934f267622",
   "metadata": {},
   "source": [
    "Q6. Use Bayes' Theorem to calculate the probability of an event occurring given prior knowledge of the event's probability and new evidence. Provide a sample problem and solution.\n",
    "\n",
    "ans->Amy has two bags. Bag I has 7 red and 4 blue balls and bag II has 5 red and 9 blue balls. Amy draws a ball at random and it turns out to be red. Determine the probability that the ball was from the bag I.\n",
    "\n",
    "Solution: Assume A to be the event of drawing a red ball. We know that the probability of choosing a bag for drawing a ball is 1/2, that is,\n",
    "\n",
    "P(X) = P(Y) = 1/2\n",
    "\n",
    "Let X and Y be the events that the ball is from the bag I and bag II, respectively. Since there are 7 red balls out of a total of 11 balls in the bag I, therefore, P(drawing a red ball from the bag I) = P(A|X) = 7/11\n",
    "\n",
    "Similarly, P(drawing a red ball from bag II) = P(A|Y) = 5/14\n",
    "\n",
    "We need to determine the value of P(the ball drawn is from the bag I given that it is a red ball), that is, P(X|A). To determine this we will use Bayes Theorem. Using Bayes theorem, we have the following:\n",
    "\n",
    "P(X|A)=P(A|X)P(X) / (P(A|X)P(X)+P(A|Y)P(Y))\n",
    "= [((7/11)(1/2))/(7/11)(1/2)+(5/14)(1/2)]\n",
    "\n",
    "= 0.64\n",
    "\n",
    "Answer: ∴ The probability that the ball is drawn is from bag I is 0.64"
   ]
  },
  {
   "cell_type": "markdown",
   "id": "37ce96cc-2f6e-481a-9f0c-3d5f31b5d0df",
   "metadata": {},
   "source": [
    "Q7. Calculate the 95% confidence interval for a sample of data with a mean of 50 and a standard deviation\n",
    "of 5. Interpret the results.\n",
    "\n",
    "ans->Sample Size is not provided in the question.For example, if we assume n=30:\n",
    "Confidence Interval= 50 ± (5/√30)×1.96 = 50±1.79\n",
    "\n",
    "We can be 95% confident that the true population mean lies within the interval (48.21 to 51.79). This means that if we were to take many random samples and calculate confidence intervals for each, approximately 95% of those intervals would contain the true population mean."
   ]
  },
  {
   "cell_type": "markdown",
   "id": "935fa588-934b-4c30-af63-3c682cf61b01",
   "metadata": {},
   "source": [
    "Q8. What is the margin of error in a confidence interval? How does sample size affect the margin of error? Provide an example of a scenario where a larger sample size would result in a smaller margin of error.\n",
    "\n",
    "ans->The margin of error (MOE) in a confidence interval represents the range within which the true population parameter is likely to fall with a certain level of confidence. It quantifies the precision or uncertainty associated with estimating a population parameter from a sample. The margin of error is typically expressed as a positive value and is added and subtracted from the sample statistic (e.g., the sample mean) to construct the confidence interval.\n",
    "\n",
    "Inverse Relationship: The margin of error and sample size have an inverse relationship. As the sample size increases, the margin of error  decreases.\n",
    "\n",
    "Larger Sample, More Precision: A larger sample provides more information about the population, reducing the uncertainty in the estimate. Consequently, a larger sample size results in a smaller margin of error, indicating a more precise estimate.\n",
    "\n",
    "You want to estimate the average time it takes for customers to complete an online survey on your website. You decide to collect data from two different sample sizes: 25 customers (Sample A) and 100 customers (Sample B).\n",
    "\n",
    "Sample A: You find that the average time for the 25 customers to complete the survey is 7 minutes, and the population standard deviation is 2 minutes.\n",
    "\n",
    "Sample B: For the 100 customers in Sample B, the average time to complete the survey is also 7 minutes, and the population standard deviation remains 2 minutes.\n",
    "\n",
    "Now, let's calculate the margin of error for both samples using a 95% confidence level and the formula:\n",
    "\n",
    "MOE=Z⋅ (σ/√n)\n",
    "\n",
    "For Sample A:\n",
    "\n",
    "MOE1=1.568 minutes\n",
    "\n",
    "For Sample B:\n",
    "\n",
    "MOE2=0.392 minutes\n",
    "\n",
    "In this example, you can see that the margin of error for Sample A is larger (1.568 minutes) compared to the margin of error for Sample B (0.392 minutes). This demonstrates that the larger sample size (Sample B) results in a smaller margin of error, providing a more precise estimate of the average survey completion time."
   ]
  },
  {
   "cell_type": "markdown",
   "id": "cb7ba7bd-f702-4f75-ba3d-5f78b3220ed8",
   "metadata": {},
   "source": [
    "Q9. Calculate the z-score for a data point with a value of 75, a population mean of 70, and a population standard deviation of 5. Interpret the results.\n"
   ]
  },
  {
   "cell_type": "code",
   "execution_count": 1,
   "id": "c42888cd-0516-4c53-b972-2a48269b45cd",
   "metadata": {},
   "outputs": [
    {
     "name": "stdout",
     "output_type": "stream",
     "text": [
      "1.0\n"
     ]
    }
   ],
   "source": [
    "X = 75  \n",
    "mu = 70  \n",
    "sigma = 5  \n",
    "z_score = (X - mu) / sigma\n",
    "print(z_score)"
   ]
  },
  {
   "cell_type": "markdown",
   "id": "5ec325d8-e1fe-44c6-b5f9-65aaab26153f",
   "metadata": {},
   "source": [
    "Q10. In a study of the effectiveness of a new weight loss drug, a sample of 50 participants lost an average of 6 pounds with a standard deviation of 2.5 pounds. Conduct a hypothesis test to determine if the drug is significantly effective at a 95% confidence level using a t-test."
   ]
  },
  {
   "cell_type": "code",
   "execution_count": 2,
   "id": "1ae9be9c-178f-4323-a6c4-3748b5aa740e",
   "metadata": {},
   "outputs": [
    {
     "name": "stdout",
     "output_type": "stream",
     "text": [
      "Reject the null hypothesis. The drug is significantly effective.\n"
     ]
    }
   ],
   "source": [
    "import numpy as np\n",
    "from scipy import stats\n",
    "\n",
    "sample_mean = 6 \n",
    "sample_stddev = 2.5  \n",
    "sample_size = 50  \n",
    "\n",
    "# Null hypothesis: The drug is not significantly effective (mean weight loss <= 0)\n",
    "# Alternative hypothesis: The drug is significantly effective (mean weight loss > 0)\n",
    "t_statistic = (sample_mean - 0) / (sample_stddev / np.sqrt(sample_size))\n",
    "degrees_of_freedom = sample_size - 1\n",
    "alpha = 0.05\n",
    "t_critical = stats.t.ppf(1 - alpha, df=degrees_of_freedom)\n",
    "p_value = 1 - stats.t.cdf(t_statistic, df=degrees_of_freedom)\n",
    "\n",
    "if p_value < alpha:\n",
    "    print(\"Reject the null hypothesis. The drug is significantly effective.\")\n",
    "else:\n",
    "    print(\"Fail to reject the null hypothesis. The drug is not significantly effective.\")\n"
   ]
  },
  {
   "cell_type": "markdown",
   "id": "9dad4887-3536-4bb1-bbe2-46f4b1f60a60",
   "metadata": {},
   "source": [
    "Q11. In a survey of 500 people, 65% reported being satisfied with their current job. Calculate the 95% confidence interval for the true proportion of people who are satisfied with their job."
   ]
  },
  {
   "cell_type": "code",
   "execution_count": 3,
   "id": "2089ec39-d8cb-43d2-bad9-28c662223ca7",
   "metadata": {},
   "outputs": [
    {
     "name": "stdout",
     "output_type": "stream",
     "text": [
      "95% Confidence Interval: (0.608191771144905, 0.6918082288550951)\n"
     ]
    }
   ],
   "source": [
    "import math\n",
    "\n",
    "sample_proportion = 0.65  \n",
    "sample_size = 500\n",
    "confidence_level = 0.95\n",
    "\n",
    "z_critical = 1.96  \n",
    "margin_of_error = z_critical * math.sqrt((sample_proportion * (1 - sample_proportion)) / sample_size)\n",
    "\n",
    "\n",
    "lower_bound = sample_proportion - margin_of_error\n",
    "upper_bound = sample_proportion + margin_of_error\n",
    "\n",
    "\n",
    "print(f\"95% Confidence Interval: ({lower_bound}, {upper_bound})\")\n"
   ]
  },
  {
   "cell_type": "markdown",
   "id": "e8bf32e9-42e6-4ad7-93e4-8a27e92a5d5c",
   "metadata": {},
   "source": [
    "Q12. A researcher is testing the effectiveness of two different teaching methods on student performance.\n",
    "Sample A has a mean score of 85 with a standard deviation of 6, while sample B has a mean score of 82\n",
    "with a standard deviation of 5. Conduct a hypothesis test to determine if the two teaching methods have a\n",
    "significant difference in student performance using a t-test with a significance level of 0.01.\n",
    "\n",
    "let sample size =100"
   ]
  },
  {
   "cell_type": "code",
   "execution_count": 4,
   "id": "4bbb017c-c53a-4ef0-a1d8-84cac1ff3239",
   "metadata": {},
   "outputs": [
    {
     "name": "stdout",
     "output_type": "stream",
     "text": [
      "Reject the null hypothesis. There is a significant difference in student performance.\n",
      "t-statistic: 3.8411063979868794\n",
      "p-value: 0.00016484414660911106\n"
     ]
    }
   ],
   "source": [
    "import scipy.stats as stats\n",
    "\n",
    "mean_a = 85\n",
    "std_dev_a = 6\n",
    "n_a = 100  \n",
    "\n",
    "mean_b = 82\n",
    "std_dev_b = 5\n",
    "n_b = 100  \n",
    "\n",
    "alpha = 0.01\n",
    "\n",
    "df = n_a + n_b - 2\n",
    "\n",
    "pooled_std_dev = ((n_a - 1) * std_dev_a**2 + (n_b - 1) * std_dev_b**2) / df\n",
    "pooled_std_dev = pooled_std_dev**0.5\n",
    "\n",
    "\n",
    "t_statistic = (mean_a - mean_b) / (pooled_std_dev * ((1/n_a) + (1/n_b))**0.5)\n",
    "\n",
    "t_critical = stats.t.ppf(1 - alpha/2, df)\n",
    "\n",
    "p_value = 2 * (1 - stats.t.cdf(abs(t_statistic), df))\n",
    "\n",
    "# Compare the t-statistic to the critical t-value and p-value to the significance level\n",
    "if abs(t_statistic) > t_critical:\n",
    "    print(\"Reject the null hypothesis. There is a significant difference in student performance.\")\n",
    "else:\n",
    "    print(\"Fail to reject the null hypothesis. There is no significant difference in student performance.\")\n",
    "\n",
    "print(\"t-statistic:\", t_statistic)\n",
    "print(\"p-value:\", p_value)\n"
   ]
  },
  {
   "cell_type": "markdown",
   "id": "2480e84f-8c82-4329-bbba-df051cf0b655",
   "metadata": {},
   "source": [
    "Q13. A population has a mean of 60 and a standard deviation of 8. A sample of 50 observations has a mean\n",
    "of 65. Calculate the 90% confidence interval for the true population mean."
   ]
  },
  {
   "cell_type": "code",
   "execution_count": 5,
   "id": "2dc0c450-e41a-4d78-a99a-e4cdc49ffdae",
   "metadata": {},
   "outputs": [
    {
     "name": "stdout",
     "output_type": "stream",
     "text": [
      "90% Confidence Interval for the Population Mean:\n",
      "Lower Bound: 63.13906055411732\n",
      "Upper Bound: 66.86093944588268\n"
     ]
    }
   ],
   "source": [
    "import scipy.stats as stats\n",
    "\n",
    "\n",
    "population_mean = 60\n",
    "population_std_dev = 8\n",
    "\n",
    "\n",
    "sample_mean = 65\n",
    "sample_size = 50\n",
    "\n",
    "\n",
    "confidence_level = 0.90\n",
    "alpha = 1 - confidence_level\n",
    "z_critical = stats.norm.ppf(1 - alpha / 2)\n",
    "\n",
    "\n",
    "margin_of_error = z_critical * (population_std_dev / (sample_size ** 0.5))\n",
    "\n",
    "\n",
    "confidence_interval_lower = sample_mean - margin_of_error\n",
    "confidence_interval_upper = sample_mean + margin_of_error\n",
    "\n",
    "print(\"90% Confidence Interval for the Population Mean:\")\n",
    "print(\"Lower Bound:\", confidence_interval_lower)\n",
    "print(\"Upper Bound:\", confidence_interval_upper)\n"
   ]
  },
  {
   "cell_type": "markdown",
   "id": "66c852bc-4042-4110-b71c-f1ee9d7e7b29",
   "metadata": {},
   "source": [
    "Q14. In a study of the effects of caffeine on reaction time, a sample of 30 participants had an average\n",
    "reaction time of 0.25 seconds with a standard deviation of 0.05 seconds. Conduct a hypothesis test to\n",
    "determine if the caffeine has a significant effect on reaction time at a 90% confidence level using a t-test."
   ]
  },
  {
   "cell_type": "code",
   "execution_count": 6,
   "id": "b498aaec-b2e5-497c-9940-c2a0e897730e",
   "metadata": {},
   "outputs": [
    {
     "name": "stdout",
     "output_type": "stream",
     "text": [
      "Reject the null hypothesis. Caffeine has a significant effect on reaction time.\n",
      "t-statistic: -2.1908902300206665\n",
      "Critical t-value: 1.6991270265334972\n"
     ]
    }
   ],
   "source": [
    "import scipy.stats as stats\n",
    "import math\n",
    "\n",
    "sample_mean = 0.25  \n",
    "sample_std_dev = 0.05 \n",
    "sample_size = 30\n",
    "\n",
    "mu_0 = 0.27  \n",
    "alpha = 0.10\n",
    "\n",
    "t_statistic = (sample_mean - mu_0) / (sample_std_dev / math.sqrt(sample_size))\n",
    "\n",
    "df = sample_size - 1\n",
    "\n",
    "t_critical = stats.t.ppf(1 - alpha / 2, df)\n",
    "\n",
    "# Compare the t-statistic with the critical t-value\n",
    "if abs(t_statistic) > t_critical:\n",
    "    print(\"Reject the null hypothesis. Caffeine has a significant effect on reaction time.\")\n",
    "else:\n",
    "    print(\"Fail to reject the null hypothesis. There is no significant effect of caffeine on reaction time.\")\n",
    "\n",
    "print(\"t-statistic:\", t_statistic)\n",
    "print(\"Critical t-value:\", t_critical)\n"
   ]
  },
  {
   "cell_type": "code",
   "execution_count": null,
   "id": "704aadf1-0357-4478-91a8-a89bb00f17c6",
   "metadata": {},
   "outputs": [],
   "source": []
  }
 ],
 "metadata": {
  "kernelspec": {
   "display_name": "Python 3 (ipykernel)",
   "language": "python",
   "name": "python3"
  },
  "language_info": {
   "codemirror_mode": {
    "name": "ipython",
    "version": 3
   },
   "file_extension": ".py",
   "mimetype": "text/x-python",
   "name": "python",
   "nbconvert_exporter": "python",
   "pygments_lexer": "ipython3",
   "version": "3.10.8"
  }
 },
 "nbformat": 4,
 "nbformat_minor": 5
}
