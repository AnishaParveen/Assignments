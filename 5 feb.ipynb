{
 "cells": [
  {
   "cell_type": "markdown",
   "id": "1954af57-333b-456d-a2b1-ef7240ee5d7a",
   "metadata": {},
   "source": [
    "Q1. Explain Class and Object with respect to Object-Oriented Programming. Give a suitable example.\n",
    "\n",
    "ans->A class is a collection of objects. A class contains the blueprints or the prototype from which the objects are being created. It is a logical entity that contains some attributes and methods. "
   ]
  },
  {
   "cell_type": "code",
   "execution_count": 2,
   "id": "11e936da-8fe4-4f5f-9847-106b950617ca",
   "metadata": {},
   "outputs": [],
   "source": [
    "#class\n",
    "class test:\n",
    "    pass"
   ]
  },
  {
   "cell_type": "markdown",
   "id": "6f649aae-ce4e-4bda-b283-5057ca8077d8",
   "metadata": {},
   "source": [
    "The object is an entity that has a state and behavior associated with a class. It may be any real-world object like a person car etc."
   ]
  },
  {
   "cell_type": "code",
   "execution_count": 4,
   "id": "9e5655ed-5dbd-45bc-89d4-d09dc6956544",
   "metadata": {},
   "outputs": [
    {
     "name": "stdout",
     "output_type": "stream",
     "text": [
      "<class '__main__.test'>\n"
     ]
    }
   ],
   "source": [
    "#object\n",
    "a=test()\n",
    "print(type(a))"
   ]
  },
  {
   "cell_type": "markdown",
   "id": "6f8dc762-bad7-4767-a3aa-967ca5c105d2",
   "metadata": {},
   "source": [
    "Q2. Name the four pillars of OOPs.\n",
    "\n",
    "ans->The Four Pillars of Object-Oriented Programming is Abstraction,Encapsulation,Inheritance,Polymorphism."
   ]
  },
  {
   "cell_type": "markdown",
   "id": "e72ee933-bf18-4f46-8573-484014da9978",
   "metadata": {},
   "source": [
    "Q3. Explain why the __init__() function is used. Give a suitable example.\n",
    "\n",
    "ans->All classes have a function called __init__(), which is always executed when the class is being initiated.\n",
    "we use the __init__() function to assign values to object properties, or other operations that are necessary to do when the object is being created."
   ]
  },
  {
   "cell_type": "code",
   "execution_count": 6,
   "id": "d01bc2ba-5508-4e71-a846-fdb2fd6a2c1a",
   "metadata": {},
   "outputs": [],
   "source": [
    "class pw:\n",
    "    def __init__(self,ph,e_id,s_id):\n",
    "        self.ph=ph\n",
    "        self.e_id=e_id\n",
    "        self.s_id=s_id\n",
    "    def display_details(self):\n",
    "        return self.ph,self.e_id,self.s_id"
   ]
  },
  {
   "cell_type": "code",
   "execution_count": 7,
   "id": "e1895a9b-f2cf-4de4-91ea-dc991f0c5008",
   "metadata": {},
   "outputs": [
    {
     "data": {
      "text/plain": [
       "(545465, 'bdwo@gmail.com', 546)"
      ]
     },
     "execution_count": 7,
     "metadata": {},
     "output_type": "execute_result"
    }
   ],
   "source": [
    "rohan=pw(545465,\"bdwo@gmail.com\",546)\n",
    "rohan.display_details()"
   ]
  },
  {
   "cell_type": "markdown",
   "id": "cddc022e-889d-4295-bbfe-9e742f4c90a2",
   "metadata": {},
   "source": [
    "Q4. Why self is used in OOPs?\n",
    "\n",
    "ans->self represents the instance of the class. By using the “self”  we can access the attributes and methods of the class in python. It binds the attributes with the given arguments.\n",
    "The reason you need to use self is because Python does not use the any syntax to refer to instance attributes.\n",
    "we can write any variable instead of self and it will work finely."
   ]
  },
  {
   "cell_type": "code",
   "execution_count": 9,
   "id": "30c7575a-6948-498e-abea-1d25e9ed77f8",
   "metadata": {},
   "outputs": [],
   "source": [
    "class check:\n",
    "    def __init__(self):\n",
    "        print(\"constructor\")\n",
    "  "
   ]
  },
  {
   "cell_type": "code",
   "execution_count": 10,
   "id": "c8be2388-1a16-4c7c-91b3-1403d135ccea",
   "metadata": {},
   "outputs": [
    {
     "name": "stdout",
     "output_type": "stream",
     "text": [
      "constructor\n"
     ]
    }
   ],
   "source": [
    "ob = check()"
   ]
  },
  {
   "cell_type": "code",
   "execution_count": 11,
   "id": "e098c784-ab9f-4dce-811f-73980988c569",
   "metadata": {},
   "outputs": [],
   "source": [
    "class check:\n",
    "    def __init__(a):\n",
    "        print(\"constructor\")\n",
    "  "
   ]
  },
  {
   "cell_type": "code",
   "execution_count": 12,
   "id": "76838c76-e906-4806-940c-18cdf5c36538",
   "metadata": {},
   "outputs": [
    {
     "name": "stdout",
     "output_type": "stream",
     "text": [
      "constructor\n"
     ]
    }
   ],
   "source": [
    "ob = check()"
   ]
  },
  {
   "cell_type": "markdown",
   "id": "0860ee6e-8f23-41b7-b518-a6388e8ad8f0",
   "metadata": {},
   "source": [
    "Q5. What is inheritance? Give an example for each type of inheritance.\n",
    "\n",
    "ans->Inheritance is defined as the mechanism of inheriting the properties of the base class to the child class. Here we a going to see the types of inheritance in Python.\n",
    "\n"
   ]
  },
  {
   "cell_type": "markdown",
   "id": "6c9de936-009c-43c7-ab86-949a430b3019",
   "metadata": {},
   "source": [
    "Single inheritance enables a derived class to inherit properties from a single parent class, thus enabling code reusability and the addition of new features to existing code."
   ]
  },
  {
   "cell_type": "code",
   "execution_count": 14,
   "id": "dd5919ec-ccc5-497b-af9c-65b573ad7943",
   "metadata": {},
   "outputs": [
    {
     "name": "stdout",
     "output_type": "stream",
     "text": [
      "This function is in parent class.\n",
      "This function is in child class.\n"
     ]
    }
   ],
   "source": [
    "class Parent:\n",
    "    def func1(self):\n",
    "        print(\"This function is in parent class.\")\n",
    " \n",
    " \n",
    "class Child(Parent):\n",
    "    def func2(self):\n",
    "        print(\"This function is in child class.\")\n",
    " \n",
    " \n",
    "object = Child()\n",
    "object.func1()\n",
    "object.func2()"
   ]
  },
  {
   "cell_type": "markdown",
   "id": "631ab0f1-1cab-4930-aecf-e8bc3a15bbb9",
   "metadata": {},
   "source": [
    "When a class can be derived from more than one base class this type of inheritance is called multiple inheritances. In multiple inheritances, all the features of the base classes are inherited into the derived class. "
   ]
  },
  {
   "cell_type": "code",
   "execution_count": 18,
   "id": "b30d3fd5-54b5-4783-8a03-531297b25326",
   "metadata": {},
   "outputs": [
    {
     "name": "stdout",
     "output_type": "stream",
     "text": [
      "Father : rahul\n",
      "Mother : riya\n"
     ]
    }
   ],
   "source": [
    "class Mother:\n",
    "    mothername = \"\"\n",
    " \n",
    "    def mother(self):\n",
    "        print(self.mothername)\n",
    " \n",
    " \n",
    "class Father:\n",
    "    fathername = \"\"\n",
    " \n",
    "    def father(self):\n",
    "        print(self.fathername)\n",
    "class Son(Mother, Father):\n",
    "    def parents(self):\n",
    "        print(\"Father :\", self.fathername)\n",
    "        print(\"Mother :\", self.mothername)\n",
    " \n",
    " \n",
    "\n",
    "s1 = Son()\n",
    "s1.fathername = \"rahul\"\n",
    "s1.mothername = \"riya\"\n",
    "s1.parents()"
   ]
  },
  {
   "cell_type": "markdown",
   "id": "683e6b11-c652-4271-b49e-a1b2de8965de",
   "metadata": {},
   "source": [
    "In multilevel inheritance, features of the base class and the derived class are further inherited into the new derived class. This is similar to a relationship representing a child and a grandfather. "
   ]
  },
  {
   "cell_type": "code",
   "execution_count": 16,
   "id": "764f57bf-0689-4aaa-89c6-cbd170c57fe2",
   "metadata": {},
   "outputs": [
    {
     "name": "stdout",
     "output_type": "stream",
     "text": [
      "Lal mani\n",
      "Grandfather name : Lal mani\n",
      "Father name : Rampal\n",
      "Son name : Prince\n"
     ]
    }
   ],
   "source": [
    "class Grandfather:\n",
    " \n",
    "    def __init__(self, grandfathername):\n",
    "        self.grandfathername = grandfathername\n",
    "        \n",
    "class Father(Grandfather):\n",
    "    \n",
    "    def __init__(self, fathername, grandfathername):\n",
    "        self.fathername = fathername\n",
    "        Grandfather.__init__(self, grandfathername)\n",
    " \n",
    " \n",
    "class Son(Father):\n",
    "    def __init__(self, sonname, fathername, grandfathername):\n",
    "        self.sonname = sonname\n",
    " \n",
    "        Father.__init__(self, fathername, grandfathername)\n",
    " \n",
    "    def print_name(self):\n",
    "        print('Grandfather name :', self.grandfathername)\n",
    "        print(\"Father name :\", self.fathername)\n",
    "        print(\"Son name :\", self.sonname)\n",
    " \n",
    " \n",
    "s1 = Son('Prince', 'Rampal', 'Lal mani')\n",
    "print(s1.grandfathername)\n",
    "s1.print_name()"
   ]
  },
  {
   "cell_type": "markdown",
   "id": "f125a683-c79e-4c1f-8b28-c83ed65fab5e",
   "metadata": {},
   "source": [
    "When more than one derived class are created from a single base this type of inheritance is called hierarchical inheritance. In this program, we have a parent (base) class and two child (derived) classes."
   ]
  },
  {
   "cell_type": "code",
   "execution_count": 17,
   "id": "814d17e6-ab0c-4f89-9739-7694a7872ebd",
   "metadata": {},
   "outputs": [
    {
     "name": "stdout",
     "output_type": "stream",
     "text": [
      "This function is in parent class.\n",
      "This function is in child 1.\n",
      "This function is in parent class.\n",
      "This function is in child 2.\n"
     ]
    }
   ],
   "source": [
    "class Parent:\n",
    "    def func1(self):\n",
    "        print(\"This function is in parent class.\")\n",
    " \n",
    " \n",
    "class Child1(Parent):\n",
    "    def func2(self):\n",
    "        print(\"This function is in child 1.\")\n",
    " \n",
    " \n",
    "class Child2(Parent):\n",
    "    def func3(self):\n",
    "        print(\"This function is in child 2.\")\n",
    " \n",
    " \n",
    "\n",
    "object1 = Child1()\n",
    "object2 = Child2()\n",
    "object1.func1()\n",
    "object1.func2()\n",
    "object2.func1()\n",
    "object2.func3()"
   ]
  },
  {
   "cell_type": "code",
   "execution_count": null,
   "id": "5c89e7ba-e7ed-4502-8a3f-48da4f058577",
   "metadata": {},
   "outputs": [],
   "source": []
  }
 ],
 "metadata": {
  "kernelspec": {
   "display_name": "Python 3 (ipykernel)",
   "language": "python",
   "name": "python3"
  },
  "language_info": {
   "codemirror_mode": {
    "name": "ipython",
    "version": 3
   },
   "file_extension": ".py",
   "mimetype": "text/x-python",
   "name": "python",
   "nbconvert_exporter": "python",
   "pygments_lexer": "ipython3",
   "version": "3.10.8"
  }
 },
 "nbformat": 4,
 "nbformat_minor": 5
}
