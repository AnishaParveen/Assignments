{
 "cells": [
  {
   "cell_type": "markdown",
   "id": "37be7e77-070d-4ef3-8977-c04f039ef6ee",
   "metadata": {},
   "source": [
    "Q1. Describe the decision tree classifier algorithm and how it works to make predictions.\n",
    "\n",
    "ans->Decision tree classifier recursively splits data based on feature conditions, forming a tree structure. Each leaf node represents a class, and predictions are made by traversing the tree from the root to a leaf.\n",
    "\n",
    "\n",
    "Q2. Provide a step-by-step explanation of the mathematical intuition behind decision tree classification.\n",
    "\n",
    "ans->Decision tree classification involves selecting features to split data based on criteria like Gini impurity or information gain. The algorithm minimizes impurity at each node, creating decision rules that recursively divide the data.\n",
    "\n",
    "\n",
    "Q3. Explain how a decision tree classifier can be used to solve a binary classification problem.\n",
    "\n",
    "ans->In a binary classification problem, a decision tree classifier separates data into two classes by making binary decisions at each node. The process continues until pure nodes or predefined stopping criteria are met.\n",
    "\n",
    "\n",
    "Q4. Discuss the geometric intuition behind decision tree classification and how it can be used to make\n",
    "predictions.\n",
    "\n",
    "ans->Geometrically, decision trees create hyperplanes that partition feature space into regions associated with different classes. Each split defines a decision boundary, and the final prediction corresponds to the region in which a data point falls.\n",
    "\n",
    "\n",
    "Q5. Define the confusion matrix and describe how it can be used to evaluate the performance of a\n",
    "classification model.\n",
    "\n",
    "ans->Geometrically, decision trees create hyperplanes that partition feature space into regions associated with different classes. Each split defines a decision boundary, and the final prediction corresponds to the region in which a data point falls.\n",
    "\n",
    "\n",
    "Q6. Provide an example of a confusion matrix and explain how precision, recall, and F1 score can be\n",
    "calculated from it.\n"
   ]
  },
  {
   "cell_type": "markdown",
   "id": "0f95736c-6edc-4aed-95d8-f5f646f9705d",
   "metadata": {},
   "source": [
    "                 Predicted Class 0    Predicted Class 1\n",
    "Actual Class 0 ->        90                     10\n",
    "\n",
    "Actual Class 1 ->        15                     85\n",
    "\n",
    "confusion_matrix=[[90,10],[15,85]]\n",
    "\n",
    "Precision = 90 / (90 + 15), Recall = 90 / (90 + 10), F1 Score = 2 * (Precision * Recall) / (Precision + Recall)"
   ]
  },
  {
   "cell_type": "markdown",
   "id": "af5c06d0-0450-4932-b77c-0a257d08aa3e",
   "metadata": {},
   "source": [
    "Q7. Discuss the importance of choosing an appropriate evaluation metric for a classification problem and\n",
    "explain how this can be done.\n",
    "\n",
    "ans->Choosing an appropriate evaluation metric depends on the specific goals of the problem. Accuracy, precision, recall, and F1 score each emphasize different aspects of model performance.\n",
    "\n",
    "\n",
    "Q8. Provide an example of a classification problem where precision is the most important metric, and\n",
    "explain why.\n",
    "\n",
    "ans->Example: Fraud Detection\n",
    "In fraud detection, precision is crucial. False positives (incorrectly labeling a non-fraudulent transaction as fraud) should be minimized to avoid inconveniencing users. Precision helps measure this.\n",
    "\n",
    "\n",
    "Q9. Provide an example of a classification problem where recall is the most important metric, and explain\n",
    "why.\n",
    "\n",
    "ans-> Example: Disease Screening\n",
    "In disease screening, recall is vital. False negatives (missing a true positive, i.e., failing to detect the disease) can have severe consequences. Recall is prioritized to minimize such misses."
   ]
  },
  {
   "cell_type": "code",
   "execution_count": null,
   "id": "f2233888-89ed-4450-b1fb-d5f2f40016f8",
   "metadata": {},
   "outputs": [],
   "source": []
  }
 ],
 "metadata": {
  "kernelspec": {
   "display_name": "Python 3 (ipykernel)",
   "language": "python",
   "name": "python3"
  },
  "language_info": {
   "codemirror_mode": {
    "name": "ipython",
    "version": 3
   },
   "file_extension": ".py",
   "mimetype": "text/x-python",
   "name": "python",
   "nbconvert_exporter": "python",
   "pygments_lexer": "ipython3",
   "version": "3.10.8"
  }
 },
 "nbformat": 4,
 "nbformat_minor": 5
}
