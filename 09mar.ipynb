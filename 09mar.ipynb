{
 "cells": [
  {
   "cell_type": "markdown",
   "id": "cccd7508-4fff-467e-a339-ddf11355a042",
   "metadata": {},
   "source": [
    "Q1: What are the Probability Mass Function (PMF) and Probability Density Function (PDF)? Explain with an example.\n",
    "\n",
    "ans->Probability Mass Function (PMF) is for discrete random variables, providing the probability of each specific value. Probability Density Function (PDF) is for continuous variables, providing the probability within a range of values. For instance, a coin flip's outcomes have a PMF, while the heights of people in a population have a PDF."
   ]
  },
  {
   "cell_type": "markdown",
   "id": "f94289e3-ab05-4299-80e0-ff579a75dc42",
   "metadata": {},
   "source": [
    "Q2: What is Cumulative Density Function (CDF)? Explain with an example. Why CDF is used?\n",
    "\n",
    "ans->Cumulative Density Function (CDF) gives the probability that a random variable is less than or equal to a certain value. It's the cumulative sum of probabilities up to that point.\n",
    "\n",
    "Example: In rolling a fair six-sided die, the CDF at 3 would be the probability of getting 3 or less, which is 1/2.\n",
    "\n",
    "CDF is used to understand the distribution of a random variable and calculate probabilities for ranges of values."
   ]
  },
  {
   "cell_type": "markdown",
   "id": "927ccc09-bbdd-4639-ad68-7ade0e3229db",
   "metadata": {},
   "source": [
    "Q3: What are some examples of situations where the normal distribution might be used as a model? Explain how the parameters of the normal distribution relate to the shape of the distribution.\n",
    "\n",
    "ans->The normal distribution is used in situations where a continuous variable is influenced by multiple small, independent factors. Examples include heights and weights of people, errors in measurements, and IQ scores.\n",
    "\n",
    "Parameters:\n",
    "\n",
    "Mean (μ): Determines the center of the distribution.\n",
    "\n",
    "Standard Deviation (σ): Controls the spread or dispersion. Larger σ means wider spread.\n",
    "\n",
    "The mean shifts the distribution left/right, while the standard deviation affects how tall and narrow or short and wide the curve is."
   ]
  },
  {
   "cell_type": "markdown",
   "id": "2a82aa84-2690-4445-8e99-43d8b0a8e9ff",
   "metadata": {},
   "source": [
    "Q4: Explain the importance of Normal Distribution. Give a few real-life examples of Normal Distribution.\n",
    "\n",
    "ans->The normal distribution is crucial in statistics and probability due to its prevalence in natural phenomena and its mathematical properties, making it easier to analyze and predict outcomes. It serves as a foundation for various statistical methods.\n",
    "\n",
    "Examples of Normal Distribution in Real Life:\n",
    "\n",
    "Heights of people: Most people have heights clustered around the mean, with fewer individuals being extremely tall or short.\n",
    "\n",
    "IQ scores: IQ scores tend to follow a normal distribution, with most people scoring around the average and fewer scoring very low or very high.\n",
    "\n",
    "Measurement errors: Errors in measurements, such as in scientific experiments or manufacturing, often exhibit a normal distribution around the true value.\n",
    "\n",
    "Exam scores: In large groups, exam scores often approximate a normal distribution, with most students scoring near the mean and fewer at the extremes."
   ]
  },
  {
   "cell_type": "markdown",
   "id": "c44ab187-816a-4fd8-8177-0e22db1b39c4",
   "metadata": {},
   "source": [
    "Q5: What is Bernaulli Distribution? Give an Example. What is the difference between Bernoulli Distribution and Binomial Distribution?\n",
    "\n",
    "ans-> Bernoulli Distribution models a binary random variable, like a coin flip. It has two possible outcomes: success (usually denoted as 1) with probability p and failure (usually denoted as 0) with probability q = 1 - p.\n",
    "\n",
    "Example: Flipping a fair coin, where p(success) = 0.5 and q(failure) = 0.5.\n",
    "\n",
    "Difference between Bernoulli and Binomial Distribution:\n",
    "\n",
    "Bernoulli: Models a single trial with two outcomes (success/failure).\n",
    "\n",
    "Binomial: Models multiple independent Bernoulli trials. It gives the probability of having a specific number of successes in a fixed number of trials. The outcomes are still binary (success/failure), but the focus is on the number of successes.\n",
    "\n",
    "In short, Bernoulli is for one trial, while Binomial is for multiple trials."
   ]
  },
  {
   "cell_type": "markdown",
   "id": "c26be18d-ca72-41de-8530-f42ec5d4811e",
   "metadata": {},
   "source": [
    "Q6. Consider a dataset with a mean of 50 and a standard deviation of 10. If we assume that the dataset is normally distributed, what is the probability that a randomly selected observation will be greater than 60? Use the appropriate formula and show your calculations.\n",
    "\n",
    "ans->Z = (X - μ) / σ\n",
    "\n",
    "Calculating the Z-score:\n",
    "Z = (60 - 50) / 10 = 1\n",
    "\n",
    "Using a standard normal distribution table  we can find that the probability corresponding to Z = 1 is approximately 0.8413.\n",
    "\n",
    "Now, to find the probability of a value greater than 60:\n",
    "\n",
    "P(X > 60) = 1 - P(X ≤ 60)\n",
    "\n",
    "P(X > 60) = 1 - 0.8413\n",
    "\n",
    "P(X > 60) = 0.1587\n",
    "\n",
    "So, the probability that a randomly selected observation will be greater than 60 is approximately 0.1587 or 15.87%."
   ]
  },
  {
   "cell_type": "markdown",
   "id": "103f91c3-a3de-4132-bbf4-952743f0512b",
   "metadata": {},
   "source": [
    "Q7: Explain uniform Distribution with an example.\n",
    "\n",
    "ans->The uniform distribution, also known as the rectangular distribution, is a probability distribution where all outcomes in a given range are equally likely. In other words, each value within the range has the same probability of occurring. This distribution forms a flat, constant probability curve.\n",
    "\n",
    "Example: Imagine rolling a fair six-sided die. Each face has an equal chance of landing face up, and the outcomes are uniformly distributed. The probability of getting any specific number (1, 2, 3, 4, 5, or 6) is 1/6, as they're all equally likely."
   ]
  },
  {
   "cell_type": "markdown",
   "id": "843b0524-6da3-4608-bfa5-171a58f5b1f0",
   "metadata": {},
   "source": [
    "Q8: What is the z score? State the importance of the z score.\n",
    "\n",
    "ans->The Z-score (or standard score) is a measure that quantifies how many standard deviations a data point is away from the mean of a distribution. It's calculated using the formula:\n",
    "\n",
    "Z = (X - μ) / σ\n",
    "\n",
    "It's important because it standardizes data for comparisons, helps detect outliers, and is used in probability calculations and various statistical analyses."
   ]
  },
  {
   "cell_type": "markdown",
   "id": "d65ea670-9313-4e40-a636-548cb6991203",
   "metadata": {},
   "source": [
    "Q9: What is Central Limit Theorem? State the significance of the Central Limit Theorem.\n",
    "\n",
    "ans->The Central Limit Theorem (CLT) is a fundamental concept in statistics. It states that the distribution of the sample means from a large enough sample, regardless of the original population distribution, will tend to follow a normal distribution. This holds true even if the population distribution is not normal, as long as the sample size is sufficiently large.\n",
    "\n",
    "significance:\n",
    "\n",
    "it allows us to use normal distribution approximations for sample means, making statistical analysis and inference applicable to various situations."
   ]
  },
  {
   "cell_type": "markdown",
   "id": "c118674a-0574-46b5-95ac-362b595c736d",
   "metadata": {},
   "source": [
    "Q10: State the assumptions of the Central Limit Theorem.\n",
    "\n",
    "ans-> The assumptions of the Central Limit Theorem are:\n",
    "\n",
    "Independence: The data points in the sample must be independent of each other.\n",
    "\n",
    "Sample Size: The sample size should be sufficiently large. A common rule is a sample size of at least 30, but it can vary based on the original distribution.\n",
    "\n",
    "Sample Size/Skewness Relationship: For highly skewed populations, larger samples are needed to achieve normality in sample means.\n",
    "\n",
    "No Extreme Outliers: The presence of extreme outliers can affect the validity of the CLT."
   ]
  },
  {
   "cell_type": "code",
   "execution_count": null,
   "id": "4460b2f1-1155-47b4-a621-0a65c8f62c1f",
   "metadata": {},
   "outputs": [],
   "source": []
  }
 ],
 "metadata": {
  "kernelspec": {
   "display_name": "Python 3 (ipykernel)",
   "language": "python",
   "name": "python3"
  },
  "language_info": {
   "codemirror_mode": {
    "name": "ipython",
    "version": 3
   },
   "file_extension": ".py",
   "mimetype": "text/x-python",
   "name": "python",
   "nbconvert_exporter": "python",
   "pygments_lexer": "ipython3",
   "version": "3.10.8"
  }
 },
 "nbformat": 4,
 "nbformat_minor": 5
}
