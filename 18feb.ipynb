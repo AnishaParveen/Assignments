{
 "cells": [
  {
   "cell_type": "markdown",
   "id": "7f05ad51-14ab-43e9-9fdc-4776235f1c34",
   "metadata": {},
   "source": [
    "Q1. What is an API? Give an example, where an API is used in real life.\n",
    "\n",
    "ans->APIs are mechanisms that enable two software components to communicate with each other using a set of definitions and protocols.\n",
    "\n",
    "For example, The Google Maps API and Twitter API  \n",
    "\n",
    "Weather data is a popular API example that we come across regularly. Rich weather snippets appear ubiquitous, appearing on all platforms such as Google Search"
   ]
  },
  {
   "cell_type": "code",
   "execution_count": null,
   "id": "a04a4e40-10ea-49a4-ae91-2a75361d3f04",
   "metadata": {},
   "outputs": [],
   "source": []
  },
  {
   "cell_type": "markdown",
   "id": "c13a8d8f-6091-49ae-9cb8-6260f0514178",
   "metadata": {},
   "source": [
    "Q2. Give advantages and disadvantages of using API.\n",
    "\n",
    "ans->advantages:\n",
    "\n",
    "Efficiency: When you have content that is automatically published and made available on different channels simultaneously, APIs allow for more efficient data distribution.\n",
    "\n",
    "Adaptability: One of the greatest benefits of APIs is the ability it has to adapt to changes through data migration and flexibility of services.\n",
    "\n",
    "Applications: Access to APIs ensures more flexibility in information-transfer processes.\n",
    "\n",
    "Reach: APIs let you create layers in apps in order to distribute information to different audiences.\n",
    "\n",
    "Customization: Furthermore, it can serve as a solution to create different experiences for users, letting protocols, functions, and commands be adapted according to specific demands.\n",
    "\n",
    "disadvantages:\n",
    "\n",
    "1.Creating API is a very time-consuming process\n",
    "\n",
    "2.A fixed scale is necessary\n",
    "\n",
    "3.Imprecise boundary delineation\n",
    "\n",
    "4.To create API, programming knowledge is necessary\n",
    "\n",
    "5.Maintenance cost is very high\n",
    "\n",
    "6.It can crash when testing API"
   ]
  },
  {
   "cell_type": "code",
   "execution_count": null,
   "id": "3dba28c0-9daf-47a8-9b56-adf476af32b5",
   "metadata": {},
   "outputs": [],
   "source": []
  },
  {
   "cell_type": "markdown",
   "id": "e55eac7d-0bb6-48c0-999b-dfb98a3b5e4c",
   "metadata": {},
   "source": [
    "Q3. What is a Web API? Differentiate between API and Web API.\n",
    "\n",
    "ans->Web API is an extensible framework for building HTTP based services that can be accessed in different applications on different platforms such as web, windows, mobile etc.\n",
    "\n",
    "1.Web service is a collection of open source protocols and standards used for exchanging data between systems or applications, whereas API is a software interface that allows two applications to interact with each other without any user involvement.\n",
    "\n",
    "2.Web service is used for REST, SOAP, and XML-RPC for communication, while API is used for any style of communication.\n",
    "\n",
    "3.Web service supports only HTTP protocol, whereas API supports HTTP/HTTPS protocol.\n",
    "\n",
    "4.Web service supports XML, while API supports XML and JSON.\n",
    "\n",
    "5.All Web services are APIs, but all APIs are not web services."
   ]
  },
  {
   "cell_type": "code",
   "execution_count": null,
   "id": "31b31b02-b508-45ef-b752-62066e5a7171",
   "metadata": {},
   "outputs": [],
   "source": []
  },
  {
   "cell_type": "markdown",
   "id": "66bca936-c0dd-4dfc-97a2-dc0665ad4615",
   "metadata": {},
   "source": [
    "Q4. Explain REST and SOAP Architecture. Mention shortcomings of SOAP.\n",
    "\n",
    "ans->REST: representational state transfer:\n",
    "    \n",
    "REST is a set of architectural principles attuned to the needs of lightweight web services and mobile applications. Because it's a set of guidelines, it leaves the implementation of these recommendations to developers.\n",
    "\n",
    "A RESTful application must have:\n",
    "\n",
    "1.A client-server architecture composed of clients, servers, and resources.\n",
    "\n",
    "2.Stateless client-server communication, meaning no client content is stored on the server between requests. Information about the session’s state is instead held with the client.\n",
    "\n",
    "3.Cacheable data to eliminate the need for some client-server interactions.\n",
    "\n",
    "4.A uniform interface between components so that information is transferred in a standardized form instead of specific to an application’s needs. This is described by Roy Fielding, the originator of REST, as “the central feature that distinguishes the REST architectural style from other network-based styles.”\n",
    "\n",
    "5.A layered system constraint, where client-server interactions can be mediated by hierarchical layers.\n",
    "\n",
    "6.Code on demand, allowing servers to extend the functionality of a client by transferring executable code (though also reducing visibility, making this an optional guideline).\n",
    "\n",
    "SOAP: simple object access protocol:\n",
    "    \n",
    "SOAP is a standard protocol that was first designed so that applications built with different languages and on different platforms could communicate. Because it is a protocol, it imposes built-in rules that increase its complexity and overhead, which can lead to longer page load times.\n",
    "\n",
    "Common web service specifications include:\n",
    "\n",
    "1.Web services security (WS-security): Standardizes how messages are secured and transferred through unique identifiers called tokens.\n",
    "\n",
    "2.WS-ReliableMessaging: Standardizes error handling between messages transferred across unreliable IT infrastructure.\n",
    "\n",
    "3.Web services addressing (WS-addressing): Packages routing information as metadata within SOAP headers, instead of maintaining such information deeper within the network.\n",
    "\n",
    "4.Web services description language (WSDL): Describes what a web service does, and where that service begins and ends.\n",
    "\n",
    "shortcomings of SOAP:\n",
    "\n",
    "As SOAP can only transfer messages as XML files, your SOAP API will be less performant, as XML is a verbose format compared to JSON. API calls made to your server will need more bandwidth and it will take more time to process the request and transfer the response back to the client."
   ]
  },
  {
   "cell_type": "code",
   "execution_count": null,
   "id": "3b2a91d4-0f6c-4758-a16d-3ebfb0eb8b16",
   "metadata": {},
   "outputs": [],
   "source": []
  },
  {
   "cell_type": "markdown",
   "id": "632a7690-740b-4085-a34e-2eab841d722f",
   "metadata": {},
   "source": [
    "Q5. Differentiate between REST and SOAP.\n",
    "\n",
    "ans->1. REST is a set of guidelines that offers flexible implementation, whereas SOAP is a protocol with specific requirements like XML messaging.\n",
    "\n",
    "2.REST APIs are lightweight, making them ideal for newer contexts like the Internet of Things (IoT), mobile application development, and serverless computing. SOAP web services offer built-in security and transaction compliance that align with many enterprise needs, but that also makes them heavier. Additionally, many public APIs, like the Google Maps API, follow the REST guidelines."
   ]
  }
 ],
 "metadata": {
  "kernelspec": {
   "display_name": "Python 3 (ipykernel)",
   "language": "python",
   "name": "python3"
  },
  "language_info": {
   "codemirror_mode": {
    "name": "ipython",
    "version": 3
   },
   "file_extension": ".py",
   "mimetype": "text/x-python",
   "name": "python",
   "nbconvert_exporter": "python",
   "pygments_lexer": "ipython3",
   "version": "3.10.8"
  }
 },
 "nbformat": 4,
 "nbformat_minor": 5
}
