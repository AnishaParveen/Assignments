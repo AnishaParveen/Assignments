{
 "cells": [
  {
   "cell_type": "markdown",
   "id": "f5bf05e9-f9f1-48da-9703-f449de13ee79",
   "metadata": {},
   "source": [
    "Q1: What is Estimation Statistics? Explain point estimate and interval estimate.\n",
    "\n",
    "ans->Estimation Statistics involves approximating population parameters using sample data.\n",
    "\n",
    "A point estimate is a single value guess for the parameter, while an interval estimate provides a range of values, typically with a confidence level, within which the parameter is likely to lie based on the sample data. This helps account for uncertainty in the estimation process."
   ]
  },
  {
   "cell_type": "markdown",
   "id": "afa1005b-5694-4d54-8765-cfd0899f8d57",
   "metadata": {},
   "source": [
    "Q2. Write a Python function to estimate the population mean using a sample mean and standard\n",
    "deviation."
   ]
  },
  {
   "cell_type": "code",
   "execution_count": 1,
   "id": "764373bc-34ef-4651-9471-8074e1e8b834",
   "metadata": {},
   "outputs": [
    {
     "name": "stdout",
     "output_type": "stream",
     "text": [
      "Estimated mean: 75.00\n",
      "Confidence interval: [72.23, 77.77]\n"
     ]
    }
   ],
   "source": [
    "import scipy.stats as stats\n",
    "\n",
    "def estimate_population_mean(sample_mean, sample_std_dev, sample_size, confidence_level=0.95):\n",
    "    margin_of_error = stats.norm.ppf(1 - (1 - confidence_level) / 2) * (sample_std_dev / (sample_size ** 0.5))\n",
    "    lower_bound = sample_mean - margin_of_error\n",
    "    upper_bound = sample_mean + margin_of_error\n",
    "    return lower_bound, upper_bound\n",
    "\n",
    "# Example usage\n",
    "sample_mean = 75\n",
    "sample_std_dev = 10\n",
    "sample_size = 50\n",
    "lower_bound, upper_bound = estimate_population_mean(sample_mean, sample_std_dev, sample_size)\n",
    "print(f\"Estimated mean: {sample_mean:.2f}\")\n",
    "print(f\"Confidence interval: [{lower_bound:.2f}, {upper_bound:.2f}]\")\n"
   ]
  },
  {
   "cell_type": "markdown",
   "id": "e1941a61-2125-4871-9786-de9f3a245643",
   "metadata": {},
   "source": [
    "Q3: What is Hypothesis testing? Why is it used? State the importance of Hypothesis testing.\n",
    "\n",
    "ans->Hypothesis testing is a statistical method used to make decisions about a population based on sample data. It involves formulating two competing hypotheses: a null hypothesis (H0) and an alternative hypothesis (H1). The null hypothesis usually represents the status quo or no effect, while the alternative hypothesis suggests a specific effect or change.\n",
    "\n",
    "Hypothesis testing is vital for informed decisions, scientific rigor, data-driven insights, quality control, and effective problem-solving. It provides a structured process to draw conclusions from data, aiding accurate decision-making and advancing knowledge."
   ]
  },
  {
   "cell_type": "markdown",
   "id": "84ee6083-e080-44c0-b909-8f08addd0cde",
   "metadata": {},
   "source": [
    "Q4. Create a hypothesis that states whether the average weight of male college students is greater than the average weight of female college students.\n",
    "\n",
    "ans->Null Hypothesis (H0): The average weight of male college students is  greater than the average weight of female college students.\n",
    "\n",
    "Alternative Hypothesis (H1): The average weight of male college students is not greater than the average weight of female college students."
   ]
  },
  {
   "cell_type": "markdown",
   "id": "724c6bfb-caa6-42b9-a7e0-64875dbc8f08",
   "metadata": {},
   "source": [
    "Q5. Write a Python script to conduct a hypothesis test on the difference between two population means, given a sample from each population."
   ]
  },
  {
   "cell_type": "code",
   "execution_count": 2,
   "id": "04314ef0-746b-4452-a0ce-413cd28a8a96",
   "metadata": {},
   "outputs": [
    {
     "name": "stdout",
     "output_type": "stream",
     "text": [
      "t-statistic: 6.490973991846827\n",
      "p-value: 4.188941878863609e-06\n",
      "Conclusion: Reject the null hypothesis\n"
     ]
    }
   ],
   "source": [
    "import scipy.stats as stats\n",
    "\n",
    "# Sample data from two populations\n",
    "sample1 = [68, 72, 74, 70, 68, 75, 71, 73, 69, 72]\n",
    "sample2 = [62, 65, 66, 64, 63, 67, 61, 68, 65, 62]\n",
    "\n",
    "# Set the significance level (alpha)\n",
    "alpha = 0.05\n",
    "\n",
    "# Perform a two-sample t-test\n",
    "t_statistic, p_value = stats.ttest_ind(sample1, sample2)\n",
    "\n",
    "# Compare p-value with significance level\n",
    "if p_value < alpha:\n",
    "    conclusion = \"Reject the null hypothesis\"\n",
    "else:\n",
    "    conclusion = \"Fail to reject the null hypothesis\"\n",
    "\n",
    "# Display results\n",
    "print(\"t-statistic:\", t_statistic)\n",
    "print(\"p-value:\", p_value)\n",
    "print(\"Conclusion:\", conclusion)\n"
   ]
  },
  {
   "cell_type": "markdown",
   "id": "328b8c0e-ffaa-4897-9389-0e5038683195",
   "metadata": {},
   "source": [
    "Q6: What is a null and alternative hypothesis? Give some examples.\n",
    "\n",
    "ans->A null hypothesis (H0) is a statement that there is no significant difference or effect, essentially representing the status quo or the absence of an expected effect. An alternative hypothesis (H1), on the other hand, proposes a specific difference or effect, indicating a change from the status .\n",
    "\n",
    "Example: Coin Toss\n",
    "\n",
    "Null Hypothesis (H0): The coin is fair (50% chance of heads and 50% chance of tails).\n",
    "\n",
    "Alternative Hypothesis (H1): The coin is biased (not 50% chance for both outcomes)."
   ]
  },
  {
   "cell_type": "markdown",
   "id": "d7721420-298b-4d82-a22e-15bc7c8298c2",
   "metadata": {},
   "source": [
    "Q7: Write down the steps involved in hypothesis testing.\n",
    "\n",
    "ans->Formulate Hypotheses:\n",
    "\n",
    "Define the null hypothesis (H0), which represents the absence of an effect or no difference.\n",
    "\n",
    "Define the alternative hypothesis (Ha), which states the specific effect or difference you're testing for.\n",
    "\n",
    "Select Significance Level (Alpha):\n",
    "\n",
    "Choose the significance level (α), often set to 0.05, to determine the threshold for considering results statistically significant.\n",
    "\n",
    "Collect and Prepare Data:\n",
    "\n",
    "Gather relevant sample data for analysis.\n",
    "Ensure data meets assumptions for the chosen statistical test.\n",
    "\n",
    "Choose a Statistical Test:\n",
    "\n",
    "Select an appropriate statistical test based on the data type, sample size, and research question (e.g., t-test, ANOVA, chi-squared test).\n",
    "\n",
    "Calculate Test Statistic:\n",
    "\n",
    "Calculate the appropriate test statistic based on the chosen test and the data.\n",
    "\n",
    "Determine P-value:\n",
    "\n",
    "Calculate or find the p-value associated with the test statistic. The p-value indicates the probability of observing the data if the null hypothesis is true.\n",
    "\n",
    "Compare P-value and Alpha:\n",
    "\n",
    "Compare the calculated p-value with the chosen significance level (α).\n",
    "If p-value < α, results are considered statistically significant, and you might reject the null hypothesis.\n",
    "\n",
    "Draw a Conclusion:\n",
    "\n",
    "If p-value < α, reject the null hypothesis in favor of the alternative hypothesis.\n",
    "If p-value ≥ α, fail to reject the null hypothesis due to insufficient evidence."
   ]
  },
  {
   "cell_type": "markdown",
   "id": "ac774484-6521-4289-9ee2-6c41e1fa9570",
   "metadata": {},
   "source": [
    "Q8. Define p-value and explain its significance in hypothesis testing.\n",
    "\n",
    "ans->The p-value, short for \"probability value,\" is a crucial concept in hypothesis testing. It quantifies the strength of evidence against the null hypothesis (H0) based on the observed sample data. The p-value represents the probability of obtaining results as extreme as or more extreme than the ones observed, assuming that the null hypothesis is true.\n",
    "\n",
    "A low p-value indicates strong evidence against the null hypothesis. Researchers compare the p-value to a significance level (alpha) to decide whether to reject the null hypothesis. It quantifies the strength of evidence and guides informed decisions in statistical analysis."
   ]
  },
  {
   "cell_type": "markdown",
   "id": "eb3f82f1-180c-43b0-bacd-5055d6a6d13d",
   "metadata": {},
   "source": [
    "Q9. Generate a Student's t-distribution plot using Python's matplotlib library, with the degrees of freedom parameter set to 10."
   ]
  },
  {
   "cell_type": "code",
   "execution_count": 5,
   "id": "0b520367-3067-4ed1-864d-19fb48328536",
   "metadata": {},
   "outputs": [
    {
     "data": {
      "image/png": "[encoded data removed]",
      "text/plain": [
       "<Figure size 640x480 with 1 Axes>"
      ]
     },
     "metadata": {},
     "output_type": "display_data"
    }
   ],
   "source": [
    "import numpy as np\n",
    "import matplotlib.pyplot as plt\n",
    "import scipy.stats as stats\n",
    "\n",
    "# Degrees of freedom\n",
    "df = 10\n",
    "\n",
    "# Generate x values\n",
    "x = np.linspace(-5, 5, 400)\n",
    "\n",
    "# Calculate the corresponding y values from the t-distribution\n",
    "y = stats.t.pdf(x, df)\n",
    "\n",
    "# Create the plot\n",
    "plt.plot(x, y, label=f'df = {df}')\n",
    "plt.title(\"Student's t-Distribution\")\n",
    "plt.xlabel('x')\n",
    "plt.ylabel('Probability Density')\n",
    "plt.legend()\n",
    "plt.grid(True)\n",
    "plt.show()\n"
   ]
  },
  {
   "cell_type": "markdown",
   "id": "c9016bcd-e690-45e2-866e-e9b840f83057",
   "metadata": {},
   "source": [
    "Q10. Write a Python program to calculate the two-sample t-test for independent samples, given two random samples of equal size and a null hypothesis that the population means are equal."
   ]
  },
  {
   "cell_type": "code",
   "execution_count": 7,
   "id": "ec9d6a97-d6a0-413a-81d1-6c16456e05f3",
   "metadata": {},
   "outputs": [
    {
     "name": "stdout",
     "output_type": "stream",
     "text": [
      "t-statistic: -3.570292418249132\n",
      "p-value: 0.007290568113605158\n",
      "Conclusion: Reject the null hypothesis\n"
     ]
    }
   ],
   "source": [
    "import numpy as np\n",
    "import scipy.stats as stats\n",
    "\n",
    "sample1 = np.array([23, 25, 27, 21, 26])\n",
    "sample2 = np.array([28, 30, 29, 31, 27])\n",
    "\n",
    "t_statistic, p_value = stats.ttest_ind(sample1, sample2)\n",
    "\n",
    "alpha = 0.05\n",
    "if p_value < alpha:\n",
    "    conclusion = \"Reject the null hypothesis\"\n",
    "else:\n",
    "    conclusion = \"Fail to reject the null hypothesis\"\n",
    "\n",
    "print(\"t-statistic:\", t_statistic)\n",
    "print(\"p-value:\", p_value)\n",
    "print(\"Conclusion:\", conclusion)\n"
   ]
  },
  {
   "cell_type": "markdown",
   "id": "3483378e-1076-4c10-9340-5bc17a32b560",
   "metadata": {},
   "source": [
    "Q11: What is Student’s t distribution? When to use the t-Distribution.\n",
    "\n",
    "ans->Student's t-distribution, often referred to as simply the t-distribution, is a probability distribution that is used in statistics for estimating population parameters, specifically the population mean, when the sample size is small and the population standard deviation is unknown. It is similar to the normal distribution but has heavier tails, which makes it more suitable for smaller sample sizes."
   ]
  },
  {
   "cell_type": "markdown",
   "id": "b068689e-e660-4c9c-959f-1733bea42860",
   "metadata": {},
   "source": [
    "Q12: What is t-statistic? State the formula for t-statistic.\n",
    "\n",
    "ans->The t-statistic is a value that measures the difference between the sample mean and the hypothesized population mean in terms of standard error. It is used in hypothesis testing to determine whether the observed difference between sample data and a population parameter is statistically significant.\n",
    "\n",
    "T=(m-μ)/(s/√n)\n",
    "\n",
    "T = t-statistic\n",
    "m = mean of the group\n",
    "μ= theoretical mean value of the population\n",
    "s = standard deviation of the group\n",
    "n = sample size"
   ]
  },
  {
   "cell_type": "markdown",
   "id": "d26e22e2-5620-4c54-aac4-836d27e9a119",
   "metadata": {},
   "source": [
    "Q13. A coffee shop owner wants to estimate the average daily revenue for their shop. They take a random sample of 50 days and find the sample mean revenue to be 500  with a standard deviation of 50. Estimate the population mean revenue with a 95% confidence interval."
   ]
  },
  {
   "cell_type": "markdown",
   "id": "1513209d-d437-43d3-8d94-b6d8924f3a9b",
   "metadata": {},
   "source": [
    "The critical value for a 95% confidence interval is approximately 1.96\n",
    "\n",
    "Standard Error(SE) = s/√n = 50/√50=7.07\n",
    "\n",
    "The margin of error(ME)=SE×Critical Value=7.07×1.96≈13.86\n",
    "\n",
    "Confidence Interval= 500 ± 13.86\n",
    "\n",
    "So, the 95% confidence interval for the population mean revenue is approximately 486.14 to 513.86. This means that we can be 95% confident that the true average daily revenue for the coffee shop falls within this range based on the sample data."
   ]
  },
  {
   "cell_type": "markdown",
   "id": "18ec78a7-447f-4c2f-9b9b-56ce1643b26d",
   "metadata": {},
   "source": [
    "Q14. A researcher hypothesizes that a new drug will decrease blood pressure by 10 mmHg. They conduct a\n",
    "clinical trial with 100 patients and find that the sample mean decrease in blood pressure is 8 mmHg with a\n",
    "standard deviation of 3 mmHg. Test the hypothesis with a significance level of 0.05.\n"
   ]
  },
  {
   "cell_type": "markdown",
   "id": "c8dc05be-335c-42c9-95b6-1e1043bc2415",
   "metadata": {},
   "source": [
    "t = (8-10)/(3/√100)=−2.67\n",
    "\n",
    "With a significance of 0.05 and a two-tailed test the critical value is approximately ±1.984.\n",
    "\n",
    "Since ∣t∣>1.984, you reject the null hypothesis. This means there is evidence to suggest that the new drug does decrease blood pressure by a different amount than the hypothesized 10 mmHg."
   ]
  },
  {
   "cell_type": "markdown",
   "id": "11158e72-2607-4599-9088-ecb0304dbd31",
   "metadata": {},
   "source": [
    "Q15. An electronics company produces a certain type of product with a mean weight of 5 pounds and a standard deviation of 0.5 pounds. A random sample of 25 products is taken, and the sample mean weight is found to be 4.8 pounds. Test the hypothesis that the true mean weight of the products is less than 5 pounds with a significance level of 0.01."
   ]
  },
  {
   "cell_type": "markdown",
   "id": "11e837f6-6b66-4e2e-b24a-a13f9e6d11ac",
   "metadata": {},
   "source": [
    "t=(4.8−5)/(0.5/√25)=-2.0\n",
    "\n",
    "The critical value for a lower-tailed test at α=0.01 is approximately -2.492.\n",
    "\n",
    "Since −2.0 < −2.492, you reject the null hypothesis. This means there is evidence to suggest that the true mean weight of the products is less than 5 pounds."
   ]
  },
  {
   "cell_type": "markdown",
   "id": "50f67404-0361-43c9-aade-646b60c0ba57",
   "metadata": {},
   "source": [
    "Q16. Two groups of students are given different study materials to prepare for a test. The first group (n1 =30) has a mean score of 80 with a standard deviation of 10, and the second group (n2 = 40) has a meanscore of 75 with a standard deviation of 8. Test the hypothesis that the population meansfor the two groups are equal with a significance level of 0.01."
   ]
  },
  {
   "cell_type": "code",
   "execution_count": 10,
   "id": "863dc681-e523-4e54-aaa5-b8173996d151",
   "metadata": {},
   "outputs": [
    {
     "name": "stdout",
     "output_type": "stream",
     "text": [
      "t-statistic: 2.323967729699292\n",
      "p-value: 0.02312301341372599\n",
      "Conclusion: Fail to reject the null hypothesis\n"
     ]
    }
   ],
   "source": [
    "import scipy.stats as stats\n",
    "\n",
    "# Given data\n",
    "mean1, std_dev1, n1 = 80, 10, 30\n",
    "mean2, std_dev2, n2 = 75, 8, 40\n",
    "\n",
    "# Calculate t-statistic and p-value\n",
    "t_statistic, p_value = stats.ttest_ind_from_stats(mean1, std_dev1, n1, mean2, std_dev2, n2)\n",
    "\n",
    "alpha = 0.01\n",
    "if p_value < alpha:\n",
    "    conclusion = \"Reject the null hypothesis\"\n",
    "else:\n",
    "    conclusion = \"Fail to reject the null hypothesis\"\n",
    "\n",
    "print(\"t-statistic:\", t_statistic)\n",
    "print(\"p-value:\", p_value)\n",
    "print(\"Conclusion:\", conclusion)\n"
   ]
  },
  {
   "cell_type": "markdown",
   "id": "4fa05b10-1398-4cc2-b0bf-9da111471da4",
   "metadata": {},
   "source": [
    "Q17. A marketing company wants to estimate the average number of ads watched by viewers during a TV program. They take a random sample of 50 viewers and find that the sample mean is 4 with a standard deviation of 1.5. Estimate the population mean with a 99% confidence interval."
   ]
  },
  {
   "cell_type": "code",
   "execution_count": 11,
   "id": "7f3cb123-8fb8-41be-a8c9-3c23f65005cb",
   "metadata": {},
   "outputs": [
    {
     "name": "stdout",
     "output_type": "stream",
     "text": [
      "Confidence Interval: (3.4314963358572577, 4.568503664142742)\n"
     ]
    }
   ],
   "source": [
    "import scipy.stats as stats\n",
    "import math\n",
    "\n",
    "# Given values\n",
    "sample_mean = 4\n",
    "standard_deviation = 1.5\n",
    "sample_size = 50\n",
    "confidence_level = 0.99\n",
    "\n",
    "# Calculate the critical value\n",
    "degrees_of_freedom = sample_size - 1\n",
    "critical_value = stats.t.ppf((1 + confidence_level) / 2, df=degrees_of_freedom)\n",
    "\n",
    "# Calculate the standard error\n",
    "standard_error = standard_deviation / math.sqrt(sample_size)\n",
    "\n",
    "# Calculate the margin of error\n",
    "margin_of_error = critical_value * standard_error\n",
    "\n",
    "# Calculate the confidence interval\n",
    "lower_bound = sample_mean - margin_of_error\n",
    "upper_bound = sample_mean + margin_of_error\n",
    "\n",
    "print(f\"Confidence Interval: ({lower_bound}, {upper_bound})\")\n"
   ]
  },
  {
   "cell_type": "code",
   "execution_count": null,
   "id": "c040cc44-c9be-4fb4-b777-3f2bee74e4d2",
   "metadata": {},
   "outputs": [],
   "source": []
  }
 ],
 "metadata": {
  "kernelspec": {
   "display_name": "Python 3 (ipykernel)",
   "language": "python",
   "name": "python3"
  },
  "language_info": {
   "codemirror_mode": {
    "name": "ipython",
    "version": 3
   },
   "file_extension": ".py",
   "mimetype": "text/x-python",
   "name": "python",
   "nbconvert_exporter": "python",
   "pygments_lexer": "ipython3",
   "version": "3.10.8"
  }
 },
 "nbformat": 4,
 "nbformat_minor": 5
}
